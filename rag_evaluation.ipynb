{
 "cells": [
  {
   "cell_type": "code",
   "execution_count": 50,
   "metadata": {},
   "outputs": [],
   "source": [
    "import pandas as pd \n",
    "import json\n",
    "from elasticsearch import Elasticsearch\n",
    "from sentence_transformers import SentenceTransformer\n",
    "from tqdm.auto import tqdm\n",
    "from openai import OpenAI\n",
    "import seaborn as sns\n",
    "import matplotlib.pyplot as plt\n"
   ]
  },
  {
   "cell_type": "markdown",
   "metadata": {},
   "source": [
    "Loading documents with IDs"
   ]
  },
  {
   "cell_type": "code",
   "execution_count": 2,
   "metadata": {},
   "outputs": [],
   "source": [
    "#loading data\n",
    "with open('documents-with-ids.json', 'r') as file:  # Replace 'data.json' with the path to your file\n",
    "    data = json.load(file)"
   ]
  },
  {
   "cell_type": "code",
   "execution_count": 3,
   "metadata": {},
   "outputs": [
    {
     "data": {
      "text/plain": [
       "{'body': '12 Jul 2022 byAngelica Lo Duca',\n",
       " 'Title': 'Building a Data Science Team',\n",
       " 'id': '024e0acf'}"
      ]
     },
     "execution_count": 3,
     "metadata": {},
     "output_type": "execute_result"
    }
   ],
   "source": [
    "data[10]"
   ]
  },
  {
   "cell_type": "markdown",
   "metadata": {},
   "source": [
    "Loading Ground Truth data"
   ]
  },
  {
   "cell_type": "code",
   "execution_count": 4,
   "metadata": {},
   "outputs": [
    {
     "data": {
      "text/plain": [
       "{'question': 'What is the main focus of machine learning engineers?',\n",
       " 'title': 'Roles in a Data Team',\n",
       " 'body': 'Machine learning engineers take whatever data scientists build and help them scale it up. They also ensure that the service is maintainable and that the team follows the best engineering practices. Their focus is more on engineering than on modeling. The skills ML engineers have are similar to that of data engineers: Additionally, ML engineers work closely with more “traditional” engineers, like backend engineers, frontend engineers, or mobile engineers, to ensure that the services from the data team are included in the final product. For our example, ML engineers work together with data scientists on productionizing the category suggestion services. They make sure it’s stable once it’s rolled out to all the users. They must also ensure that it’s maintainable and it’s possible to make changes to the service in the future. There’s another kind of engineer that can be pretty important in a data team — site reliability engineers.',\n",
       " 'document': 'f10a49a7'}"
      ]
     },
     "execution_count": 4,
     "metadata": {},
     "output_type": "execute_result"
    }
   ],
   "source": [
    "df_ground_truth = pd.read_csv('ground-truth-data.csv')\n",
    "ground_truth = df_ground_truth.to_dict(orient='records')\n",
    "ground_truth[10]"
   ]
  },
  {
   "cell_type": "code",
   "execution_count": 5,
   "metadata": {},
   "outputs": [
    {
     "data": {
      "text/plain": [
       "'12 Jul 2022 byAngelica Lo Duca'"
      ]
     },
     "execution_count": 5,
     "metadata": {},
     "output_type": "execute_result"
    }
   ],
   "source": [
    "doc_idx = {d['id']: d for d in data}\n",
    "doc_idx['024e0acf']['body']"
   ]
  },
  {
   "cell_type": "code",
   "execution_count": 6,
   "metadata": {},
   "outputs": [
    {
     "data": {
      "text/plain": [
       "{'body': 'A typical data team consists of the following roles: All these people work to create a data product. To explain the core responsibilities of each role, we will use a case scenario: Suppose we work at an online classifieds company. It’s a platform where users can go to sell things they don’t need (like OLX, where I work). If a user has an iPhone they want to sell — they go to this website, create a listing and sell their phone. On this platform, sellers sometimes have problems with identifying the correct category for the items they are selling. To help them, we want to build a service that suggests the best category. To sell their iPhone, the user creates a listing and the site needs to automatically understand that this iPhone has to go in the “mobile phones” category. Let’s start with the first role: product manager.',\n",
       " 'Title': 'Roles in a Data Team',\n",
       " 'id': '80c6bcf6'}"
      ]
     },
     "execution_count": 6,
     "metadata": {},
     "output_type": "execute_result"
    }
   ],
   "source": [
    "# merging the ground truth dict and data dict on 'id' to get the questions on the data dict\n",
    "for i in data:\n",
    "    for j in ground_truth:\n",
    "        if j['document'] == i['id']:\n",
    "            # Add the `question` key and value from dict1 to dict2\n",
    "            i['question'] = j['question']\n",
    "\n",
    "# Print the updated dict2\n",
    "data[1]\n"
   ]
  },
  {
   "cell_type": "markdown",
   "metadata": {},
   "source": [
    "Indexing Data"
   ]
  },
  {
   "cell_type": "code",
   "execution_count": 9,
   "metadata": {},
   "outputs": [],
   "source": [
    "es_client = Elasticsearch('http://localhost:9200') "
   ]
  },
  {
   "cell_type": "code",
   "execution_count": 10,
   "metadata": {},
   "outputs": [
    {
     "data": {
      "text/plain": [
       "ObjectApiResponse({'acknowledged': True, 'shards_acknowledged': True, 'index': 'data-roles-questions'})"
      ]
     },
     "execution_count": 10,
     "metadata": {},
     "output_type": "execute_result"
    }
   ],
   "source": [
    "index_settings = {\n",
    "    \"settings\": {\n",
    "        \"number_of_shards\": 1,\n",
    "        \"number_of_replicas\": 0\n",
    "    },\n",
    "    \"mappings\": {\n",
    "        \"properties\": {\n",
    "            \"heading\": {\"type\": \"text\"},\n",
    "            \"body\": {\"type\": \"text\"},\n",
    "            \"question\": {\"type\": \"text\"},\n",
    "            \"Title\": {\"type\": \"keyword\"} ,\n",
    "            \"id\": {\"type\": \"keyword\"},\n",
    "            \"question_text_vector\": {\n",
    "                \"type\": \"dense_vector\",\n",
    "                \"dims\": 768,\n",
    "                \"index\": True,\n",
    "                \"similarity\": \"cosine\"\n",
    "            },\n",
    "        }\n",
    "    }\n",
    "}\n",
    "\n",
    "index_name = \"data-roles-questions\"\n",
    "\n",
    "es_client.indices.delete(index=index_name, ignore_unavailable=True)\n",
    "es_client.indices.create(index=index_name, body=index_settings)"
   ]
  },
  {
   "cell_type": "markdown",
   "metadata": {},
   "source": [
    "Loading model embedding"
   ]
  },
  {
   "cell_type": "code",
   "execution_count": 11,
   "metadata": {},
   "outputs": [
    {
     "name": "stderr",
     "output_type": "stream",
     "text": [
      "/home/purity/.local/share/virtualenvs/llm-zoomcamp-18Y2mSdS/lib/python3.10/site-packages/transformers/tokenization_utils_base.py:1617: FutureWarning: `clean_up_tokenization_spaces` was not set. It will be set to `True` by default. This behavior will be deprecated in transformers v4.45, and will be then set to `False` by default. For more details check this issue: https://github.com/huggingface/transformers/issues/31884\n",
      "  warnings.warn(\n",
      "/home/purity/.local/share/virtualenvs/llm-zoomcamp-18Y2mSdS/lib/python3.10/site-packages/torch/cuda/__init__.py:128: UserWarning: CUDA initialization: CUDA unknown error - this may be due to an incorrectly set up environment, e.g. changing env variable CUDA_VISIBLE_DEVICES after program start. Setting the available devices to be zero. (Triggered internally at ../c10/cuda/CUDAFunctions.cpp:108.)\n",
      "  return torch._C._cuda_getDeviceCount() > 0\n"
     ]
    }
   ],
   "source": [
    "model = SentenceTransformer(\"all-mpnet-base-v2\")"
   ]
  },
  {
   "cell_type": "code",
   "execution_count": 13,
   "metadata": {},
   "outputs": [
    {
     "data": {
      "text/plain": [
       "array([ 5.70629872e-02,  5.37785189e-03,  4.84102499e-03,  5.20084053e-03,\n",
       "       -4.34548929e-02, -5.61786816e-03,  7.75832385e-02,  8.30628630e-03,\n",
       "       -1.60205755e-02,  2.05813553e-02,  4.17552963e-02,  4.03706059e-02,\n",
       "        5.91600221e-03,  4.60194275e-02,  2.21639872e-02,  3.26464623e-02,\n",
       "        4.81393151e-02,  6.73986375e-02, -4.75985669e-02, -2.03411235e-03,\n",
       "       -3.89140323e-02,  2.10396256e-02, -3.76126431e-02, -6.36897403e-06,\n",
       "        3.51941586e-02,  3.90307941e-02,  4.87847589e-02, -2.91396095e-03,\n",
       "       -5.34133799e-02, -5.78989834e-02,  1.68280862e-02, -2.06187889e-02,\n",
       "       -3.13282758e-02,  1.27918376e-02,  1.92767425e-06, -2.26725955e-02,\n",
       "       -5.53324819e-02,  2.16679592e-02,  3.12046874e-02,  5.63912420e-03,\n",
       "        1.72224138e-02, -3.89154591e-02, -9.77614801e-03,  5.90093853e-03,\n",
       "       -4.52275351e-02, -6.13026954e-02,  3.54369101e-03,  4.31575067e-02,\n",
       "       -2.42418423e-02,  7.17974529e-02, -1.27895772e-02,  2.02247072e-02,\n",
       "        2.09246222e-02, -5.60621032e-03,  1.64501946e-02, -1.10725444e-02,\n",
       "       -8.49839300e-03,  1.80816557e-02, -6.23303019e-02,  4.38467078e-02,\n",
       "        4.55000736e-02,  3.07667777e-02, -1.77808199e-02, -1.59389563e-02,\n",
       "       -4.20170166e-02,  1.84493829e-02, -1.72576662e-02, -7.65242279e-02,\n",
       "        2.17202567e-02, -1.41235581e-02,  9.04089883e-02, -2.13309042e-02,\n",
       "        5.00282086e-02,  6.33192658e-02, -4.40690666e-02,  7.37712160e-02,\n",
       "        1.94238257e-02, -1.80123597e-02, -3.44705507e-02,  8.89439043e-03,\n",
       "        2.04968639e-02,  6.99995551e-03,  2.53160787e-03, -9.88490693e-03,\n",
       "        2.68680770e-02,  9.51152071e-02, -2.45989170e-02,  1.40254656e-02,\n",
       "        3.78261991e-02, -2.36392231e-03,  2.66388040e-02, -1.59173664e-02,\n",
       "        1.13403201e-02,  4.96663852e-03,  3.61230038e-02,  1.97057761e-02,\n",
       "        1.24605969e-02,  2.94782538e-02,  4.30760272e-02, -5.73076606e-02,\n",
       "       -3.27356867e-02,  5.39701839e-04,  1.99775230e-02,  1.39379092e-02,\n",
       "        1.74488984e-02, -4.13882658e-02, -7.38463774e-02, -2.19507683e-02,\n",
       "       -5.76484995e-03,  9.18616541e-03, -5.98801905e-03,  1.52552193e-02,\n",
       "        3.61464196e-03, -7.76087269e-02, -1.06487749e-02,  1.39676193e-02,\n",
       "       -4.69013304e-02, -1.31018022e-02,  3.86243165e-02,  7.16180354e-02,\n",
       "       -3.96982692e-02,  3.49829830e-02, -2.75405813e-02, -4.57645801e-04,\n",
       "       -3.15714441e-02,  5.33421077e-02, -5.86437574e-03, -2.74151866e-03,\n",
       "       -9.18949209e-03, -1.12296743e-02,  9.89329163e-03,  2.98588444e-03,\n",
       "        2.95322426e-02, -2.38424521e-02,  1.09963270e-03,  1.88205368e-03,\n",
       "       -8.43310915e-03,  1.66341546e-03,  4.25945371e-02, -1.78412627e-02,\n",
       "       -2.75315270e-02, -2.78120320e-02,  1.71320997e-02,  1.13233682e-02,\n",
       "       -1.04438039e-02, -9.87911015e-04,  1.02798268e-03, -2.56161261e-02,\n",
       "       -1.52005181e-02,  2.59683002e-03, -6.23326898e-02, -3.91823314e-02,\n",
       "       -5.52499779e-02, -3.89318191e-03, -8.05983879e-03,  1.61059331e-02,\n",
       "        4.43064906e-02, -2.05502249e-02, -1.85799990e-02, -1.70181207e-02,\n",
       "        8.06793221e-04,  1.93029307e-04, -2.49568969e-02, -3.15193832e-02,\n",
       "        6.03486486e-02,  9.87566169e-03,  3.26970629e-02,  2.90780533e-02,\n",
       "       -4.88347970e-02, -6.16244157e-04, -2.33333539e-02,  2.50137448e-02,\n",
       "       -4.89416979e-02,  7.27151781e-02,  6.86152093e-03,  6.87195454e-04,\n",
       "       -9.14940536e-02,  6.60359813e-03, -6.36706427e-02,  1.95630733e-02,\n",
       "        5.63593470e-02,  8.51820223e-03, -3.28397900e-02,  1.79129299e-02,\n",
       "        1.86055079e-02,  1.59118120e-02,  1.17263785e-02, -1.16428807e-02,\n",
       "        7.87469558e-03, -1.82398930e-02,  3.38512771e-02,  1.08693438e-02,\n",
       "       -2.11225785e-02, -2.37909593e-02,  8.60471930e-03, -2.20679678e-02,\n",
       "       -2.45278049e-03, -1.40750008e-02,  2.11355146e-02,  1.95424799e-02,\n",
       "       -1.46747315e-02, -3.93177383e-02,  5.94259836e-02, -5.28058447e-02,\n",
       "        4.37210919e-03,  3.06509603e-02,  3.52312550e-02,  1.04254512e-02,\n",
       "       -5.92746865e-03,  2.00521536e-02, -8.09402242e-02,  3.55857126e-02,\n",
       "        1.26806917e-02,  1.18374061e-02,  1.37325712e-02, -8.38455185e-02,\n",
       "       -7.73888174e-03,  1.69509314e-02, -3.24884290e-03,  9.49150175e-02,\n",
       "       -7.85611570e-03,  2.26262063e-02, -3.89475226e-02, -1.75744630e-02,\n",
       "       -3.11138295e-03,  5.38529977e-02, -3.92715521e-02,  1.09321577e-03,\n",
       "       -9.13527515e-03,  8.39398615e-03, -2.48831864e-02,  2.97144353e-02,\n",
       "        5.61008090e-03,  4.86351326e-02,  4.12390903e-02,  7.39791244e-02,\n",
       "        4.38906290e-02,  5.95851503e-02, -1.81707237e-02, -6.88973516e-02,\n",
       "        1.82194225e-02, -5.39458636e-03, -1.01309931e-02,  1.05290096e-02,\n",
       "        1.82133950e-02,  2.54250709e-02,  1.00894701e-02, -2.26897337e-02,\n",
       "       -1.52888848e-02,  1.75682234e-03,  4.24937047e-02,  5.70264608e-02,\n",
       "        5.84813068e-03,  2.06818152e-02,  4.43557240e-02,  8.80874600e-03,\n",
       "       -3.49653885e-02,  1.66532192e-02, -4.65542749e-02,  7.86240213e-03,\n",
       "        1.40976184e-03, -1.66046266e-02, -1.16620567e-02, -2.93827280e-02,\n",
       "       -2.59138197e-02, -3.98686193e-02,  1.48032270e-02,  2.82756295e-02,\n",
       "        3.21299350e-03,  1.93934850e-02, -3.16489972e-02,  3.05976979e-02,\n",
       "       -2.89346389e-02, -3.69629823e-03,  8.22100206e-04,  6.45424239e-03,\n",
       "       -2.85036229e-02,  6.68716133e-02,  3.44582740e-03, -4.43661818e-03,\n",
       "       -6.71382993e-03,  7.96385780e-02, -1.69471521e-02,  3.99249326e-03,\n",
       "       -7.98005611e-03,  5.04868384e-03,  7.51851350e-02,  2.08986625e-02,\n",
       "       -9.52948257e-03, -2.13143639e-02, -2.99577285e-02,  4.82503511e-03,\n",
       "       -3.23898369e-03, -4.18803357e-02,  1.94468163e-02,  5.42861968e-02,\n",
       "       -4.35906388e-02,  6.47540167e-02,  7.35220267e-04,  7.49411136e-02,\n",
       "        2.55044922e-03, -1.38759026e-02, -5.52653987e-03, -1.20281577e-02,\n",
       "       -6.31508678e-02,  1.26371207e-02, -8.69108737e-03, -1.16084842e-02,\n",
       "        3.18000205e-02, -3.01072374e-02,  5.62843727e-03,  2.63755880e-02,\n",
       "        8.30218475e-03,  4.65335697e-02,  1.67679638e-02, -4.75875624e-02,\n",
       "        5.65151609e-02, -2.56045572e-02,  2.78599793e-03,  5.16881160e-02,\n",
       "       -2.54673138e-02, -2.69351378e-02, -4.66911756e-02, -2.84120031e-02,\n",
       "        2.45580059e-02, -4.06528339e-02, -2.02216338e-02,  1.59714017e-02,\n",
       "       -5.26655614e-02, -3.17779626e-03, -7.63184577e-03,  2.02472694e-02,\n",
       "        4.31106724e-02, -4.51084645e-03,  9.29276552e-03,  4.58226725e-02,\n",
       "       -7.88722280e-03, -3.59329246e-02,  8.56720097e-03, -1.35481963e-02,\n",
       "       -1.00901816e-02,  3.14708725e-02,  1.42063908e-02, -3.47781591e-02,\n",
       "        4.31998521e-02, -5.07348701e-02,  8.49056058e-03, -3.83195467e-03,\n",
       "       -1.22663625e-01, -7.25720078e-02,  5.85352592e-02,  4.75784503e-02,\n",
       "       -4.50629145e-02,  2.68493891e-02, -2.68845279e-02,  1.31988572e-02,\n",
       "        5.26894107e-02, -7.13273063e-02,  9.62678634e-04,  4.47336817e-03,\n",
       "       -4.58972789e-02,  2.16914825e-02, -4.11268100e-02, -1.11720343e-04,\n",
       "        2.63593206e-03, -2.07533743e-02,  3.94354993e-03,  2.79020555e-02,\n",
       "       -3.04999463e-02,  8.20988975e-03, -1.22067789e-02,  1.78951416e-02,\n",
       "       -1.78313907e-02,  3.28411721e-02, -3.03044189e-02,  2.06158683e-03,\n",
       "       -1.75486691e-02,  2.39882898e-02, -2.66014226e-03,  2.91291084e-02,\n",
       "        1.77999865e-03, -1.83134004e-02,  8.31787884e-02, -3.22936587e-02,\n",
       "        2.90279975e-03, -1.57607645e-02, -2.67663542e-02, -6.05816729e-02,\n",
       "        3.94172221e-02,  1.68609321e-02, -4.56089564e-02, -6.12533130e-02,\n",
       "        7.88323395e-03, -7.19852000e-02, -6.30276743e-03, -1.28330346e-02,\n",
       "       -9.57214832e-03,  3.83266970e-03,  4.38634306e-02,  4.31413502e-02,\n",
       "        2.32241638e-02, -7.05789849e-02, -6.35443479e-02, -8.78575630e-03,\n",
       "       -1.99654344e-02,  8.05423409e-03,  5.41776605e-02,  8.74297172e-02,\n",
       "       -4.81225625e-02,  8.42174806e-04, -4.12047505e-02, -7.42677972e-03,\n",
       "       -7.84220453e-03, -4.14753109e-02,  1.46244675e-01, -5.05877584e-02,\n",
       "        3.24382703e-03,  2.18252428e-02,  3.18276621e-02,  3.26140580e-04,\n",
       "        8.51596426e-03,  2.63133552e-02, -4.13815603e-02,  1.55461929e-03,\n",
       "        8.30714125e-03,  5.11112949e-03,  2.62911431e-02,  3.12305093e-02,\n",
       "       -1.97943803e-02, -3.31592225e-02,  4.36124653e-02,  2.61100903e-02,\n",
       "       -2.31636800e-02,  3.14717367e-02, -4.27772803e-03,  2.30603549e-03,\n",
       "        3.36690471e-02,  1.25135342e-02, -4.77878861e-02, -4.91682962e-02,\n",
       "       -6.67829532e-04, -3.04315481e-02,  9.91385579e-02, -4.76357378e-02,\n",
       "       -6.55558612e-03,  1.17639219e-02, -2.14472227e-02, -1.10983746e-02,\n",
       "        7.41068972e-03,  5.75603694e-02, -8.31386168e-03, -3.61910053e-02,\n",
       "        2.88561378e-02,  2.43960833e-03,  1.90907456e-02, -1.94688961e-02,\n",
       "       -1.40787000e-02,  1.76858269e-02, -3.20575535e-02, -1.73446499e-02,\n",
       "        3.44720222e-02,  3.90346609e-02,  6.19373843e-02,  4.70013358e-02,\n",
       "        9.75832250e-03,  2.42199264e-02, -5.30429929e-02,  1.51066389e-02,\n",
       "        1.66886381e-03, -4.59238179e-02,  7.89211225e-03,  1.46434119e-03,\n",
       "       -3.28936167e-02,  2.05982290e-03, -7.48686818e-03, -9.26797464e-03,\n",
       "       -1.03177108e-01,  1.39938304e-02,  3.56110223e-02,  4.28132564e-02,\n",
       "       -2.52955463e-02,  2.26311591e-02, -2.86950842e-02,  4.04565558e-02,\n",
       "        4.78846068e-03,  3.27658025e-03, -2.69277114e-02,  6.36267243e-04,\n",
       "       -2.82351971e-02, -3.60378735e-02, -9.77163576e-03, -4.84763794e-02,\n",
       "       -4.39623185e-03,  4.18045707e-02,  1.41491154e-02,  3.42128165e-02,\n",
       "       -4.87232618e-02,  5.13468310e-02,  1.93232186e-02, -1.37970014e-03,\n",
       "        3.39882709e-02,  2.02726964e-02,  4.44017760e-02, -2.00570514e-03,\n",
       "       -8.14924985e-02,  5.24661914e-02,  1.91888697e-02, -3.39528993e-02,\n",
       "       -1.19532552e-03, -5.71527183e-02,  2.99004558e-02, -1.61111616e-02,\n",
       "       -1.51361540e-01,  2.57989690e-02,  9.74139292e-03, -5.90890311e-02,\n",
       "        8.64584558e-03, -1.64234396e-02,  6.64005950e-02,  4.74624429e-03,\n",
       "        8.50513950e-03, -2.32112431e-03,  2.95381509e-02, -8.05895403e-03,\n",
       "        1.49496943e-02, -2.89677139e-02, -4.54350151e-02, -1.83059406e-02,\n",
       "        2.67346650e-02,  1.40006142e-02,  7.12338388e-02,  4.79459250e-03,\n",
       "       -1.42009817e-02, -2.22242195e-02, -3.17198411e-03, -5.18976562e-02,\n",
       "       -2.77741347e-02, -7.01312674e-03, -1.61204056e-03, -3.28751318e-02,\n",
       "        6.70431554e-02,  5.50669199e-03,  8.31168890e-02,  3.35839763e-02,\n",
       "       -1.75201222e-02, -2.75822319e-02, -5.77604361e-02,  3.55946943e-02,\n",
       "        5.95671460e-02, -2.94983741e-02, -2.27367077e-02,  3.52063775e-02,\n",
       "       -7.10195079e-02,  3.20360088e-03,  3.40844952e-02, -6.45184180e-33,\n",
       "        2.89733764e-02,  8.39414820e-03,  1.74621511e-02,  1.71858235e-03,\n",
       "        5.03274321e-04,  8.06910619e-02, -4.30878811e-02, -4.79499213e-02,\n",
       "       -8.45651627e-02, -7.58349895e-03, -2.13527549e-02,  6.85470225e-03,\n",
       "        2.66893972e-02, -1.82683673e-02, -1.05838077e-02,  2.38092672e-02,\n",
       "       -3.23704407e-02, -4.17723544e-02,  8.39807186e-03, -3.50317024e-02,\n",
       "        2.10633054e-02,  6.18243311e-03,  6.44237548e-02, -2.56649982e-02,\n",
       "        8.56729895e-02,  1.10303145e-02, -6.03890140e-03, -1.45853488e-02,\n",
       "        2.88847052e-02, -2.32105348e-02,  1.15082525e-02, -7.34662712e-02,\n",
       "        6.36143470e-03, -3.42173688e-02,  3.30172367e-02, -4.22680788e-02,\n",
       "       -7.09577873e-02,  2.57605072e-02,  1.86762884e-02, -3.32972854e-02,\n",
       "       -9.16197821e-02,  6.77218139e-02,  9.85084753e-03, -1.96244015e-04,\n",
       "        8.53916979e-04,  1.55024780e-02, -7.83138629e-03, -7.26946965e-02,\n",
       "       -7.17738569e-02, -9.72780138e-02, -2.25321352e-02, -2.11747978e-02,\n",
       "       -2.99369320e-02,  1.35337383e-01,  2.86072213e-03,  2.47238893e-02,\n",
       "        3.10791103e-04,  3.93131338e-02, -3.24440263e-02,  1.71002629e-03,\n",
       "       -4.81803268e-02,  3.95900607e-02,  1.16119459e-02, -6.31050467e-02,\n",
       "        5.55231087e-02, -4.06674622e-03,  1.03265783e-02, -1.24629047e-02,\n",
       "       -4.77872416e-03,  2.45012920e-02,  3.11358850e-02,  1.25958258e-02,\n",
       "       -1.41204139e-02,  1.06979311e-01, -4.93182391e-02, -9.64126810e-02,\n",
       "       -7.07812309e-02,  2.11524982e-02,  5.73088937e-02,  5.42797633e-02,\n",
       "        8.49726424e-02, -3.41240689e-02,  4.30690944e-02,  1.65241491e-02,\n",
       "        3.28366235e-02, -5.01712337e-02, -2.61213165e-02, -2.76133250e-02,\n",
       "       -1.23628164e-02, -5.22295479e-03,  2.90881842e-02,  4.85692360e-02,\n",
       "        6.84231939e-03, -2.98571214e-03,  2.92912452e-03,  5.55233434e-02,\n",
       "       -9.10591986e-03,  9.44344513e-03, -2.77154054e-02,  2.52492051e-03,\n",
       "       -7.18493462e-02, -9.53797437e-03, -8.47416185e-03,  3.51972841e-02,\n",
       "        3.34152542e-02,  1.34723522e-02,  3.39528397e-02, -3.07440627e-02,\n",
       "       -2.95801591e-02,  1.25531862e-02,  6.82411483e-03,  4.15556990e-02,\n",
       "        4.52112518e-02, -2.27791425e-02, -2.26581115e-02,  1.17727241e-03,\n",
       "        1.38044292e-02,  4.21657780e-04,  4.07237709e-02,  4.80510332e-02,\n",
       "        5.72524182e-02, -8.16573482e-03, -3.43172741e-03,  4.63470928e-02,\n",
       "       -3.78940068e-02, -4.87406738e-03,  1.76358912e-02,  8.26971605e-03,\n",
       "        4.74804640e-03,  1.17371837e-02,  4.09351625e-02, -1.88769381e-02,\n",
       "        2.62469513e-07, -3.14198434e-02,  2.10417788e-02, -1.78240202e-02,\n",
       "       -5.19973673e-02,  6.58901455e-03, -5.53963929e-02, -4.19700705e-02,\n",
       "       -1.42551376e-03,  5.38435280e-02, -6.61308318e-02,  1.29972240e-02,\n",
       "        1.47810997e-02,  1.75026525e-02, -4.67238296e-03,  1.63036119e-02,\n",
       "       -2.19907444e-02, -4.89600338e-02, -3.60354185e-02,  1.40204541e-02,\n",
       "        4.27515693e-02, -2.85660755e-02,  1.41014932e-02, -7.39357853e-03,\n",
       "        2.73395386e-02, -3.82030532e-02, -2.19595190e-02, -1.07090874e-02,\n",
       "        1.08578312e-03, -4.44190092e-02,  1.09433895e-02,  4.24636491e-02,\n",
       "        2.78297067e-03, -6.32341392e-03, -1.15932673e-02, -6.62955130e-03,\n",
       "       -4.65986766e-02, -1.41846705e-02, -5.84137700e-02, -1.85562540e-02,\n",
       "        4.49698158e-02,  2.68792850e-03, -7.31319413e-02,  1.69037972e-02,\n",
       "       -7.28082135e-02,  6.33004680e-02,  1.73652787e-02, -4.92968857e-02,\n",
       "       -7.68953562e-02, -9.27453637e-02,  1.88860353e-02,  2.25067884e-02,\n",
       "        4.91899028e-02,  6.94255019e-03, -1.04531762e-03, -3.01818401e-02,\n",
       "       -1.78405922e-02, -1.56937947e-03,  1.69632845e-02,  3.80186550e-02,\n",
       "       -1.43948123e-02,  1.09476410e-02, -4.47993279e-02,  1.69945676e-02,\n",
       "       -1.78282298e-02, -2.91301794e-02,  5.85254189e-03, -1.45093957e-02,\n",
       "        2.22609817e-34, -2.69020046e-03,  5.17531764e-03,  6.55677961e-03,\n",
       "        4.60216217e-03,  1.67958774e-02, -9.50699951e-03,  4.93229134e-04,\n",
       "       -2.33236495e-02, -2.05104798e-02, -1.34033989e-02, -3.09869647e-02],\n",
       "      dtype=float32)"
      ]
     },
     "execution_count": 13,
     "metadata": {},
     "output_type": "execute_result"
    }
   ],
   "source": [
    "v = data[0]['question_text_vector']\n",
    "v"
   ]
  },
  {
   "cell_type": "code",
   "execution_count": 14,
   "metadata": {},
   "outputs": [
    {
     "data": {
      "text/plain": [
       "(768,)"
      ]
     },
     "execution_count": 14,
     "metadata": {},
     "output_type": "execute_result"
    }
   ],
   "source": [
    "v.shape"
   ]
  },
  {
   "cell_type": "code",
   "execution_count": 12,
   "metadata": {},
   "outputs": [
    {
     "name": "stdout",
     "output_type": "stream",
     "text": [
      "17\n"
     ]
    }
   ],
   "source": [
    "# filtering out dictionaries without questions\n",
    "new_data = []\n",
    "\n",
    "for d in data:\n",
    "    # Check if the required key is present\n",
    "    if 'question' not in d:\n",
    "        continue\n",
    "\n",
    "    # If all conditions pass, add the dictionary to the filtered list\n",
    "    new_data.append(d)\n",
    "\n",
    "print(len(new_data))"
   ]
  },
  {
   "cell_type": "code",
   "execution_count": 13,
   "metadata": {},
   "outputs": [
    {
     "name": "stderr",
     "output_type": "stream",
     "text": [
      "100%|██████████| 17/17 [00:04<00:00,  3.95it/s]\n"
     ]
    }
   ],
   "source": [
    "for doc in tqdm(new_data):\n",
    "    question = doc['question']\n",
    "    text = doc['body']\n",
    "    doc['question_text_vector'] = model.encode(question + ' ' + text)\n",
    "\n",
    "    es_client.index(index=index_name, document=doc)"
   ]
  },
  {
   "cell_type": "markdown",
   "metadata": {},
   "source": [
    "Retrieval"
   ]
  },
  {
   "cell_type": "code",
   "execution_count": 14,
   "metadata": {},
   "outputs": [],
   "source": [
    "def elastic_search_knn(field, vector, title):\n",
    "    knn = {\n",
    "        \"field\": field,\n",
    "        \"query_vector\": vector,\n",
    "        \"k\": 5,\n",
    "        \"num_candidates\": 10000,\n",
    "        \"filter\": {\n",
    "            \"term\": {\n",
    "                \"Title\": title\n",
    "            }\n",
    "        }\n",
    "    }\n",
    "\n",
    "    search_query = {\n",
    "        \"knn\": knn,\n",
    "        \"_source\": [\"body\", \"question\", \"Title\", \"id\"]\n",
    "    }\n",
    "\n",
    "    es_results = es_client.search(\n",
    "        index=index_name,\n",
    "        body=search_query\n",
    "    )\n",
    "    \n",
    "    result_docs = []\n",
    "    \n",
    "    for hit in es_results['hits']['hits']:\n",
    "        result_docs.append(hit['_source'])\n",
    "\n",
    "    return result_docs"
   ]
  },
  {
   "cell_type": "code",
   "execution_count": 19,
   "metadata": {},
   "outputs": [],
   "source": [
    "def question_text_vector_knn(q):\n",
    "    question = q['question']\n",
    "    title = q['title']\n",
    "\n",
    "    v_q = model.encode(question)\n",
    "\n",
    "    return elastic_search_knn('question_text_vector', v_q, title)"
   ]
  },
  {
   "cell_type": "code",
   "execution_count": 20,
   "metadata": {},
   "outputs": [
    {
     "data": {
      "text/plain": [
       "[{'question': \"What is the author's biography?\",\n",
       "  'Title': 'Guidelines to Get a Data Engineer Job Against the Odds',\n",
       "  'id': '59385f12',\n",
       "  'body': '04 Jan 2023 byLuís Oliveira'}]"
      ]
     },
     "execution_count": 20,
     "metadata": {},
     "output_type": "execute_result"
    }
   ],
   "source": [
    "question_text_vector_knn(dict(\n",
    "    question='How can Iget a job as a Data Engineer?',\n",
    "    title='Guidelines to Get a Data Engineer Job Against the Odds'\n",
    "))"
   ]
  },
  {
   "cell_type": "markdown",
   "metadata": {},
   "source": [
    "The RAG Flow"
   ]
  },
  {
   "cell_type": "code",
   "execution_count": 29,
   "metadata": {},
   "outputs": [],
   "source": [
    "def build_prompt(query, search_results):\n",
    "    prompt_template = \"\"\"\n",
    "You're a career assistant that helps people know more about data careers. Answer the QUESTION based on the CONTEXT from the knowledge base.\n",
    "Use only the facts from the CONTEXT when answering the QUESTION.\n",
    "\n",
    "QUESTION: {question}\n",
    "\n",
    "CONTEXT: \n",
    "{context}\n",
    "\"\"\".strip()\n",
    "\n",
    "    context = \"\"\n",
    "    \n",
    "    for doc in search_results:\n",
    "        context = context + f\"title: {doc['Title']}\\n, content: {doc['body']}\\n\"\n",
    "    \n",
    "    prompt = prompt_template.format(question=query, context=context).strip()\n",
    "    return prompt"
   ]
  },
  {
   "cell_type": "code",
   "execution_count": 23,
   "metadata": {},
   "outputs": [],
   "source": [
    "client = OpenAI(\n",
    "    base_url='http://localhost:11434/v1/',\n",
    "    api_key='ollama',\n",
    ")"
   ]
  },
  {
   "cell_type": "code",
   "execution_count": 24,
   "metadata": {},
   "outputs": [],
   "source": [
    "def llm(prompt):\n",
    "    response = client.chat.completions.create(\n",
    "        model='gemma:2b',\n",
    "        messages=[{\"role\": \"user\", \"content\": prompt}]\n",
    "    )\n",
    "    \n",
    "    return response.choices[0].message.content"
   ]
  },
  {
   "cell_type": "code",
   "execution_count": 27,
   "metadata": {},
   "outputs": [],
   "source": [
    "def rag(query: dict):\n",
    "    search_results = question_text_vector_knn(query)\n",
    "    prompt = build_prompt(query['question'], search_results)\n",
    "    answer = llm(prompt)\n",
    "    return answer"
   ]
  },
  {
   "cell_type": "code",
   "execution_count": 26,
   "metadata": {},
   "outputs": [
    {
     "data": {
      "text/plain": [
       "{'question': 'What is the main focus of machine learning engineers?',\n",
       " 'title': 'Roles in a Data Team',\n",
       " 'body': 'Machine learning engineers take whatever data scientists build and help them scale it up. They also ensure that the service is maintainable and that the team follows the best engineering practices. Their focus is more on engineering than on modeling. The skills ML engineers have are similar to that of data engineers: Additionally, ML engineers work closely with more “traditional” engineers, like backend engineers, frontend engineers, or mobile engineers, to ensure that the services from the data team are included in the final product. For our example, ML engineers work together with data scientists on productionizing the category suggestion services. They make sure it’s stable once it’s rolled out to all the users. They must also ensure that it’s maintainable and it’s possible to make changes to the service in the future. There’s another kind of engineer that can be pretty important in a data team — site reliability engineers.',\n",
       " 'document': 'f10a49a7'}"
      ]
     },
     "execution_count": 26,
     "metadata": {},
     "output_type": "execute_result"
    }
   ],
   "source": [
    "ground_truth[10]"
   ]
  },
  {
   "cell_type": "code",
   "execution_count": 30,
   "metadata": {},
   "outputs": [
    {
     "data": {
      "text/plain": [
       "'According to the context, the main focus of machine learning engineers is to help data scientists scale their data-driven applications. They ensure that the data-driven applications are efficient, stable, and maintainable.'"
      ]
     },
     "execution_count": 30,
     "metadata": {},
     "output_type": "execute_result"
    }
   ],
   "source": [
    "rag(ground_truth[10])"
   ]
  },
  {
   "cell_type": "code",
   "execution_count": 31,
   "metadata": {},
   "outputs": [
    {
     "data": {
      "text/plain": [
       "'Machine learning engineers take whatever data scientists build and help them scale it up. They also ensure that the service is maintainable and that the team follows the best engineering practices. Their focus is more on engineering than on modeling. The skills ML engineers have are similar to that of data engineers: Additionally, ML engineers work closely with more “traditional” engineers, like backend engineers, frontend engineers, or mobile engineers, to ensure that the services from the data team are included in the final product. For our example, ML engineers work together with data scientists on productionizing the category suggestion services. They make sure it’s stable once it’s rolled out to all the users. They must also ensure that it’s maintainable and it’s possible to make changes to the service in the future. There’s another kind of engineer that can be pretty important in a data team — site reliability engineers.'"
      ]
     },
     "execution_count": 31,
     "metadata": {},
     "output_type": "execute_result"
    }
   ],
   "source": [
    "doc_idx['f10a49a7']['body']"
   ]
  },
  {
   "cell_type": "markdown",
   "metadata": {},
   "source": [
    "Cosine Similarity Metric"
   ]
  },
  {
   "cell_type": "code",
   "execution_count": 33,
   "metadata": {},
   "outputs": [],
   "source": [
    "answer_orig = \"Machine learning engineers take whatever data scientists build and help them scale it up. They also ensure that the service is maintainable and that the team follows the best engineering practices. Their focus is more on engineering than on modeling. The skills ML engineers have are similar to that of data engineers: Additionally, ML engineers work closely with more “traditional” engineers, like backend engineers, frontend engineers, or mobile engineers, to ensure that the services from the data team are included in the final product. For our example, ML engineers work together with data scientists on productionizing the category suggestion services. They make sure it’s stable once it’s rolled out to all the users. They must also ensure that it’s maintainable and it’s possible to make changes to the service in the future. There’s another kind of engineer that can be pretty important in a data team — site reliability engineers.\"\n",
    "answer_llm = \" According to the context, the main focus of machine learning engineers is to help data scientists scale their data-driven applications. They ensure that the data-driven applications are efficient, stable, and maintainable.\"\n",
    "\n"
   ]
  },
  {
   "cell_type": "code",
   "execution_count": 34,
   "metadata": {},
   "outputs": [
    {
     "data": {
      "text/plain": [
       "np.float32(0.7687918)"
      ]
     },
     "execution_count": 34,
     "metadata": {},
     "output_type": "execute_result"
    }
   ],
   "source": [
    "v_llm = model.encode(answer_llm)\n",
    "v_orig = model.encode(answer_orig)\n",
    "\n",
    "v_llm.dot(v_orig)"
   ]
  },
  {
   "cell_type": "code",
   "execution_count": 37,
   "metadata": {},
   "outputs": [
    {
     "data": {
      "text/plain": [
       "85"
      ]
     },
     "execution_count": 37,
     "metadata": {},
     "output_type": "execute_result"
    }
   ],
   "source": [
    "len(ground_truth)"
   ]
  },
  {
   "cell_type": "code",
   "execution_count": 39,
   "metadata": {},
   "outputs": [
    {
     "data": {
      "text/plain": [
       "{'question': 'What is the main focus of machine learning engineers?',\n",
       " 'title': 'Roles in a Data Team',\n",
       " 'body': 'Machine learning engineers take whatever data scientists build and help them scale it up. They also ensure that the service is maintainable and that the team follows the best engineering practices. Their focus is more on engineering than on modeling. The skills ML engineers have are similar to that of data engineers: Additionally, ML engineers work closely with more “traditional” engineers, like backend engineers, frontend engineers, or mobile engineers, to ensure that the services from the data team are included in the final product. For our example, ML engineers work together with data scientists on productionizing the category suggestion services. They make sure it’s stable once it’s rolled out to all the users. They must also ensure that it’s maintainable and it’s possible to make changes to the service in the future. There’s another kind of engineer that can be pretty important in a data team — site reliability engineers.',\n",
       " 'document': 'f10a49a7'}"
      ]
     },
     "execution_count": 39,
     "metadata": {},
     "output_type": "execute_result"
    }
   ],
   "source": [
    "ground_truth[10]"
   ]
  },
  {
   "cell_type": "code",
   "execution_count": 38,
   "metadata": {},
   "outputs": [],
   "source": [
    "answers = {}"
   ]
  },
  {
   "cell_type": "code",
   "execution_count": 40,
   "metadata": {},
   "outputs": [
    {
     "name": "stderr",
     "output_type": "stream",
     "text": [
      "100%|██████████| 85/85 [29:58<00:00, 21.16s/it]\n"
     ]
    }
   ],
   "source": [
    "for i, rec in enumerate(tqdm(ground_truth)):\n",
    "    if i in answers:\n",
    "        continue\n",
    "\n",
    "    answer_llm = rag(rec)\n",
    "    doc_id = rec['document']\n",
    "    original_doc = doc_idx[doc_id]\n",
    "    answer_orig = original_doc['body']\n",
    "\n",
    "    answers[i] = {\n",
    "        'answer_llm': answer_llm,\n",
    "        'answer_orig': answer_orig,\n",
    "        'document': doc_id,\n",
    "        'question': rec['question'],\n",
    "        'title': rec['title'],\n",
    "    }"
   ]
  },
  {
   "cell_type": "code",
   "execution_count": 41,
   "metadata": {},
   "outputs": [],
   "source": [
    "results = [None] * len(ground_truth)\n",
    "\n",
    "for i, val in answers.items():\n",
    "    results[i] = val.copy()\n",
    "    results[i].update(ground_truth[i])"
   ]
  },
  {
   "cell_type": "code",
   "execution_count": 43,
   "metadata": {},
   "outputs": [
    {
     "data": {
      "text/html": [
       "<div>\n",
       "<style scoped>\n",
       "    .dataframe tbody tr th:only-of-type {\n",
       "        vertical-align: middle;\n",
       "    }\n",
       "\n",
       "    .dataframe tbody tr th {\n",
       "        vertical-align: top;\n",
       "    }\n",
       "\n",
       "    .dataframe thead th {\n",
       "        text-align: right;\n",
       "    }\n",
       "</style>\n",
       "<table border=\"1\" class=\"dataframe\">\n",
       "  <thead>\n",
       "    <tr style=\"text-align: right;\">\n",
       "      <th></th>\n",
       "      <th>answer_llm</th>\n",
       "      <th>answer_orig</th>\n",
       "      <th>document</th>\n",
       "      <th>question</th>\n",
       "      <th>title</th>\n",
       "      <th>body</th>\n",
       "    </tr>\n",
       "  </thead>\n",
       "  <tbody>\n",
       "    <tr>\n",
       "      <th>0</th>\n",
       "      <td>The purpose of the trip is not mentioned in th...</td>\n",
       "      <td>14 Dec 2020 byAlexey Grigorev</td>\n",
       "      <td>d2d8f692</td>\n",
       "      <td>What was the purpose of the trip?</td>\n",
       "      <td>Roles in a Data Team</td>\n",
       "      <td>14 Dec 2020 byAlexey Grigorev</td>\n",
       "    </tr>\n",
       "    <tr>\n",
       "      <th>1</th>\n",
       "      <td>Sure, here are the specific details that were ...</td>\n",
       "      <td>14 Dec 2020 byAlexey Grigorev</td>\n",
       "      <td>d2d8f692</td>\n",
       "      <td>What specific details were included in the art...</td>\n",
       "      <td>Roles in a Data Team</td>\n",
       "      <td>14 Dec 2020 byAlexey Grigorev</td>\n",
       "    </tr>\n",
       "    <tr>\n",
       "      <th>2</th>\n",
       "      <td>The context does not provide any notable quote...</td>\n",
       "      <td>14 Dec 2020 byAlexey Grigorev</td>\n",
       "      <td>d2d8f692</td>\n",
       "      <td>Are there any notable quotes or anecdotes from...</td>\n",
       "      <td>Roles in a Data Team</td>\n",
       "      <td>14 Dec 2020 byAlexey Grigorev</td>\n",
       "    </tr>\n",
       "    <tr>\n",
       "      <th>3</th>\n",
       "      <td>The information about the result of the trip i...</td>\n",
       "      <td>14 Dec 2020 byAlexey Grigorev</td>\n",
       "      <td>d2d8f692</td>\n",
       "      <td>What was the result of the trip?</td>\n",
       "      <td>Roles in a Data Team</td>\n",
       "      <td>14 Dec 2020 byAlexey Grigorev</td>\n",
       "    </tr>\n",
       "    <tr>\n",
       "      <th>4</th>\n",
       "      <td>The context does not provide information about...</td>\n",
       "      <td>14 Dec 2020 byAlexey Grigorev</td>\n",
       "      <td>d2d8f692</td>\n",
       "      <td>What were the conclusions drawn from the outcome?</td>\n",
       "      <td>Roles in a Data Team</td>\n",
       "      <td>14 Dec 2020 byAlexey Grigorev</td>\n",
       "    </tr>\n",
       "    <tr>\n",
       "      <th>5</th>\n",
       "      <td>Sure. Here is the answer to your question:\\n\\n...</td>\n",
       "      <td>The roles of a data scientist and data analyst...</td>\n",
       "      <td>99ce651b</td>\n",
       "      <td>What is the difference between a data scientis...</td>\n",
       "      <td>Roles in a Data Team</td>\n",
       "      <td>The roles of a data scientist and data analyst...</td>\n",
       "    </tr>\n",
       "    <tr>\n",
       "      <th>6</th>\n",
       "      <td>A data scientist focuses more on creating mach...</td>\n",
       "      <td>The roles of a data scientist and data analyst...</td>\n",
       "      <td>99ce651b</td>\n",
       "      <td>How does a data scientist use data to create a...</td>\n",
       "      <td>Roles in a Data Team</td>\n",
       "      <td>The roles of a data scientist and data analyst...</td>\n",
       "    </tr>\n",
       "    <tr>\n",
       "      <th>7</th>\n",
       "      <td>A data scientist focuses more on creating mach...</td>\n",
       "      <td>The roles of a data scientist and data analyst...</td>\n",
       "      <td>99ce651b</td>\n",
       "      <td>What does a data scientist focus more on when ...</td>\n",
       "      <td>Roles in a Data Team</td>\n",
       "      <td>The roles of a data scientist and data analyst...</td>\n",
       "    </tr>\n",
       "    <tr>\n",
       "      <th>8</th>\n",
       "      <td>A data scientist's main focus is on creating m...</td>\n",
       "      <td>The roles of a data scientist and data analyst...</td>\n",
       "      <td>99ce651b</td>\n",
       "      <td>What is the main focus of a data scientist's job?</td>\n",
       "      <td>Roles in a Data Team</td>\n",
       "      <td>The roles of a data scientist and data analyst...</td>\n",
       "    </tr>\n",
       "    <tr>\n",
       "      <th>9</th>\n",
       "      <td>A data scientist focuses more on engineering t...</td>\n",
       "      <td>The roles of a data scientist and data analyst...</td>\n",
       "      <td>99ce651b</td>\n",
       "      <td>How does a data scientist's focus on engineeri...</td>\n",
       "      <td>Roles in a Data Team</td>\n",
       "      <td>The roles of a data scientist and data analyst...</td>\n",
       "    </tr>\n",
       "  </tbody>\n",
       "</table>\n",
       "</div>"
      ],
      "text/plain": [
       "                                          answer_llm  \\\n",
       "0  The purpose of the trip is not mentioned in th...   \n",
       "1  Sure, here are the specific details that were ...   \n",
       "2  The context does not provide any notable quote...   \n",
       "3  The information about the result of the trip i...   \n",
       "4  The context does not provide information about...   \n",
       "5  Sure. Here is the answer to your question:\\n\\n...   \n",
       "6  A data scientist focuses more on creating mach...   \n",
       "7  A data scientist focuses more on creating mach...   \n",
       "8  A data scientist's main focus is on creating m...   \n",
       "9  A data scientist focuses more on engineering t...   \n",
       "\n",
       "                                         answer_orig  document  \\\n",
       "0                      14 Dec 2020 byAlexey Grigorev  d2d8f692   \n",
       "1                      14 Dec 2020 byAlexey Grigorev  d2d8f692   \n",
       "2                      14 Dec 2020 byAlexey Grigorev  d2d8f692   \n",
       "3                      14 Dec 2020 byAlexey Grigorev  d2d8f692   \n",
       "4                      14 Dec 2020 byAlexey Grigorev  d2d8f692   \n",
       "5  The roles of a data scientist and data analyst...  99ce651b   \n",
       "6  The roles of a data scientist and data analyst...  99ce651b   \n",
       "7  The roles of a data scientist and data analyst...  99ce651b   \n",
       "8  The roles of a data scientist and data analyst...  99ce651b   \n",
       "9  The roles of a data scientist and data analyst...  99ce651b   \n",
       "\n",
       "                                            question                 title  \\\n",
       "0                  What was the purpose of the trip?  Roles in a Data Team   \n",
       "1  What specific details were included in the art...  Roles in a Data Team   \n",
       "2  Are there any notable quotes or anecdotes from...  Roles in a Data Team   \n",
       "3                   What was the result of the trip?  Roles in a Data Team   \n",
       "4  What were the conclusions drawn from the outcome?  Roles in a Data Team   \n",
       "5  What is the difference between a data scientis...  Roles in a Data Team   \n",
       "6  How does a data scientist use data to create a...  Roles in a Data Team   \n",
       "7  What does a data scientist focus more on when ...  Roles in a Data Team   \n",
       "8  What is the main focus of a data scientist's job?  Roles in a Data Team   \n",
       "9  How does a data scientist's focus on engineeri...  Roles in a Data Team   \n",
       "\n",
       "                                                body  \n",
       "0                      14 Dec 2020 byAlexey Grigorev  \n",
       "1                      14 Dec 2020 byAlexey Grigorev  \n",
       "2                      14 Dec 2020 byAlexey Grigorev  \n",
       "3                      14 Dec 2020 byAlexey Grigorev  \n",
       "4                      14 Dec 2020 byAlexey Grigorev  \n",
       "5  The roles of a data scientist and data analyst...  \n",
       "6  The roles of a data scientist and data analyst...  \n",
       "7  The roles of a data scientist and data analyst...  \n",
       "8  The roles of a data scientist and data analyst...  \n",
       "9  The roles of a data scientist and data analyst...  "
      ]
     },
     "execution_count": 43,
     "metadata": {},
     "output_type": "execute_result"
    }
   ],
   "source": [
    "df_results = pd.DataFrame(results)\n",
    "df_results.head(10)"
   ]
  },
  {
   "cell_type": "code",
   "execution_count": 45,
   "metadata": {},
   "outputs": [
    {
     "data": {
      "text/plain": [
       "{'answer_llm': 'The main focus of machine learning engineers is to help the data scientists build machine learning models that can be used to predict something.',\n",
       " 'answer_orig': 'Machine learning engineers take whatever data scientists build and help them scale it up. They also ensure that the service is maintainable and that the team follows the best engineering practices. Their focus is more on engineering than on modeling. The skills ML engineers have are similar to that of data engineers: Additionally, ML engineers work closely with more “traditional” engineers, like backend engineers, frontend engineers, or mobile engineers, to ensure that the services from the data team are included in the final product. For our example, ML engineers work together with data scientists on productionizing the category suggestion services. They make sure it’s stable once it’s rolled out to all the users. They must also ensure that it’s maintainable and it’s possible to make changes to the service in the future. There’s another kind of engineer that can be pretty important in a data team — site reliability engineers.',\n",
       " 'document': 'f10a49a7',\n",
       " 'question': 'What is the main focus of machine learning engineers?',\n",
       " 'title': 'Roles in a Data Team',\n",
       " 'body': 'Machine learning engineers take whatever data scientists build and help them scale it up. They also ensure that the service is maintainable and that the team follows the best engineering practices. Their focus is more on engineering than on modeling. The skills ML engineers have are similar to that of data engineers: Additionally, ML engineers work closely with more “traditional” engineers, like backend engineers, frontend engineers, or mobile engineers, to ensure that the services from the data team are included in the final product. For our example, ML engineers work together with data scientists on productionizing the category suggestion services. They make sure it’s stable once it’s rolled out to all the users. They must also ensure that it’s maintainable and it’s possible to make changes to the service in the future. There’s another kind of engineer that can be pretty important in a data team — site reliability engineers.'}"
      ]
     },
     "execution_count": 45,
     "metadata": {},
     "output_type": "execute_result"
    }
   ],
   "source": [
    "results_gemma = df_results.to_dict(orient='records')\n",
    "results_gemma[10]"
   ]
  },
  {
   "cell_type": "code",
   "execution_count": 46,
   "metadata": {},
   "outputs": [],
   "source": [
    "def compute_similarity(record):\n",
    "    answer_orig = record['answer_orig']\n",
    "    answer_llm = record['answer_llm']\n",
    "    \n",
    "    v_llm = model.encode(answer_llm)\n",
    "    v_orig = model.encode(answer_orig)\n",
    "    \n",
    "    return v_llm.dot(v_orig)"
   ]
  },
  {
   "cell_type": "code",
   "execution_count": 47,
   "metadata": {},
   "outputs": [
    {
     "name": "stderr",
     "output_type": "stream",
     "text": [
      "100%|██████████| 85/85 [00:23<00:00,  3.67it/s]\n"
     ]
    }
   ],
   "source": [
    "similarity = []\n",
    "\n",
    "for record in tqdm(results_gemma):\n",
    "    sim = compute_similarity(record)\n",
    "    similarity.append(sim)"
   ]
  },
  {
   "cell_type": "code",
   "execution_count": 48,
   "metadata": {},
   "outputs": [
    {
     "data": {
      "text/plain": [
       "count    85.000000\n",
       "mean      0.568503\n",
       "std       0.248405\n",
       "min       0.008574\n",
       "25%       0.474935\n",
       "50%       0.621837\n",
       "75%       0.735914\n",
       "max       0.913466\n",
       "Name: cosine, dtype: float64"
      ]
     },
     "execution_count": 48,
     "metadata": {},
     "output_type": "execute_result"
    }
   ],
   "source": [
    "df_results['cosine'] = similarity\n",
    "df_results['cosine'].describe()"
   ]
  },
  {
   "cell_type": "code",
   "execution_count": 51,
   "metadata": {},
   "outputs": [
    {
     "data": {
      "image/png": "[encoded data removed]",
      "text/plain": [
       "<Figure size 640x480 with 1 Axes>"
      ]
     },
     "metadata": {},
     "output_type": "display_data"
    }
   ],
   "source": [
    "sns.kdeplot(df_results['cosine'], label='gemma')\n",
    "\n",
    "plt.title(\"RAG LLM performance\")\n",
    "plt.xlabel(\"A->Q->A' Cosine Similarity\")\n",
    "plt.legend()\n",
    "plt.show()"
   ]
  },
  {
   "cell_type": "markdown",
   "metadata": {},
   "source": [
    "LLM-as-a-judge"
   ]
  },
  {
   "cell_type": "code",
   "execution_count": 57,
   "metadata": {},
   "outputs": [],
   "source": [
    "prompt1_template = \"\"\"\n",
    "You are an expert evaluator for a Retrieval-Augmented Generation (RAG) system.\n",
    "Your task is to analyze the relevance of the generated answer compared to the original answer provided.\n",
    "Based on the relevance and similarity of the generated answer to the original answer, you will classify\n",
    "it as \"NON_RELEVANT\", \"PARTLY_RELEVANT\", or \"RELEVANT\".\n",
    "\n",
    "Here is the data for evaluation:\n",
    "\n",
    "Original Answer: {answer_orig}\n",
    "Generated Question: {question}\n",
    "Generated Answer: {answer_llm}\n",
    "\n",
    "Please analyze the content and context of the generated answer in relation to the original\n",
    "answer and provide your evaluation in parsable JSON without using code blocks:\n",
    "\n",
    "{{\n",
    "  \"Relevance\": \"NON_RELEVANT\" | \"PARTLY_RELEVANT\" | \"RELEVANT\",\n",
    "  \"Explanation\": \"[Provide a brief explanation for your evaluation]\"\n",
    "}}\n",
    "\"\"\".strip()\n",
    "\n",
    "prompt2_template = \"\"\"\n",
    "You are an expert evaluator for a Retrieval-Augmented Generation (RAG) system.\n",
    "Your task is to analyze the relevance of the generated answer to the given question.\n",
    "Based on the relevance of the generated answer, you will classify it\n",
    "as \"NON_RELEVANT\", \"PARTLY_RELEVANT\", or \"RELEVANT\".\n",
    "\n",
    "Here is the data for evaluation:\n",
    "\n",
    "Question: {question}\n",
    "Generated Answer: {answer_llm}\n",
    "\n",
    "Please analyze the content and context of the generated answer in relation to the question\n",
    "and provide your evaluation in parsable JSON without using code blocks:\n",
    "\n",
    "{{\n",
    "  \"Relevance\": \"NON_RELEVANT\" | \"PARTLY_RELEVANT\" | \"RELEVANT\",\n",
    "  \"Explanation\": \"[Provide a brief explanation for your evaluation]\"\n",
    "}}\n",
    "\"\"\".strip()"
   ]
  },
  {
   "cell_type": "code",
   "execution_count": 52,
   "metadata": {},
   "outputs": [
    {
     "data": {
      "text/plain": [
       "85"
      ]
     },
     "execution_count": 52,
     "metadata": {},
     "output_type": "execute_result"
    }
   ],
   "source": [
    "len(df_results)"
   ]
  },
  {
   "cell_type": "code",
   "execution_count": 53,
   "metadata": {},
   "outputs": [],
   "source": [
    "df_sample = df_results.sample(n=40, random_state=1)"
   ]
  },
  {
   "cell_type": "code",
   "execution_count": 54,
   "metadata": {},
   "outputs": [],
   "source": [
    "samples = df_sample.to_dict(orient='records')"
   ]
  },
  {
   "cell_type": "code",
   "execution_count": 55,
   "metadata": {},
   "outputs": [
    {
     "data": {
      "text/plain": [
       "{'answer_llm': 'According to the context, the skills and experience needed to assemble a strong product team include:\\n\\n* A clear vision for the product.\\n* Individuals with the skills and experience necessary to bring that vision to fruition.\\n* Strong communication skills and the ability to work effectively in a team environment.',\n",
       " 'answer_orig': 'To build a strong product team, it is important to first understand what a product team is.A product team is responsible for the development and management of a company’s products.This includes everything from the initial idea and conception of the product, to its design, production, and eventual distribution. A strong product team is a team that is building a product that the customer wants. Strong means: In other words, a strong product team will have a clear understanding of the market they are targeting and will work together to ensure that the final product meets the needs of their target audience. In order to build a strong product team, it is important to have a clear vision for the product and to assemble a team of individuals with the skills and experience necessary to bring that vision to fruition.',\n",
       " 'document': 'cc59df8b',\n",
       " 'question': 'What are the skills and experience needed to assemble a strong product team?',\n",
       " 'title': 'Building a Data Science Team',\n",
       " 'body': 'To build a strong product team, it is important to first understand what a product team is.A product team is responsible for the development and management of a company’s products.This includes everything from the initial idea and conception of the product, to its design, production, and eventual distribution. A strong product team is a team that is building a product that the customer wants. Strong means: In other words, a strong product team will have a clear understanding of the market they are targeting and will work together to ensure that the final product meets the needs of their target audience. In order to build a strong product team, it is important to have a clear vision for the product and to assemble a team of individuals with the skills and experience necessary to bring that vision to fruition.',\n",
       " 'cosine': 0.8705915212631226}"
      ]
     },
     "execution_count": 55,
     "metadata": {},
     "output_type": "execute_result"
    }
   ],
   "source": [
    "record = samples[0]\n",
    "record"
   ]
  },
  {
   "cell_type": "code",
   "execution_count": 58,
   "metadata": {},
   "outputs": [
    {
     "name": "stdout",
     "output_type": "stream",
     "text": [
      "You are an expert evaluator for a Retrieval-Augmented Generation (RAG) system.\n",
      "Your task is to analyze the relevance of the generated answer compared to the original answer provided.\n",
      "Based on the relevance and similarity of the generated answer to the original answer, you will classify\n",
      "it as \"NON_RELEVANT\", \"PARTLY_RELEVANT\", or \"RELEVANT\".\n",
      "\n",
      "Here is the data for evaluation:\n",
      "\n",
      "Original Answer: To build a strong product team, it is important to first understand what a product team is.A product team is responsible for the development and management of a company’s products.This includes everything from the initial idea and conception of the product, to its design, production, and eventual distribution. A strong product team is a team that is building a product that the customer wants. Strong means: In other words, a strong product team will have a clear understanding of the market they are targeting and will work together to ensure that the final product meets the needs of their target audience. In order to build a strong product team, it is important to have a clear vision for the product and to assemble a team of individuals with the skills and experience necessary to bring that vision to fruition.\n",
      "Generated Question: What are the skills and experience needed to assemble a strong product team?\n",
      "Generated Answer: According to the context, the skills and experience needed to assemble a strong product team include:\n",
      "\n",
      "* A clear vision for the product.\n",
      "* Individuals with the skills and experience necessary to bring that vision to fruition.\n",
      "* Strong communication skills and the ability to work effectively in a team environment.\n",
      "\n",
      "Please analyze the content and context of the generated answer in relation to the original\n",
      "answer and provide your evaluation in parsable JSON without using code blocks:\n",
      "\n",
      "{\n",
      "  \"Relevance\": \"NON_RELEVANT\" | \"PARTLY_RELEVANT\" | \"RELEVANT\",\n",
      "  \"Explanation\": \"[Provide a brief explanation for your evaluation]\"\n",
      "}\n"
     ]
    }
   ],
   "source": [
    "prompt = prompt1_template.format(**record)\n",
    "print(prompt)"
   ]
  },
  {
   "cell_type": "code",
   "execution_count": 59,
   "metadata": {},
   "outputs": [
    {
     "data": {
      "text/plain": [
       "'{\\n  \"Relevance\": \"NON_RELEVANT\",\\n  \"Explanation\": \"The generated answer provides some relevant information about the skills and experience needed to assemble a strong product team, but it lacks depth and fails to capture the essence of the original answer. The answer could be improved by providing a more comprehensive and accurate understanding of the topic.\"\\n}'"
      ]
     },
     "execution_count": 59,
     "metadata": {},
     "output_type": "execute_result"
    }
   ],
   "source": [
    "answer = llm(prompt)\n",
    "answer"
   ]
  },
  {
   "cell_type": "code",
   "execution_count": 60,
   "metadata": {},
   "outputs": [
    {
     "name": "stderr",
     "output_type": "stream",
     "text": [
      "100%|██████████| 40/40 [08:08<00:00, 12.22s/it]\n"
     ]
    }
   ],
   "source": [
    "evaluations = []\n",
    "\n",
    "for record in tqdm(samples):\n",
    "    prompt = prompt1_template.format(**record)\n",
    "    evaluation = llm(prompt)\n",
    "    evaluations.append(evaluation)"
   ]
  },
  {
   "cell_type": "code",
   "execution_count": 62,
   "metadata": {},
   "outputs": [
    {
     "data": {
      "text/plain": [
       "'{\\n  \"Relevance\": \"NON_RELEVANT\",\\n  \"Explanation\": \"The generated answer provides only relevant skills and experience needed to assemble a strong product team, but it lacks context and discussion about how each skill contributes to the team\\'s success.\"\\n}'"
      ]
     },
     "execution_count": 62,
     "metadata": {},
     "output_type": "execute_result"
    }
   ],
   "source": [
    "evaluations[0]"
   ]
  },
  {
   "cell_type": "code",
   "execution_count": 63,
   "metadata": {},
   "outputs": [
    {
     "name": "stdout",
     "output_type": "stream",
     "text": [
      "Error decoding JSON at index 1: Extra data: line 7 column 1 (char 332)\n",
      "Problematic string: {\n",
      "  \"Relevance\": \"NON_RELEVANT\",\n",
      "  \"Explanation\": \"The passage suggests that a simple task, like a homework assignment, can help to assess a data scientist's skills and attention to detail. However, the passage does not provide any specific information about how a simple task can be used to assess these skills and abilities.\"\n",
      "}\n",
      "\n",
      "\n",
      "**Note:** The provided context does not contain any information about the relevancy or similarity of the generated answer compared to the original answer.\n",
      "Error decoding JSON at index 3: Invalid control character at: line 3 column 99 (char 131)\n",
      "Problematic string: {\n",
      "  \"Relevance\": \"NON_RELEVANT\",\n",
      "  \"Explanation\": \"The generated answer does not provide any information about the relevance of the\n",
      "    generated answer compared to the original answer.\"\n",
      "}\n",
      "Error decoding JSON at index 11: Expecting ',' delimiter: line 3 column 247 (char 279)\n",
      "Problematic string: {\n",
      "  \"Relevance\": \"NON_RELEVANT\",\n",
      "  \"Explanation\": \"The answer provides a general overview of the decision between hiring a data science manager or an expert, but it does not specify any specific benefits or reasons why hiring a manager might be preferable in certain situations.\"\n",
      "Error decoding JSON at index 20: Invalid control character at: line 3 column 92 (char 124)\n",
      "Problematic string: {\n",
      "  \"Relevance\": \"NON_RELEVANT\",\n",
      "  \"Explanation\": \"The generated answer does not provide any information about the relevance\n",
      "  of the original answer in relation to the topic of the article.\"\n",
      "}\n",
      "Error decoding JSON at index 35: Expecting ',' delimiter: line 3 column 347 (char 379)\n",
      "Problematic string: {\n",
      "  \"Relevance\": \"NON_RELEVANT\",\n",
      "  \"Explanation\": \"The generated answer provides a broad overview of the roles of a data science manager and a data science expert, but it does not delve into the specific technical skills and knowledge required for each role. It also fails to mention that a data science expert typically has more years of experience than a data science manager.\"\n",
      "Error decoding JSON at index 36: Invalid control character at: line 3 column 76 (char 108)\n",
      "Problematic string: {\n",
      "  \"Relevance\": \"NON_RELEVANT\",\n",
      "  \"Explanation\": \"The generated answer provides no relevance or information\n",
      "  contained in the original context about the purpose of the article.\"\n",
      "}\n"
     ]
    }
   ],
   "source": [
    "json_evaluations = []\n",
    "\n",
    "for i, str_eval in enumerate(evaluations):\n",
    "    try:\n",
    "        json_eval = json.loads(str_eval)\n",
    "        json_evaluations.append(json_eval)\n",
    "    except json.JSONDecodeError as e:\n",
    "        print(f\"Error decoding JSON at index {i}: {e}\")\n",
    "        print(f\"Problematic string: {str_eval}\")"
   ]
  },
  {
   "cell_type": "code",
   "execution_count": 64,
   "metadata": {},
   "outputs": [
    {
     "data": {
      "text/plain": [
       "34"
      ]
     },
     "execution_count": 64,
     "metadata": {},
     "output_type": "execute_result"
    }
   ],
   "source": [
    "len(json_evaluations)"
   ]
  },
  {
   "cell_type": "code",
   "execution_count": 65,
   "metadata": {},
   "outputs": [],
   "source": [
    "df_evaluations = pd.DataFrame(json_evaluations)"
   ]
  },
  {
   "cell_type": "code",
   "execution_count": 66,
   "metadata": {},
   "outputs": [
    {
     "data": {
      "text/plain": [
       "Relevance\n",
       "NON_RELEVANT       33\n",
       "PARTLY_RELEVANT     1\n",
       "Name: count, dtype: int64"
      ]
     },
     "execution_count": 66,
     "metadata": {},
     "output_type": "execute_result"
    }
   ],
   "source": [
    "df_evaluations.Relevance.value_counts()"
   ]
  },
  {
   "cell_type": "code",
   "execution_count": 67,
   "metadata": {},
   "outputs": [
    {
     "data": {
      "text/html": [
       "<div>\n",
       "<style scoped>\n",
       "    .dataframe tbody tr th:only-of-type {\n",
       "        vertical-align: middle;\n",
       "    }\n",
       "\n",
       "    .dataframe tbody tr th {\n",
       "        vertical-align: top;\n",
       "    }\n",
       "\n",
       "    .dataframe thead th {\n",
       "        text-align: right;\n",
       "    }\n",
       "</style>\n",
       "<table border=\"1\" class=\"dataframe\">\n",
       "  <thead>\n",
       "    <tr style=\"text-align: right;\">\n",
       "      <th></th>\n",
       "      <th>Relevance</th>\n",
       "      <th>Explanation</th>\n",
       "    </tr>\n",
       "  </thead>\n",
       "  <tbody>\n",
       "    <tr>\n",
       "      <th>0</th>\n",
       "      <td>NON_RELEVANT</td>\n",
       "      <td>The generated answer provides only relevant sk...</td>\n",
       "    </tr>\n",
       "    <tr>\n",
       "      <th>1</th>\n",
       "      <td>NON_RELEVANT</td>\n",
       "      <td>The generated answer does not provide any rele...</td>\n",
       "    </tr>\n",
       "    <tr>\n",
       "      <th>2</th>\n",
       "      <td>NON_RELEVANT</td>\n",
       "      <td>The context does not provide any information a...</td>\n",
       "    </tr>\n",
       "    <tr>\n",
       "      <th>3</th>\n",
       "      <td>NON_RELEVANT</td>\n",
       "      <td>The generated answer provides no information a...</td>\n",
       "    </tr>\n",
       "    <tr>\n",
       "      <th>4</th>\n",
       "      <td>NON_RELEVANT</td>\n",
       "      <td>The generated answer does not provide any info...</td>\n",
       "    </tr>\n",
       "    <tr>\n",
       "      <th>5</th>\n",
       "      <td>NON_RELEVANT</td>\n",
       "      <td>The generated answer does not provide any info...</td>\n",
       "    </tr>\n",
       "    <tr>\n",
       "      <th>6</th>\n",
       "      <td>NON_RELEVANT</td>\n",
       "      <td>The generated answer does not provide any info...</td>\n",
       "    </tr>\n",
       "    <tr>\n",
       "      <th>7</th>\n",
       "      <td>NON_RELEVANT</td>\n",
       "      <td>The generated answer provides some basic infor...</td>\n",
       "    </tr>\n",
       "    <tr>\n",
       "      <th>8</th>\n",
       "      <td>NON_RELEVANT</td>\n",
       "      <td>The generated answer does not provide any exam...</td>\n",
       "    </tr>\n",
       "    <tr>\n",
       "      <th>9</th>\n",
       "      <td>NON_RELEVANT</td>\n",
       "      <td>The answer provides a definition of a data sci...</td>\n",
       "    </tr>\n",
       "    <tr>\n",
       "      <th>11</th>\n",
       "      <td>NON_RELEVANT</td>\n",
       "      <td>The passage does not provide any information a...</td>\n",
       "    </tr>\n",
       "    <tr>\n",
       "      <th>12</th>\n",
       "      <td>NON_RELEVANT</td>\n",
       "      <td>The generated answer provides only a general o...</td>\n",
       "    </tr>\n",
       "    <tr>\n",
       "      <th>13</th>\n",
       "      <td>NON_RELEVANT</td>\n",
       "      <td>The generated answer does not provide any rele...</td>\n",
       "    </tr>\n",
       "    <tr>\n",
       "      <th>14</th>\n",
       "      <td>NON_RELEVANT</td>\n",
       "      <td>The generated answer provides a general defini...</td>\n",
       "    </tr>\n",
       "    <tr>\n",
       "      <th>15</th>\n",
       "      <td>NON_RELEVANT</td>\n",
       "      <td>The passage does not provide any information a...</td>\n",
       "    </tr>\n",
       "    <tr>\n",
       "      <th>16</th>\n",
       "      <td>NON_RELEVANT</td>\n",
       "      <td>The answer is not relevant to the original que...</td>\n",
       "    </tr>\n",
       "    <tr>\n",
       "      <th>17</th>\n",
       "      <td>NON_RELEVANT</td>\n",
       "      <td>The generated answer does not provide any info...</td>\n",
       "    </tr>\n",
       "    <tr>\n",
       "      <th>18</th>\n",
       "      <td>NON_RELEVANT</td>\n",
       "      <td>The generated answer completely disregards the...</td>\n",
       "    </tr>\n",
       "    <tr>\n",
       "      <th>19</th>\n",
       "      <td>NON_RELEVANT</td>\n",
       "      <td>The generated answer highlights the importance...</td>\n",
       "    </tr>\n",
       "    <tr>\n",
       "      <th>20</th>\n",
       "      <td>NON_RELEVANT</td>\n",
       "      <td>The generated answer provides a list of skills...</td>\n",
       "    </tr>\n",
       "    <tr>\n",
       "      <th>21</th>\n",
       "      <td>NON_RELEVANT</td>\n",
       "      <td>The generated answer does not address the orig...</td>\n",
       "    </tr>\n",
       "    <tr>\n",
       "      <th>22</th>\n",
       "      <td>NON_RELEVANT</td>\n",
       "      <td>The generated answer focuses on the process of...</td>\n",
       "    </tr>\n",
       "    <tr>\n",
       "      <th>23</th>\n",
       "      <td>NON_RELEVANT</td>\n",
       "      <td>The generated answer provides a very generic d...</td>\n",
       "    </tr>\n",
       "    <tr>\n",
       "      <th>24</th>\n",
       "      <td>NON_RELEVANT</td>\n",
       "      <td>The generated answer does not explicitly menti...</td>\n",
       "    </tr>\n",
       "    <tr>\n",
       "      <th>25</th>\n",
       "      <td>NON_RELEVANT</td>\n",
       "      <td>The generated answer focuses on the process of...</td>\n",
       "    </tr>\n",
       "    <tr>\n",
       "      <th>26</th>\n",
       "      <td>NON_RELEVANT</td>\n",
       "      <td>The generated answer does not provide any rele...</td>\n",
       "    </tr>\n",
       "    <tr>\n",
       "      <th>27</th>\n",
       "      <td>NON_RELEVANT</td>\n",
       "      <td>The generated answer does not provide any info...</td>\n",
       "    </tr>\n",
       "    <tr>\n",
       "      <th>28</th>\n",
       "      <td>NON_RELEVANT</td>\n",
       "      <td>The generated answer completely disregards the...</td>\n",
       "    </tr>\n",
       "    <tr>\n",
       "      <th>29</th>\n",
       "      <td>NON_RELEVANT</td>\n",
       "      <td>The generated question cannot be answered beca...</td>\n",
       "    </tr>\n",
       "    <tr>\n",
       "      <th>30</th>\n",
       "      <td>NON_RELEVANT</td>\n",
       "      <td>The generated answer simply summarizes the dif...</td>\n",
       "    </tr>\n",
       "    <tr>\n",
       "      <th>31</th>\n",
       "      <td>NON_RELEVANT</td>\n",
       "      <td>The generated answer does not provide any info...</td>\n",
       "    </tr>\n",
       "    <tr>\n",
       "      <th>32</th>\n",
       "      <td>NON_RELEVANT</td>\n",
       "      <td>The generated question does not provide any in...</td>\n",
       "    </tr>\n",
       "    <tr>\n",
       "      <th>33</th>\n",
       "      <td>NON_RELEVANT</td>\n",
       "      <td>The generated answer addresses the question bu...</td>\n",
       "    </tr>\n",
       "  </tbody>\n",
       "</table>\n",
       "</div>"
      ],
      "text/plain": [
       "       Relevance                                        Explanation\n",
       "0   NON_RELEVANT  The generated answer provides only relevant sk...\n",
       "1   NON_RELEVANT  The generated answer does not provide any rele...\n",
       "2   NON_RELEVANT  The context does not provide any information a...\n",
       "3   NON_RELEVANT  The generated answer provides no information a...\n",
       "4   NON_RELEVANT  The generated answer does not provide any info...\n",
       "5   NON_RELEVANT  The generated answer does not provide any info...\n",
       "6   NON_RELEVANT  The generated answer does not provide any info...\n",
       "7   NON_RELEVANT  The generated answer provides some basic infor...\n",
       "8   NON_RELEVANT  The generated answer does not provide any exam...\n",
       "9   NON_RELEVANT  The answer provides a definition of a data sci...\n",
       "11  NON_RELEVANT  The passage does not provide any information a...\n",
       "12  NON_RELEVANT  The generated answer provides only a general o...\n",
       "13  NON_RELEVANT  The generated answer does not provide any rele...\n",
       "14  NON_RELEVANT  The generated answer provides a general defini...\n",
       "15  NON_RELEVANT  The passage does not provide any information a...\n",
       "16  NON_RELEVANT  The answer is not relevant to the original que...\n",
       "17  NON_RELEVANT  The generated answer does not provide any info...\n",
       "18  NON_RELEVANT  The generated answer completely disregards the...\n",
       "19  NON_RELEVANT  The generated answer highlights the importance...\n",
       "20  NON_RELEVANT  The generated answer provides a list of skills...\n",
       "21  NON_RELEVANT  The generated answer does not address the orig...\n",
       "22  NON_RELEVANT  The generated answer focuses on the process of...\n",
       "23  NON_RELEVANT  The generated answer provides a very generic d...\n",
       "24  NON_RELEVANT  The generated answer does not explicitly menti...\n",
       "25  NON_RELEVANT  The generated answer focuses on the process of...\n",
       "26  NON_RELEVANT  The generated answer does not provide any rele...\n",
       "27  NON_RELEVANT  The generated answer does not provide any info...\n",
       "28  NON_RELEVANT  The generated answer completely disregards the...\n",
       "29  NON_RELEVANT  The generated question cannot be answered beca...\n",
       "30  NON_RELEVANT  The generated answer simply summarizes the dif...\n",
       "31  NON_RELEVANT  The generated answer does not provide any info...\n",
       "32  NON_RELEVANT  The generated question does not provide any in...\n",
       "33  NON_RELEVANT  The generated answer addresses the question bu..."
      ]
     },
     "execution_count": 67,
     "metadata": {},
     "output_type": "execute_result"
    }
   ],
   "source": [
    "df_evaluations[df_evaluations.Relevance == 'NON_RELEVANT']"
   ]
  },
  {
   "cell_type": "code",
   "execution_count": 68,
   "metadata": {},
   "outputs": [
    {
     "name": "stdout",
     "output_type": "stream",
     "text": [
      "You are an expert evaluator for a Retrieval-Augmented Generation (RAG) system.\n",
      "Your task is to analyze the relevance of the generated answer to the given question.\n",
      "Based on the relevance of the generated answer, you will classify it\n",
      "as \"NON_RELEVANT\", \"PARTLY_RELEVANT\", or \"RELEVANT\".\n",
      "\n",
      "Here is the data for evaluation:\n",
      "\n",
      "Question: What is the advantage of hiring specialists compared to generalists?\n",
      "Generated Answer: The advantage of hiring specialists compared to generalists is that specialists will be able to bring a lot of knowledge to the table. Specialists should be able to work on specific tasks and solve a particular problem. Generalists should be able to work on a variety of tasks and roles.\n",
      "\n",
      "Please analyze the content and context of the generated answer in relation to the question\n",
      "and provide your evaluation in parsable JSON without using code blocks:\n",
      "\n",
      "{\n",
      "  \"Relevance\": \"NON_RELEVANT\" | \"PARTLY_RELEVANT\" | \"RELEVANT\",\n",
      "  \"Explanation\": \"[Provide a brief explanation for your evaluation]\"\n",
      "}\n"
     ]
    }
   ],
   "source": [
    "prompt = prompt2_template.format(**record)\n",
    "print(prompt)"
   ]
  },
  {
   "cell_type": "code",
   "execution_count": 69,
   "metadata": {},
   "outputs": [
    {
     "name": "stdout",
     "output_type": "stream",
     "text": [
      "{\n",
      "  \"Relevance\": \"NON_RELEVANT\",\n",
      "  \"Explanation\": \"The generated answer is completely irrelevant to the question. It does not provide any relevant information or insights related to the topic.\"\n",
      "}\n"
     ]
    }
   ],
   "source": [
    "evaluation = llm(prompt)\n",
    "print(evaluation)"
   ]
  },
  {
   "cell_type": "code",
   "execution_count": 70,
   "metadata": {},
   "outputs": [
    {
     "name": "stderr",
     "output_type": "stream",
     "text": [
      "100%|██████████| 40/40 [05:20<00:00,  8.01s/it]\n"
     ]
    }
   ],
   "source": [
    "evaluations_2 = []\n",
    "\n",
    "for record in tqdm(samples):\n",
    "    prompt = prompt2_template.format(**record)\n",
    "    evaluation = llm(prompt)\n",
    "    evaluations_2.append(evaluation)"
   ]
  },
  {
   "cell_type": "code",
   "execution_count": 71,
   "metadata": {},
   "outputs": [
    {
     "name": "stdout",
     "output_type": "stream",
     "text": [
      "Error decoding JSON at index 10: Expecting ',' delimiter: line 3 column 167 (char 199)\n",
      "Problematic string: {\n",
      "  \"Relevance\": \"NON_RELEVANT\",\n",
      "  \"Explanation\": \"The answer is not related to the question and does not provide any relevant information about the relevance of the answer to the original question.\"\n",
      "Error decoding JSON at index 23: Expecting ',' delimiter: line 3 column 332 (char 367)\n",
      "Problematic string: {\n",
      "  \"Relevance\": \"PARTLY_RELEVANT\",\n",
      "  \"Explanation\": \"The answer addresses the importance of understanding the team's specific needs by providing guidance on hiring team members with relevant skills. However, the answer itself is not highly relevant to the question itself. It could be improved by providing more specific examples or context to illustrate the point.\"\n",
      "Error decoding JSON at index 37: Invalid control character at: line 3 column 71 (char 103)\n",
      "Problematic string: {\n",
      "  \"Relevance\": \"NON_RELEVANT\",\n",
      "  \"Explanation\": \"The generated answer provides irrelevant information\n",
      "related to data engineers, which is not relevant to the question.\"\n",
      "}\n"
     ]
    }
   ],
   "source": [
    "json_evaluations_2 = []\n",
    "\n",
    "for i, str_eval in enumerate(evaluations_2):\n",
    "    try:\n",
    "        json_eval = json.loads(str_eval)\n",
    "        json_evaluations_2.append(json_eval)\n",
    "    except json.JSONDecodeError as e:\n",
    "        print(f\"Error decoding JSON at index {i}: {e}\")\n",
    "        print(f\"Problematic string: {str_eval}\")"
   ]
  },
  {
   "cell_type": "code",
   "execution_count": 73,
   "metadata": {},
   "outputs": [
    {
     "data": {
      "text/plain": [
       "{'Relevance': 'NON_RELEVANT',\n",
       " 'Explanation': 'The generated answer provides no information or insights related to the question, making it entirely irrelevant for the task.'}"
      ]
     },
     "execution_count": 73,
     "metadata": {},
     "output_type": "execute_result"
    }
   ],
   "source": [
    "json_evaluations_2[10]"
   ]
  },
  {
   "cell_type": "code",
   "execution_count": 74,
   "metadata": {},
   "outputs": [],
   "source": [
    "df_evaluations_2 = pd.DataFrame(json_evaluations_2)"
   ]
  },
  {
   "cell_type": "code",
   "execution_count": 75,
   "metadata": {},
   "outputs": [
    {
     "data": {
      "text/plain": [
       "Relevance\n",
       "NON_RELEVANT       36\n",
       "PARTLY_RELEVANT     1\n",
       "Name: count, dtype: int64"
      ]
     },
     "execution_count": 75,
     "metadata": {},
     "output_type": "execute_result"
    }
   ],
   "source": [
    "df_evaluations_2.Relevance.value_counts()"
   ]
  }
 ],
 "metadata": {
  "kernelspec": {
   "display_name": "llm-zoomcamp-18Y2mSdS",
   "language": "python",
   "name": "python3"
  },
  "language_info": {
   "codemirror_mode": {
    "name": "ipython",
    "version": 3
   },
   "file_extension": ".py",
   "mimetype": "text/x-python",
   "name": "python",
   "nbconvert_exporter": "python",
   "pygments_lexer": "ipython3",
   "version": "3.10.12"
  }
 },
 "nbformat": 4,
 "nbformat_minor": 2
}
