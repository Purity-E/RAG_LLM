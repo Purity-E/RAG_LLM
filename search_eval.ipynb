{
 "cells": [
  {
   "cell_type": "markdown",
   "metadata": {},
   "source": [
    "Generating the ground-truth data"
   ]
  },
  {
   "cell_type": "markdown",
   "metadata": {},
   "source": [
    "step1: Load data"
   ]
  },
  {
   "cell_type": "code",
   "execution_count": 1,
   "metadata": {},
   "outputs": [
    {
     "name": "stderr",
     "output_type": "stream",
     "text": [
      "/home/purity/.local/share/virtualenvs/llm-zoomcamp-18Y2mSdS/lib/python3.10/site-packages/tqdm/auto.py:21: TqdmWarning: IProgress not found. Please update jupyter and ipywidgets. See https://ipywidgets.readthedocs.io/en/stable/user_install.html\n",
      "  from .autonotebook import tqdm as notebook_tqdm\n"
     ]
    }
   ],
   "source": [
    "import json\n",
    "import hashlib\n",
    "from collections import defaultdict\n",
    "from openai import OpenAI\n",
    "from tqdm.auto import tqdm\n",
    "import pandas as pd\n",
    "from elasticsearch import Elasticsearch"
   ]
  },
  {
   "cell_type": "code",
   "execution_count": 2,
   "metadata": {},
   "outputs": [],
   "source": [
    "#loading data\n",
    "with open('documents.json', 'r') as file:  # Replace 'data.json' with the path to your file\n",
    "    data = json.load(file)"
   ]
  },
  {
   "cell_type": "code",
   "execution_count": 3,
   "metadata": {},
   "outputs": [
    {
     "data": {
      "text/plain": [
       "{'body': 'A typical data team consists of the following roles: All these people work to create a data product. To explain the core responsibilities of each role, we will use a case scenario: Suppose we work at an online classifieds company. It’s a platform where users can go to sell things they don’t need (like OLX, where I work). If a user has an iPhone they want to sell — they go to this website, create a listing and sell their phone. On this platform, sellers sometimes have problems with identifying the correct category for the items they are selling. To help them, we want to build a service that suggests the best category. To sell their iPhone, the user creates a listing and the site needs to automatically understand that this iPhone has to go in the “mobile phones” category. Let’s start with the first role: product manager.',\n",
       " 'Title': 'Roles in a Data Team'}"
      ]
     },
     "execution_count": 3,
     "metadata": {},
     "output_type": "execute_result"
    }
   ],
   "source": [
    "documents = []\n",
    "\n",
    "for article_dict in data:\n",
    "    for doc in article_dict['documents']:\n",
    "        doc['Title'] = article_dict['Title']\n",
    "        documents.append(doc)\n",
    "\n",
    "documents[1]"
   ]
  },
  {
   "cell_type": "markdown",
   "metadata": {},
   "source": [
    "Step2: Generate document id"
   ]
  },
  {
   "cell_type": "code",
   "execution_count": 4,
   "metadata": {},
   "outputs": [],
   "source": [
    "def generate_document_id(doc):\n",
    "    combined = f\"{doc['Title']}-{doc['body']}\"\n",
    "    hash_object = hashlib.md5(combined.encode())\n",
    "    hash_hex = hash_object.hexdigest()\n",
    "    document_id = hash_hex[:8]\n",
    "    return document_id"
   ]
  },
  {
   "cell_type": "code",
   "execution_count": 5,
   "metadata": {},
   "outputs": [],
   "source": [
    "for doc in documents:\n",
    "    doc['id'] = generate_document_id(doc)"
   ]
  },
  {
   "cell_type": "code",
   "execution_count": 6,
   "metadata": {},
   "outputs": [
    {
     "data": {
      "text/plain": [
       "{'body': 'A typical data team consists of the following roles: All these people work to create a data product. To explain the core responsibilities of each role, we will use a case scenario: Suppose we work at an online classifieds company. It’s a platform where users can go to sell things they don’t need (like OLX, where I work). If a user has an iPhone they want to sell — they go to this website, create a listing and sell their phone. On this platform, sellers sometimes have problems with identifying the correct category for the items they are selling. To help them, we want to build a service that suggests the best category. To sell their iPhone, the user creates a listing and the site needs to automatically understand that this iPhone has to go in the “mobile phones” category. Let’s start with the first role: product manager.',\n",
       " 'Title': 'Roles in a Data Team',\n",
       " 'id': '80c6bcf6'}"
      ]
     },
     "execution_count": 6,
     "metadata": {},
     "output_type": "execute_result"
    }
   ],
   "source": [
    "documents[1]"
   ]
  },
  {
   "cell_type": "markdown",
   "metadata": {},
   "source": [
    "Step3: Checking how unique the hashes are"
   ]
  },
  {
   "cell_type": "code",
   "execution_count": 7,
   "metadata": {},
   "outputs": [],
   "source": [
    "hashes = defaultdict(list)\n",
    "\n",
    "for doc in documents:\n",
    "    doc_id = doc['id']\n",
    "    hashes[doc_id].append(doc)"
   ]
  },
  {
   "cell_type": "code",
   "execution_count": 8,
   "metadata": {},
   "outputs": [
    {
     "data": {
      "text/plain": [
       "(42, 42)"
      ]
     },
     "execution_count": 8,
     "metadata": {},
     "output_type": "execute_result"
    }
   ],
   "source": [
    "len(hashes), len(documents)"
   ]
  },
  {
   "cell_type": "markdown",
   "metadata": {},
   "source": [
    "Step4: Saving the document"
   ]
  },
  {
   "cell_type": "code",
   "execution_count": 9,
   "metadata": {},
   "outputs": [],
   "source": [
    "with open('documents-with-ids.json', 'wt') as f_out:\n",
    "    json.dump(documents, f_out, indent=2)"
   ]
  },
  {
   "cell_type": "code",
   "execution_count": 10,
   "metadata": {},
   "outputs": [
    {
     "name": "stdout",
     "output_type": "stream",
     "text": [
      "[\n",
      "  {\n",
      "    \"body\": \"14 Dec 2020 byAlexey Grigorev\",\n",
      "    \"Title\": \"Roles in a Data Team\",\n",
      "    \"id\": \"d2d8f692\"\n",
      "  },\n",
      "  {\n",
      "    \"body\": \"A typical data team consists of the following roles: All these people work to create a data product. To explain the core responsibilities of each role, we will use a case scenario: Suppose we work at an online classifieds company. It\\u2019s a platform where users can go to sell things they don\\u2019t need (like OLX, where I work). If a user has an iPhone they want to sell \\u2014 they go to this website, create a listing and sell their phone. On this platform, sellers sometimes have problems with identifying the correct category for the items they are selling. To help them, we want to build a service that suggests the best category. To sell their iPhone, the user creates a listing and the site needs to automatically understand that this iPhone has to go in the \\u201cmobile phones\\u201d category. Let\\u2019s start with the first role: product manager.\",\n",
      "    \"Title\": \"Roles in a Data Team\",\n",
      "    \"id\": \"80c6bcf6\"\n"
     ]
    }
   ],
   "source": [
    "!head documents-with-ids.json"
   ]
  },
  {
   "cell_type": "markdown",
   "metadata": {},
   "source": [
    "Step5: Use an LLM to generate user questions for each record"
   ]
  },
  {
   "cell_type": "code",
   "execution_count": 11,
   "metadata": {},
   "outputs": [],
   "source": [
    "#building the prompt\n",
    "prompt_template = \"\"\"\n",
    "You emulate a user who wants to get more info from the articles.\n",
    "Formulate 5 questions this user may ask based on a record. The record\n",
    "should contain the body from which the answer to the questions are drawn from, and the questions should be complete and not too short.\n",
    "If possible, use as fewer words as possible from the record. \n",
    "\n",
    "The record:\n",
    "\n",
    "body: {body}\n",
    "\n",
    "Provide the output in parsable JSON without using code blocks:\n",
    "\n",
    "[\"question1\", \"question2\", ..., \"question5\"]\n",
    "\"\"\".strip()"
   ]
  },
  {
   "cell_type": "code",
   "execution_count": 12,
   "metadata": {},
   "outputs": [],
   "source": [
    "client = OpenAI(\n",
    "    base_url='http://localhost:11434/v1/',\n",
    "    api_key='ollama',\n",
    ")"
   ]
  },
  {
   "cell_type": "code",
   "execution_count": 13,
   "metadata": {},
   "outputs": [],
   "source": [
    "def generate_questions(doc):\n",
    "    prompt = prompt_template.format(**doc)\n",
    "\n",
    "    response = client.chat.completions.create(\n",
    "        model='gemma:2b',\n",
    "        messages=[{\"role\": \"user\", \"content\": prompt}]\n",
    "    )\n",
    "\n",
    "    json_response = response.choices[0].message.content\n",
    "    return json_response"
   ]
  },
  {
   "cell_type": "code",
   "execution_count": 14,
   "metadata": {},
   "outputs": [],
   "source": [
    "results = {}"
   ]
  },
  {
   "cell_type": "code",
   "execution_count": 15,
   "metadata": {},
   "outputs": [
    {
     "name": "stderr",
     "output_type": "stream",
     "text": [
      "  0%|          | 0/42 [00:00<?, ?it/s]"
     ]
    },
    {
     "name": "stderr",
     "output_type": "stream",
     "text": [
      "100%|██████████| 42/42 [10:44<00:00, 15.35s/it]\n"
     ]
    }
   ],
   "source": [
    "for doc in tqdm(documents): \n",
    "    doc_id = doc['id']\n",
    "    if doc_id in results:\n",
    "        continue\n",
    "\n",
    "    questions = generate_questions(doc)\n",
    "    results[doc_id] = questions"
   ]
  },
  {
   "cell_type": "code",
   "execution_count": 16,
   "metadata": {},
   "outputs": [
    {
     "data": {
      "text/plain": [
       "'{\\n  \"question1\": \"What are the three main areas that data scientists should focus on?\",\\n  \"question2\": \"What is the content of this article based on?\",\\n  \"question3\": \"What is the purpose of the podcast episode \\'The ABC\\'s of Data Sciencewith Danny Ma at DataTalks.Club\\'?\",\\n  \"question4\": \"What are some tips to learn new skills?\",\\n  \"question5\": \"What\\'s the influence of the podcast episode on this article?\":\\n}'"
      ]
     },
     "execution_count": 16,
     "metadata": {},
     "output_type": "execute_result"
    }
   ],
   "source": [
    "results['ab83ca73']"
   ]
  },
  {
   "cell_type": "markdown",
   "metadata": {},
   "source": [
    "Step6: Storing the data"
   ]
  },
  {
   "cell_type": "code",
   "execution_count": 17,
   "metadata": {},
   "outputs": [
    {
     "name": "stdout",
     "output_type": "stream",
     "text": [
      "Error parsing JSON for document ID 80c6bcf6: Expecting ',' delimiter: line 6 column 96 (char 442)\n",
      "Attempting to fix the JSON string for document ID 80c6bcf6...\n",
      "Unable to fix the JSON for document ID 80c6bcf6: Expecting ',' delimiter: line 6 column 96 (char 442)\n",
      "Problematic JSON string: {\n",
      "  \"question1\": \"What is the primary responsibility of a product manager in this scenario?\",\n",
      "  \"question2\": \"What is the purpose of this category suggestion service?\",\n",
      "  \"question3\": \"What type of platform does this scenario apply to?\",\n",
      "  \"question4\": \"How does this category suggestion service help sellers to accurately classify their items?\",\n",
      "  \"question5\": \"What are some of the challenges faced by the product manager in this scenario?\"\n",
      "Error parsing JSON for document ID e8f74f94: Expecting ',' delimiter: line 6 column 99 (char 389)\n",
      "Attempting to fix the JSON string for document ID e8f74f94...\n",
      "Unable to fix the JSON for document ID e8f74f94: Expecting ',' delimiter: line 6 column 99 (char 389)\n",
      "Problematic JSON string: {\n",
      "  \"question1\": \"What is the primary goal of a product manager?\",\n",
      "  \"question2\": \"What are the soft skills that a product manager needs to have?\",\n",
      "  \"question3\": \"How does a product manager communicate with the team?\",\n",
      "  \"question4\": \"What is the main responsibilty of a product manager?\",\n",
      "  \"question5\": \"What is the typical approach a product manager takes when dealing with a problem?\"\n",
      "Error parsing JSON for document ID af8066af: Extra data: line 2 column 1 (char 56)\n",
      "Attempting to fix the JSON string for document ID af8066af...\n",
      "Unable to fix the JSON for document ID af8066af: Extra data: line 2 column 1 (char 56)\n",
      "Problematic JSON string: {\"question1\": \"What are the skills of a data analyst?\"}\n",
      "{\"question2\": \"What is the purpose of defining key metrics?\"}\n",
      "{\"question3\": \"What is the role of data analysts in product management?\"}\n",
      "{\"question4\": \"What is the purpose of building dashboards?\"}\n",
      "{\"question5\": \"How do data analysts often measure the effectiveness of services?\"}\n",
      "Error parsing JSON for document ID eab92b1c: Expecting ',' delimiter: line 6 column 92 (char 411)\n",
      "Attempting to fix the JSON string for document ID eab92b1c...\n",
      "Unable to fix the JSON for document ID eab92b1c: Expecting ',' delimiter: line 6 column 92 (char 411)\n",
      "Problematic JSON string: {\n",
      "  \"question1\": \"What is the primary responsibility of data engineers?\",\n",
      "  \"question2\": \"How does data engineers ensure that the data is accessible only to authorized users?\",\n",
      "  \"question3\": \"What are some of the skills typically required to be a data engineer?\",\n",
      "  \"question4\": \"What is the purpose of a data lake?\", \n",
      "  \"question5\": \"How do data engineers ensure that the data is safe and used appropriately?\"\n",
      "Error parsing JSON for document ID 3f710493: Expecting ',' delimiter: line 6 column 88 (char 485)\n",
      "Attempting to fix the JSON string for document ID 3f710493...\n",
      "Unable to fix the JSON for document ID 3f710493: Expecting ',' delimiter: line 6 column 88 (char 485)\n",
      "Problematic JSON string: {\n",
      "  \"question1\": \"What is the primary focus of SREs in a service-oriented environment?\",\n",
      "  \"question2\": \"How do SREs ensure continuous service availability and reliability?\",\n",
      "  \"question3\": \"What are the primary tasks and responsibilities of a site reliability engineer?\",\n",
      "  \"question4\": \"What is the difference between SREs and ML engineers and data engineers in terms of their focus in DevOps?\",\n",
      "  \"question5\": \"What is the specific role of an MLOps engineer in the DevOps function?\"\n",
      "Error parsing JSON for document ID c2ed1179: Expecting ',' delimiter: line 6 column 74 (char 378)\n",
      "Attempting to fix the JSON string for document ID c2ed1179...\n",
      "Unable to fix the JSON for document ID c2ed1179: Expecting ',' delimiter: line 6 column 74 (char 378)\n",
      "Problematic JSON string: {\n",
      "\"question1\": \"What is the difference between an MLOps engineer and a DevOps engineer?\",\n",
      "\"question2\": \"What are the responsibilities of an MLOps engineer?\",\n",
      "\"question3\": \"Describe the lifecycle of a machine learning model\",\n",
      "\"question4\": \"What are some of the tasks that an MLOps engineer accomplishes?\",\n",
      "\"question5\": \"How does an MLOps engineer work with the rest of the team?\"\n",
      "Error parsing JSON for document ID b315e33d: Expecting ',' delimiter: line 5 column 53 (char 246)\n",
      "Attempting to fix the JSON string for document ID b315e33d...\n",
      "Unable to fix the JSON for document ID b315e33d: Expecting ',' delimiter: line 5 column 53 (char 246)\n",
      "Problematic JSON string: {\n",
      "  \"question1\": \"Which roles are mentioned in the article?\",\n",
      "  \"question2\": \"What are the responsibilities of each role?\",\n",
      "  \"question3\": \"How is data team structure defined in the industry?\",\n",
      "  \"question4\": \"What is the purpose of the podcast \"Roles in a data team\"?\",\n",
      "  \"question5\": \"How can I learn more about the data team structure and roles?\",\n",
      "}\n",
      "Error parsing JSON for document ID 54ae8356: Expecting ',' delimiter: line 6 column 117 (char 564)\n",
      "Attempting to fix the JSON string for document ID 54ae8356...\n",
      "Unable to fix the JSON for document ID 54ae8356: Expecting ',' delimiter: line 6 column 117 (char 564)\n",
      "Problematic JSON string: {\n",
      "  \"question1\": \"What is a collaborative field within data science? How can writers contribute to it?\",\n",
      "  \"question2\": \"How can writing articles help improve a team member's skills and motivation?\",\n",
      "  \"question3\": \"What are some incentives that can be offered to encourage team members to contribute to open-source projects?\",\n",
      "  \"question4\": \"What are some other ways team members can gain knowledge and contribute their expertise to the field?\",\n",
      "  \"question5\": \"How can teams collaborate and share knowledge effectively, encouraging a collaborative environment?\"\n",
      "Error parsing JSON for document ID 9d40ed11: Expecting value: line 1 column 1 (char 0)\n",
      "Attempting to fix the JSON string for document ID 9d40ed11...\n",
      "Unable to fix the JSON for document ID 9d40ed11: Expecting value: line 1 column 1 (char 0)\n",
      "Problematic JSON string: **Question 1:** What are the different categories of data science projects?\n",
      "\n",
      "\n",
      "**Question 2:** What are the key factors to consider when choosing a data science project?\n",
      "\n",
      "\n",
      "**Question 3:** Why is it important to consider the context and objectives when choosing a data science project?\n",
      "\n",
      "\n",
      "**Question 4:** What are some resources that can help a user learn about data science projects?\n",
      "\n",
      "\n",
      "**Question 5:** What are some examples of data science projects that a beginner could explore?\n",
      "Error parsing JSON for document ID 3a95ae1f: Expecting ',' delimiter: line 6 column 102 (char 462)\n",
      "Attempting to fix the JSON string for document ID 3a95ae1f...\n",
      "Unable to fix the JSON for document ID 3a95ae1f: Expecting ',' delimiter: line 6 column 102 (char 462)\n",
      "Problematic JSON string: {\n",
      "  \"question1\": \"What are the skills and experience required for a team member in data science?\",\n",
      "  \"question2\": \"What is the importance of having diverse skills and expertise on a data science team?\",\n",
      "  \"question3\": \"How can you create a collaborative and creative work environment?\",\n",
      "  \"question4\": \"What resources are needed to build a data science team?\",\n",
      "  \"question5\": \"How can fostering creativity and collaboration affect a data science team's success?\"\n",
      "Error parsing JSON for document ID a36e1561: Expecting value: line 1 column 1 (char 0)\n",
      "Attempting to fix the JSON string for document ID a36e1561...\n",
      "Unable to fix the JSON for document ID a36e1561: Expecting value: line 1 column 1 (char 0)\n",
      "Problematic JSON string: Here are the questions you asked based on the record:\n",
      "\n",
      "1. What was the date of the article?\n",
      "\n",
      "\n",
      "2. Who wrote the article?\n",
      "\n",
      "\n",
      "3. What was the content of the article?\n",
      "\n",
      "\n",
      "4. What was the topic of the article?\n",
      "\n",
      "\n",
      "5. When was the article published?\n",
      "Error parsing JSON for document ID 71fa3970: Expecting ',' delimiter: line 6 column 111 (char 595)\n",
      "Attempting to fix the JSON string for document ID 71fa3970...\n",
      "Unable to fix the JSON for document ID 71fa3970: Expecting ',' delimiter: line 6 column 111 (char 595)\n",
      "Problematic JSON string: {\n",
      "\"question1\": \"What specific data science tools and techniques should data science managers be familiar with?\",\n",
      "\"question2\": \"How can data science managers understand and interpret the results of data science experiments?\",\n",
      "\"question3\": \"What are some non-technical skills that are important for data science managers to possess?\",\n",
      "\"question4\": \"How do data science managers work with different teams within an organization, and how do they manage multiple projects simultaneously?\",\n",
      "\"question5\": \"What are the specific technical skills that are essential for data science managers to possess?\"\n",
      "Error parsing JSON for document ID 432c7f04: Expecting ',' delimiter: line 6 column 109 (char 704)\n",
      "Attempting to fix the JSON string for document ID 432c7f04...\n",
      "Unable to fix the JSON for document ID 432c7f04: Expecting ',' delimiter: line 6 column 109 (char 704)\n",
      "Problematic JSON string: {\n",
      "  \"question1\": \"How does the holistic approach of a data science manager enable them to identify new opportunities to leverage data science in various business areas?\",\n",
      "  \"question2\": \"What are the responsibilities of a data science manager and what are some of the skills and expertise required for this role?\",\n",
      "  \"question3\": \"What are the core tasks of a data science expert, and how do they contribute to successful data science projects?\",\n",
      "  \"question4\": \"How does the ability to communicate and present data science insights contribute to success in the role of a data science manager?\",\n",
      "  \"question5\": \"What are the key challenges and rewards associated with the role of a data science manager?\"\n",
      "Error parsing JSON for document ID b1189546: Expecting ',' delimiter: line 6 column 82 (char 552)\n",
      "Attempting to fix the JSON string for document ID b1189546...\n",
      "Unable to fix the JSON for document ID b1189546: Expecting ',' delimiter: line 6 column 82 (char 552)\n",
      "Problematic JSON string: {\n",
      "  \"question1\": \"What are some of the responsibilities of a data science manager?\",\n",
      "  \"question2\": \"How can data science managers ensure that their team is working harmoniously and effectively towards common goals?\",\n",
      "  \"question3\": \"What are some ways that data science managers can provide insights and suggestions that can help improve the work of the team?\",\n",
      "  \"question4\": \"What are some of the challenges that data science managers may face when managing a team?\",\n",
      "  \"question5\": \"How can data science managers build a strong and effective team?\"\n",
      "Error parsing JSON for document ID 21bddb74: Expecting value: line 1 column 1 (char 0)\n",
      "Attempting to fix the JSON string for document ID 21bddb74...\n",
      "Unable to fix the JSON for document ID 21bddb74: Expecting value: line 1 column 1 (char 0)\n",
      "Problematic JSON string: **Question 1:** When was the article published?\n",
      "\n",
      "**Question 2:** Who wrote the article?\n",
      "\n",
      "**Question 3:** What was the main topic of the article?\n",
      "\n",
      "**Question 4:** What is the main message of the article?\n",
      "\n",
      "**Question 5:** What were the supporting details discussed in the article?\n",
      "Error parsing JSON for document ID 12853fa6: Expecting ',' delimiter: line 6 column 116 (char 442)\n",
      "Attempting to fix the JSON string for document ID 12853fa6...\n",
      "Unable to fix the JSON for document ID 12853fa6: Expecting ',' delimiter: line 6 column 116 (char 442)\n",
      "Problematic JSON string: {\n",
      "  \"question1\": \"What is the definition of an engineer according to the Oxford English Dictionary?\",\n",
      "  \"question2\": \"How does an engineer's work differ from a manual role?\",\n",
      "  \"question3\": \"What is the main focus of an engineer in water resources?\",\n",
      "  \"question4\": \"What is the main focus of an engineer in data processing?\",\n",
      "  \"question5\": \"What is the key difference between manual and engineering roles in the context of an organization?\"\n",
      "Error parsing JSON for document ID 17d3cdea: Expecting ',' delimiter: line 3 column 3 (char 55)\n",
      "Attempting to fix the JSON string for document ID 17d3cdea...\n",
      "Unable to fix the JSON for document ID 17d3cdea: Expecting ',' delimiter: line 3 column 3 (char 55)\n",
      "Problematic JSON string: {\n",
      "  \"question1\": \"What was the date of the article?\"\n",
      "  \"question2\": \"What was the author of the article?\"\n",
      "  \"question3\": \"What was the topic of the article?\"\n",
      "  \"question4\": \"What was the main content of the article?\"\n",
      "  \"question5\": \"When was the article published?\"\n",
      "}\n",
      "Error parsing JSON for document ID ef22baca: Expecting ',' delimiter: line 3 column 3 (char 65)\n",
      "Attempting to fix the JSON string for document ID ef22baca...\n",
      "Unable to fix the JSON for document ID ef22baca: Expecting ',' delimiter: line 3 column 3 (char 65)\n",
      "Problematic JSON string: {\n",
      "  \"question1\": \"What is the primary role of a data analyst?\"\n",
      "  \"question2\": \"How does data analysts contribute to the data science field?\"\n",
      "  \"question3\": \"What are some of the key skills required for a data analyst?\"\n",
      "  \"question4\": \"What programming languages are used in data analysis?\"\n",
      "  \"question5\": \"What is the importance of curiosity in data science?\"\n",
      "Error parsing JSON for document ID f6bfce1d: Expecting ',' delimiter: line 6 column 100 (char 382)\n",
      "Attempting to fix the JSON string for document ID f6bfce1d...\n",
      "Unable to fix the JSON for document ID f6bfce1d: Expecting ',' delimiter: line 6 column 100 (char 382)\n",
      "Problematic JSON string: {\n",
      "    \"question1\": \"Which programming language is used in Data Science? \",\n",
      "    \"question2\": \"What is Git? \",\n",
      "    \"question3\": \"How do data scientists use Docker? \",\n",
      "    \"question4\": \"Name a cloud computing platform that provides scalable resources for storing and processing data.\",\n",
      "    \"question5\": \"What is a data scientist's primary focus when designing and building AI systems?\"\n",
      "Error parsing JSON for document ID b4ee0560: Expecting ',' delimiter: line 6 column 84 (char 404)\n",
      "Attempting to fix the JSON string for document ID b4ee0560...\n",
      "Unable to fix the JSON for document ID b4ee0560: Expecting ',' delimiter: line 6 column 84 (char 404)\n",
      "Problematic JSON string: {\n",
      "\"question1\": \"What is the primary function of a type C data scientist?\",\n",
      "\"question2\": \"What are the key skills and qualities that a type C data scientist should possess?\",\n",
      "\"question3\": \"What is the typical role of a type C data scientist?\",\n",
      "\"question4\": \"What are some of the challenges and requirements of the role?\",\n",
      "\"question5\": \"How does a type C data scientist make recommendations and decisions?\"\n",
      "Error parsing JSON for document ID b736671c: Expecting ',' delimiter: line 6 column 96 (char 415)\n",
      "Attempting to fix the JSON string for document ID b736671c...\n",
      "Unable to fix the JSON for document ID b736671c: Expecting ',' delimiter: line 6 column 96 (char 415)\n",
      "Problematic JSON string: {\n",
      "\"question1\": \"What is the key to entering the data science field?\",\n",
      "\"question2\": \"How can someone gain basic knowledge of data science?\",\n",
      "\"question3\": \"What are some resources helpful for practicing and learning data science?\",\n",
      "\"question4\": \"What are the key stages one should take to be successful in data science?\",\n",
      "\"question5\": \"What are some ways to stay updated with the latest advancements in data science?\"\n",
      "Error parsing JSON for document ID ab83ca73: Expecting ',' delimiter: line 6 column 78 (char 408)\n",
      "Attempting to fix the JSON string for document ID ab83ca73...\n",
      "Unable to fix the JSON for document ID ab83ca73: Expecting ',' delimiter: line 6 column 78 (char 408)\n",
      "Problematic JSON string: {\n",
      "  \"question1\": \"What are the three main areas that data scientists should focus on?\",\n",
      "  \"question2\": \"What is the content of this article based on?\",\n",
      "  \"question3\": \"What is the purpose of the podcast episode 'The ABC's of Data Sciencewith Danny Ma at DataTalks.Club'?\",\n",
      "  \"question4\": \"What are some tips to learn new skills?\",\n",
      "  \"question5\": \"What's the influence of the podcast episode on this article?\":\n",
      "}\n",
      "Error parsing JSON for document ID 4c149a8d: Expecting ',' delimiter: line 6 column 98 (char 528)\n",
      "Attempting to fix the JSON string for document ID 4c149a8d...\n",
      "Unable to fix the JSON for document ID 4c149a8d: Expecting ',' delimiter: line 6 column 98 (char 528)\n",
      "Problematic JSON string: {\n",
      "  \"question1\": \"What are the factors causing the shortage of data engineers?\",\n",
      "  \"question2\": \"What are the hurdles that non-IT professionals need to overcome to get a data engineer job?\",\n",
      "  \"question3\": \"What are some strategies for overcoming these obstacles and finding a data engineer job?\",\n",
      "  \"question4\": \"What are the challenges and opportunities associated with this profession in terms of job availability and salary?\",\n",
      "  \"question5\": \"Is there anything else that could contribute to this shortage of data engineers?\"\n",
      "Error parsing JSON for document ID bcf3b5a8: Expecting ',' delimiter: line 6 column 100 (char 432)\n",
      "Attempting to fix the JSON string for document ID bcf3b5a8...\n",
      "Unable to fix the JSON for document ID bcf3b5a8: Expecting ',' delimiter: line 6 column 100 (char 432)\n",
      "Problematic JSON string: {\n",
      "  \"question1\": \"What topics should I learn to work as a data engineer?\",\n",
      "  \"question2\": \"How can learning from failure be applied in job searching?\",\n",
      "  \"question3\": \"What are some ways to build a solid network?\",\n",
      "  \"question4\": \"How can the principle of resilience and persistence help improve my chances of achieving a new job?\",\n",
      "  \"question5\": \"How can learning from failure be applied in the context of the job search process?\"\n",
      "Error parsing JSON for document ID fc94071c: Expecting ',' delimiter: line 6 column 94 (char 506)\n",
      "Attempting to fix the JSON string for document ID fc94071c...\n",
      "Unable to fix the JSON for document ID fc94071c: Expecting ',' delimiter: line 6 column 94 (char 506)\n",
      "Problematic JSON string: {\n",
      "  \"question1\": \"What are the main reasons why getting a data engineer position is hard?\",\n",
      "  \"question2\": \"What are the five pieces of advice mentioned in the article to overcome these difficulties?\",\n",
      "  \"question3\": \"How did the article suggest that the job might be hard?\",\n",
      "  \"question4\": \"What are some of the specific skills and knowledge that the article suggests are essential for a data engineer's role?\",\n",
      "  \"question5\": \"What is the author's tone in this article? Was it informative or optimistic?\"\n"
     ]
    }
   ],
   "source": [
    "parsed_results = {}\n",
    "\n",
    "for doc_id, json_questions in results.items():\n",
    "    try:\n",
    "        # Try to parse the JSON string as-is\n",
    "        parsed_results[doc_id] = json.loads(json_questions)\n",
    "    except json.JSONDecodeError as e:\n",
    "        print(f\"Error parsing JSON for document ID {doc_id}: {e}\")\n",
    "        print(f\"Attempting to fix the JSON string for document ID {doc_id}...\")\n",
    "\n",
    "        # Fix the JSON by adding missing commas between key-value pairs\n",
    "        fixed_json = json_questions.replace('\"\\n \"', '\",\\n \"')\n",
    "\n",
    "        try:\n",
    "            # Try to parse the fixed JSON\n",
    "            parsed_results[doc_id] = json.loads(fixed_json)\n",
    "        except json.JSONDecodeError as e:\n",
    "            print(f\"Unable to fix the JSON for document ID {doc_id}: {e}\")\n",
    "            print(f\"Problematic JSON string: {fixed_json}\")"
   ]
  },
  {
   "cell_type": "code",
   "execution_count": 19,
   "metadata": {},
   "outputs": [
    {
     "data": {
      "text/plain": [
       "17"
      ]
     },
     "execution_count": 19,
     "metadata": {},
     "output_type": "execute_result"
    }
   ],
   "source": [
    "len(parsed_results)"
   ]
  },
  {
   "cell_type": "code",
   "execution_count": 20,
   "metadata": {},
   "outputs": [],
   "source": [
    "doc_index = {d['id']: d for d in documents}"
   ]
  },
  {
   "cell_type": "code",
   "execution_count": 23,
   "metadata": {},
   "outputs": [
    {
     "data": {
      "text/plain": [
       "{'d2d8f692': {'question1': 'What was the purpose of the trip?',\n",
       "  'question2': 'What specific details were included in the article?',\n",
       "  'question3': 'Are there any notable quotes or anecdotes from the article?',\n",
       "  'question4': 'What was the result of the trip?',\n",
       "  'question5': 'What were the conclusions drawn from the outcome?'},\n",
       " '99ce651b': {'question1': 'What is the difference between a data scientist and a data analyst?',\n",
       "  'question2': 'How does a data scientist use data to create a machine learning model?',\n",
       "  'question3': 'What does a data scientist focus more on when creating a machine learning service?',\n",
       "  'question4': \"What is the main focus of a data scientist's job?\",\n",
       "  'question5': \"How does a data scientist's focus on engineering impact the final product?\"},\n",
       " 'f10a49a7': {'question1': 'What is the main focus of machine learning engineers?',\n",
       "  'question2': 'What are the skills that machine learning engineers have that are similar to that of data engineers?',\n",
       "  'question3': 'How do machine learning engineers collaborate with other engineers in a data team?',\n",
       "  'question4': 'What are the main responsibilities of site reliability engineers?',\n",
       "  'question5': 'What are the skills that site reliability engineers have that are similar to that of data engineers?'},\n",
       " '024e0acf': {'question1': 'What was the original purpose of the article?',\n",
       "  'question2': 'What were the key takeaways from the article?',\n",
       "  'question3': \"What was the author's purpose in writing this article?\",\n",
       "  'question4': 'What were the main points discussed in the article?',\n",
       "  'question5': 'What was the overall tone of the article?'},\n",
       " '2ab10bad': {'question1': 'What is the best way to find talented data scientists?',\n",
       "  'question2': 'What are the technical and soft skills that a data team member should have?',\n",
       "  'question3': 'How can you assess the skillset of a data team member?',\n",
       "  'question4': 'How can you find suitable candidates for a data team?',\n",
       "  'question5': 'What are some tips for building a successful data team?'},\n",
       " 'c98506af': {'question1': 'What type of profile should be made when hiring specialists?',\n",
       "  'question2': 'What is the advantage of hiring specialists compared to generalists?',\n",
       "  'question3': 'What is the advantage of hiring generalists compared to specialists?',\n",
       "  'question4': \"What is the approach and how does it affect team members' roles?\",\n",
       "  'question5': 'How do companies decide between hiring generalists and specialists?'},\n",
       " 'ede66e1a': {'question1': 'What stage do you recommend to hire the first people?',\n",
       "  'question2': 'What are the essential skills for each role?',\n",
       "  'question3': \"What is the importance of understanding the team's specific needs?\",\n",
       "  'question4': 'What are the factors to consider when deciding who to hire?',\n",
       "  'question5': 'How are these roles different compared to other roles that a team member might need?'},\n",
       " 'cc59df8b': {'question1': 'What is considered a strong product team?',\n",
       "  'question2': 'What are the responsibilities of a product team?',\n",
       "  'question3': 'What does it mean for a product team to have a clear vision for the product?',\n",
       "  'question4': 'What are the skills and experience needed to assemble a strong product team?',\n",
       "  'question5': 'How can a company build a strong product team?'},\n",
       " 'fd4b6f76': {'question1': 'What is the most important thing to consider when hiring a data scientist?',\n",
       "  'question2': 'What are the key skills that a data scientist should have?',\n",
       "  'question3': 'How does an interview help to assess the thought process of a data scientist?',\n",
       "  'question4': 'What kind of personal experiences are important to consider when hiring a data scientist?',\n",
       "  'question5': \"How can a simple task, like a homework assignment, help to assess a data scientist's skills and attention to detail?\"},\n",
       " '4123e3aa': {'question1': \"Which role is different from the manager's role?\",\n",
       "  'question2': \"What is an expert's role in the area they specialize in?\",\n",
       "  'question3': \"What other is essential for a data science manager's role?\",\n",
       "  'question4': 'What is the primary responsibility of a data science manager?',\n",
       "  'question5': 'What does a data science expert provide that is key to improving decision-making?'},\n",
       " 'f825c2c7': {'question1': 'What is the role of a data science manager in a project?',\n",
       "  'question2': 'What are the responsibilities of a data science manager?',\n",
       "  'question3': \"How can a data science manager help improve a project's success?\",\n",
       "  'question4': 'What are the benefits of hiring a data science manager?',\n",
       "  'question5': 'How does a data science manager typically build a data science team?'},\n",
       " 'fa413fd7': {'question1': 'What is the key difference between a data science manager and a data science expert?',\n",
       "  'question2': 'What are the general skills required for a data science manager?',\n",
       "  'question3': 'What is the main responsibility of a data science manager?',\n",
       "  'question4': 'What are the main responsibilities of a data science expert?',\n",
       "  'question5': 'What is the best fit between a data science manager and a data science expert?'},\n",
       " 'f4a8e598': {'question1': 'What is the primary task of a data engineer?',\n",
       "  'question2': 'How would a data engineer approach designing a data pipeline for extracting, transforming, and storing data?',\n",
       "  'question3': 'What are the main components of a data warehouse?',\n",
       "  'question4': 'How does a data engineer ensure data quality and integrity in a water resources engineering project?',\n",
       "  'question5': 'What is the difference between a mechanical engineer and a data engineer?'},\n",
       " 'e5fe70c8': {'question1': 'What are the differences between the tools used by data engineers and hydraulic and water resources engineers in terms of purpose?',\n",
       "  'question2': 'What are the key similarities between the tools used by data engineers and hydraulic and water resources engineers in terms of purpose?',\n",
       "  'question3': 'What are some examples of tools that are used by both data engineers and hydraulic and water resources engineers?',\n",
       "  'question4': 'How are the tools used by data engineers different from the tools used by hydraulic and water resources engineers?',\n",
       "  'question5': 'What is the purpose of these tools in the context of data engineering tasks?'},\n",
       " '60a2a944': {'question1': 'What are the three subjects that data engineers are less identical to?',\n",
       "  'question2': 'What is the cliché mentioned in the context?',\n",
       "  'question3': \"Can you guess what the author is most likely thinking about when they say 'data engineers are less identical to plumbers'?\",\n",
       "  'question4': 'What is the result of the question?',\n",
       "  'question5': 'What is your conclusion based on the information provided?'},\n",
       " '59195bb7': {'question1': 'What are some of the skills that are needed in order to work as a data scientist?',\n",
       "  'question2': 'What are some of the different ways that people can learn the skills needed to become a data scientist?',\n",
       "  'question3': 'What are some of the benefits of learning to code in order to become a data scientist?',\n",
       "  'question4': 'What are some of the challenges to learning to code in order to become a data scientist?',\n",
       "  'question5': 'What are some of the resources that people can use to learn the skills needed to become a data scientist?'},\n",
       " '59385f12': {'question1': \"What was the article's main topic?\",\n",
       "  'question2': 'What date and time was the article published?',\n",
       "  'question3': 'What were the main points discussed in the article?',\n",
       "  'question4': 'Who wrote the article?',\n",
       "  'question5': \"What is the author's biography?\"}}"
      ]
     },
     "execution_count": 23,
     "metadata": {},
     "output_type": "execute_result"
    }
   ],
   "source": [
    "parsed_results"
   ]
  },
  {
   "cell_type": "code",
   "execution_count": 25,
   "metadata": {},
   "outputs": [],
   "source": [
    "final_results = []\n",
    "\n",
    "for doc_id, questions in parsed_results.items():\n",
    "    title = doc_index[doc_id]['Title']\n",
    "    body = doc_index[doc_id]['body']\n",
    "    for question_number, question in questions.items():\n",
    "        final_results.append((question, title, body, doc_id))"
   ]
  },
  {
   "cell_type": "code",
   "execution_count": 27,
   "metadata": {},
   "outputs": [
    {
     "data": {
      "text/plain": [
       "85"
      ]
     },
     "execution_count": 27,
     "metadata": {},
     "output_type": "execute_result"
    }
   ],
   "source": [
    "len(final_results)"
   ]
  },
  {
   "cell_type": "code",
   "execution_count": 26,
   "metadata": {},
   "outputs": [
    {
     "data": {
      "text/plain": [
       "[('What was the purpose of the trip?',\n",
       "  'Roles in a Data Team',\n",
       "  '14 Dec 2020 byAlexey Grigorev',\n",
       "  'd2d8f692'),\n",
       " ('What specific details were included in the article?',\n",
       "  'Roles in a Data Team',\n",
       "  '14 Dec 2020 byAlexey Grigorev',\n",
       "  'd2d8f692'),\n",
       " ('Are there any notable quotes or anecdotes from the article?',\n",
       "  'Roles in a Data Team',\n",
       "  '14 Dec 2020 byAlexey Grigorev',\n",
       "  'd2d8f692'),\n",
       " ('What was the result of the trip?',\n",
       "  'Roles in a Data Team',\n",
       "  '14 Dec 2020 byAlexey Grigorev',\n",
       "  'd2d8f692'),\n",
       " ('What were the conclusions drawn from the outcome?',\n",
       "  'Roles in a Data Team',\n",
       "  '14 Dec 2020 byAlexey Grigorev',\n",
       "  'd2d8f692'),\n",
       " ('What is the difference between a data scientist and a data analyst?',\n",
       "  'Roles in a Data Team',\n",
       "  'The roles of a data scientist and data analyst are pretty similar. In some companies, it’s the same person who does both jobs. However, data scientists typically focus more on predicting rather than explaining. A data analyst fetches the data, looks at it, explains what’s going on to the team, and gives some recommendations on what to do about it. A data scientist, on the other hand, focuses more on creating machine learning services. For example, one of the questions that a data scientist would want to answer is “How can we use this data to build a machine learning model for predicting something?” In other words, data scientists incorporate the data into the product. Their focus is more on engineering than analysis. Data scientists work more closely with engineers on integrating data solutions into the product. The skills of data scientists include: For our example, the data scientists are the people who develop the model used for predicting the category. Once they have a model, they can develop a simple web service for hosting this model.',\n",
       "  '99ce651b'),\n",
       " ('How does a data scientist use data to create a machine learning model?',\n",
       "  'Roles in a Data Team',\n",
       "  'The roles of a data scientist and data analyst are pretty similar. In some companies, it’s the same person who does both jobs. However, data scientists typically focus more on predicting rather than explaining. A data analyst fetches the data, looks at it, explains what’s going on to the team, and gives some recommendations on what to do about it. A data scientist, on the other hand, focuses more on creating machine learning services. For example, one of the questions that a data scientist would want to answer is “How can we use this data to build a machine learning model for predicting something?” In other words, data scientists incorporate the data into the product. Their focus is more on engineering than analysis. Data scientists work more closely with engineers on integrating data solutions into the product. The skills of data scientists include: For our example, the data scientists are the people who develop the model used for predicting the category. Once they have a model, they can develop a simple web service for hosting this model.',\n",
       "  '99ce651b'),\n",
       " ('What does a data scientist focus more on when creating a machine learning service?',\n",
       "  'Roles in a Data Team',\n",
       "  'The roles of a data scientist and data analyst are pretty similar. In some companies, it’s the same person who does both jobs. However, data scientists typically focus more on predicting rather than explaining. A data analyst fetches the data, looks at it, explains what’s going on to the team, and gives some recommendations on what to do about it. A data scientist, on the other hand, focuses more on creating machine learning services. For example, one of the questions that a data scientist would want to answer is “How can we use this data to build a machine learning model for predicting something?” In other words, data scientists incorporate the data into the product. Their focus is more on engineering than analysis. Data scientists work more closely with engineers on integrating data solutions into the product. The skills of data scientists include: For our example, the data scientists are the people who develop the model used for predicting the category. Once they have a model, they can develop a simple web service for hosting this model.',\n",
       "  '99ce651b'),\n",
       " (\"What is the main focus of a data scientist's job?\",\n",
       "  'Roles in a Data Team',\n",
       "  'The roles of a data scientist and data analyst are pretty similar. In some companies, it’s the same person who does both jobs. However, data scientists typically focus more on predicting rather than explaining. A data analyst fetches the data, looks at it, explains what’s going on to the team, and gives some recommendations on what to do about it. A data scientist, on the other hand, focuses more on creating machine learning services. For example, one of the questions that a data scientist would want to answer is “How can we use this data to build a machine learning model for predicting something?” In other words, data scientists incorporate the data into the product. Their focus is more on engineering than analysis. Data scientists work more closely with engineers on integrating data solutions into the product. The skills of data scientists include: For our example, the data scientists are the people who develop the model used for predicting the category. Once they have a model, they can develop a simple web service for hosting this model.',\n",
       "  '99ce651b'),\n",
       " (\"How does a data scientist's focus on engineering impact the final product?\",\n",
       "  'Roles in a Data Team',\n",
       "  'The roles of a data scientist and data analyst are pretty similar. In some companies, it’s the same person who does both jobs. However, data scientists typically focus more on predicting rather than explaining. A data analyst fetches the data, looks at it, explains what’s going on to the team, and gives some recommendations on what to do about it. A data scientist, on the other hand, focuses more on creating machine learning services. For example, one of the questions that a data scientist would want to answer is “How can we use this data to build a machine learning model for predicting something?” In other words, data scientists incorporate the data into the product. Their focus is more on engineering than analysis. Data scientists work more closely with engineers on integrating data solutions into the product. The skills of data scientists include: For our example, the data scientists are the people who develop the model used for predicting the category. Once they have a model, they can develop a simple web service for hosting this model.',\n",
       "  '99ce651b'),\n",
       " ('What is the main focus of machine learning engineers?',\n",
       "  'Roles in a Data Team',\n",
       "  'Machine learning engineers take whatever data scientists build and help them scale it up. They also ensure that the service is maintainable and that the team follows the best engineering practices. Their focus is more on engineering than on modeling. The skills ML engineers have are similar to that of data engineers: Additionally, ML engineers work closely with more “traditional” engineers, like backend engineers, frontend engineers, or mobile engineers, to ensure that the services from the data team are included in the final product. For our example, ML engineers work together with data scientists on productionizing the category suggestion services. They make sure it’s stable once it’s rolled out to all the users. They must also ensure that it’s maintainable and it’s possible to make changes to the service in the future. There’s another kind of engineer that can be pretty important in a data team — site reliability engineers.',\n",
       "  'f10a49a7'),\n",
       " ('What are the skills that machine learning engineers have that are similar to that of data engineers?',\n",
       "  'Roles in a Data Team',\n",
       "  'Machine learning engineers take whatever data scientists build and help them scale it up. They also ensure that the service is maintainable and that the team follows the best engineering practices. Their focus is more on engineering than on modeling. The skills ML engineers have are similar to that of data engineers: Additionally, ML engineers work closely with more “traditional” engineers, like backend engineers, frontend engineers, or mobile engineers, to ensure that the services from the data team are included in the final product. For our example, ML engineers work together with data scientists on productionizing the category suggestion services. They make sure it’s stable once it’s rolled out to all the users. They must also ensure that it’s maintainable and it’s possible to make changes to the service in the future. There’s another kind of engineer that can be pretty important in a data team — site reliability engineers.',\n",
       "  'f10a49a7'),\n",
       " ('How do machine learning engineers collaborate with other engineers in a data team?',\n",
       "  'Roles in a Data Team',\n",
       "  'Machine learning engineers take whatever data scientists build and help them scale it up. They also ensure that the service is maintainable and that the team follows the best engineering practices. Their focus is more on engineering than on modeling. The skills ML engineers have are similar to that of data engineers: Additionally, ML engineers work closely with more “traditional” engineers, like backend engineers, frontend engineers, or mobile engineers, to ensure that the services from the data team are included in the final product. For our example, ML engineers work together with data scientists on productionizing the category suggestion services. They make sure it’s stable once it’s rolled out to all the users. They must also ensure that it’s maintainable and it’s possible to make changes to the service in the future. There’s another kind of engineer that can be pretty important in a data team — site reliability engineers.',\n",
       "  'f10a49a7'),\n",
       " ('What are the main responsibilities of site reliability engineers?',\n",
       "  'Roles in a Data Team',\n",
       "  'Machine learning engineers take whatever data scientists build and help them scale it up. They also ensure that the service is maintainable and that the team follows the best engineering practices. Their focus is more on engineering than on modeling. The skills ML engineers have are similar to that of data engineers: Additionally, ML engineers work closely with more “traditional” engineers, like backend engineers, frontend engineers, or mobile engineers, to ensure that the services from the data team are included in the final product. For our example, ML engineers work together with data scientists on productionizing the category suggestion services. They make sure it’s stable once it’s rolled out to all the users. They must also ensure that it’s maintainable and it’s possible to make changes to the service in the future. There’s another kind of engineer that can be pretty important in a data team — site reliability engineers.',\n",
       "  'f10a49a7'),\n",
       " ('What are the skills that site reliability engineers have that are similar to that of data engineers?',\n",
       "  'Roles in a Data Team',\n",
       "  'Machine learning engineers take whatever data scientists build and help them scale it up. They also ensure that the service is maintainable and that the team follows the best engineering practices. Their focus is more on engineering than on modeling. The skills ML engineers have are similar to that of data engineers: Additionally, ML engineers work closely with more “traditional” engineers, like backend engineers, frontend engineers, or mobile engineers, to ensure that the services from the data team are included in the final product. For our example, ML engineers work together with data scientists on productionizing the category suggestion services. They make sure it’s stable once it’s rolled out to all the users. They must also ensure that it’s maintainable and it’s possible to make changes to the service in the future. There’s another kind of engineer that can be pretty important in a data team — site reliability engineers.',\n",
       "  'f10a49a7'),\n",
       " ('What was the original purpose of the article?',\n",
       "  'Building a Data Science Team',\n",
       "  '12 Jul 2022 byAngelica Lo Duca',\n",
       "  '024e0acf'),\n",
       " ('What were the key takeaways from the article?',\n",
       "  'Building a Data Science Team',\n",
       "  '12 Jul 2022 byAngelica Lo Duca',\n",
       "  '024e0acf'),\n",
       " (\"What was the author's purpose in writing this article?\",\n",
       "  'Building a Data Science Team',\n",
       "  '12 Jul 2022 byAngelica Lo Duca',\n",
       "  '024e0acf'),\n",
       " ('What were the main points discussed in the article?',\n",
       "  'Building a Data Science Team',\n",
       "  '12 Jul 2022 byAngelica Lo Duca',\n",
       "  '024e0acf'),\n",
       " ('What was the overall tone of the article?',\n",
       "  'Building a Data Science Team',\n",
       "  '12 Jul 2022 byAngelica Lo Duca',\n",
       "  '024e0acf'),\n",
       " ('What is the best way to find talented data scientists?',\n",
       "  'Building a Data Science Team',\n",
       "  'There are two ways to start building a data team, as shown in the following figure: Indeed, there is no solution better than the other. In fact, some companies firstly define the project and then start hiring, and other companies that do exactly the opposite. A good trade-off could be a combination of both, in the sense thatyou could start from a vision, which defines what the end goal should be, but the final product is still unclear. Although you could have in your mind your final goal, you may not know which features will lead to the final product. For this reason,you could start hiring different rolesthat would take you to that point to get a better understanding of your vision. The best way to find talented data scientists is through referrals from people you trust. Attend meetups and conferences related to data science and big data, and post job listings on relevant online communities and forums. Once you have a few candidates, it’s important to evaluate their skillset carefully. In addition to technical ability, you want to make sure they have strong communication skills and are able to work well in a team environment. The best way to assess these skills is through coding challenges and interviews that test both their technical abilities and soft skills. Building a data team can be a challenge, but it’s definitely doable with careful planning and execution. By keeping these tips in mind, you’ll be well on your way',\n",
       "  '2ab10bad'),\n",
       " ('What are the technical and soft skills that a data team member should have?',\n",
       "  'Building a Data Science Team',\n",
       "  'There are two ways to start building a data team, as shown in the following figure: Indeed, there is no solution better than the other. In fact, some companies firstly define the project and then start hiring, and other companies that do exactly the opposite. A good trade-off could be a combination of both, in the sense thatyou could start from a vision, which defines what the end goal should be, but the final product is still unclear. Although you could have in your mind your final goal, you may not know which features will lead to the final product. For this reason,you could start hiring different rolesthat would take you to that point to get a better understanding of your vision. The best way to find talented data scientists is through referrals from people you trust. Attend meetups and conferences related to data science and big data, and post job listings on relevant online communities and forums. Once you have a few candidates, it’s important to evaluate their skillset carefully. In addition to technical ability, you want to make sure they have strong communication skills and are able to work well in a team environment. The best way to assess these skills is through coding challenges and interviews that test both their technical abilities and soft skills. Building a data team can be a challenge, but it’s definitely doable with careful planning and execution. By keeping these tips in mind, you’ll be well on your way',\n",
       "  '2ab10bad'),\n",
       " ('How can you assess the skillset of a data team member?',\n",
       "  'Building a Data Science Team',\n",
       "  'There are two ways to start building a data team, as shown in the following figure: Indeed, there is no solution better than the other. In fact, some companies firstly define the project and then start hiring, and other companies that do exactly the opposite. A good trade-off could be a combination of both, in the sense thatyou could start from a vision, which defines what the end goal should be, but the final product is still unclear. Although you could have in your mind your final goal, you may not know which features will lead to the final product. For this reason,you could start hiring different rolesthat would take you to that point to get a better understanding of your vision. The best way to find talented data scientists is through referrals from people you trust. Attend meetups and conferences related to data science and big data, and post job listings on relevant online communities and forums. Once you have a few candidates, it’s important to evaluate their skillset carefully. In addition to technical ability, you want to make sure they have strong communication skills and are able to work well in a team environment. The best way to assess these skills is through coding challenges and interviews that test both their technical abilities and soft skills. Building a data team can be a challenge, but it’s definitely doable with careful planning and execution. By keeping these tips in mind, you’ll be well on your way',\n",
       "  '2ab10bad'),\n",
       " ('How can you find suitable candidates for a data team?',\n",
       "  'Building a Data Science Team',\n",
       "  'There are two ways to start building a data team, as shown in the following figure: Indeed, there is no solution better than the other. In fact, some companies firstly define the project and then start hiring, and other companies that do exactly the opposite. A good trade-off could be a combination of both, in the sense thatyou could start from a vision, which defines what the end goal should be, but the final product is still unclear. Although you could have in your mind your final goal, you may not know which features will lead to the final product. For this reason,you could start hiring different rolesthat would take you to that point to get a better understanding of your vision. The best way to find talented data scientists is through referrals from people you trust. Attend meetups and conferences related to data science and big data, and post job listings on relevant online communities and forums. Once you have a few candidates, it’s important to evaluate their skillset carefully. In addition to technical ability, you want to make sure they have strong communication skills and are able to work well in a team environment. The best way to assess these skills is through coding challenges and interviews that test both their technical abilities and soft skills. Building a data team can be a challenge, but it’s definitely doable with careful planning and execution. By keeping these tips in mind, you’ll be well on your way',\n",
       "  '2ab10bad'),\n",
       " ('What are some tips for building a successful data team?',\n",
       "  'Building a Data Science Team',\n",
       "  'There are two ways to start building a data team, as shown in the following figure: Indeed, there is no solution better than the other. In fact, some companies firstly define the project and then start hiring, and other companies that do exactly the opposite. A good trade-off could be a combination of both, in the sense thatyou could start from a vision, which defines what the end goal should be, but the final product is still unclear. Although you could have in your mind your final goal, you may not know which features will lead to the final product. For this reason,you could start hiring different rolesthat would take you to that point to get a better understanding of your vision. The best way to find talented data scientists is through referrals from people you trust. Attend meetups and conferences related to data science and big data, and post job listings on relevant online communities and forums. Once you have a few candidates, it’s important to evaluate their skillset carefully. In addition to technical ability, you want to make sure they have strong communication skills and are able to work well in a team environment. The best way to assess these skills is through coding challenges and interviews that test both their technical abilities and soft skills. Building a data team can be a challenge, but it’s definitely doable with careful planning and execution. By keeping these tips in mind, you’ll be well on your way',\n",
       "  '2ab10bad'),\n",
       " ('What type of profile should be made when hiring specialists?',\n",
       "  'Building a Data Science Team',\n",
       "  'When you start hiring, you may search for two types of profiles, as shown in the following figure: If you decide to hire specialists, you’ll need to make sure that each team member is able to work together and share their knowledge. This can be a challenge, but if you have the right mix of people it can lead to a very strong team. The advantage of this approach is that each team member will be an expert in their own area and they’ll be able to bring a lot of knowledge to the table. If you decide to go with a team of generalists, the advantage of this approach is that everyone will have a good understanding of the whole data science process. In a startup, you should hire first generalists — people who can do pretty much everything.In fact, when you start, you have no lines of code. There’s nothing, which means you need to do back end, front end, DevOps, and whatever. Instead, if your company is already stable, probably you need more specialists, who focus on specific problems, such as tuning hyperparameters of a Machine Learning model. As your company grows, you may begin hiring more and more specialists and fewer generalists.',\n",
       "  'c98506af'),\n",
       " ('What is the advantage of hiring specialists compared to generalists?',\n",
       "  'Building a Data Science Team',\n",
       "  'When you start hiring, you may search for two types of profiles, as shown in the following figure: If you decide to hire specialists, you’ll need to make sure that each team member is able to work together and share their knowledge. This can be a challenge, but if you have the right mix of people it can lead to a very strong team. The advantage of this approach is that each team member will be an expert in their own area and they’ll be able to bring a lot of knowledge to the table. If you decide to go with a team of generalists, the advantage of this approach is that everyone will have a good understanding of the whole data science process. In a startup, you should hire first generalists — people who can do pretty much everything.In fact, when you start, you have no lines of code. There’s nothing, which means you need to do back end, front end, DevOps, and whatever. Instead, if your company is already stable, probably you need more specialists, who focus on specific problems, such as tuning hyperparameters of a Machine Learning model. As your company grows, you may begin hiring more and more specialists and fewer generalists.',\n",
       "  'c98506af'),\n",
       " ('What is the advantage of hiring generalists compared to specialists?',\n",
       "  'Building a Data Science Team',\n",
       "  'When you start hiring, you may search for two types of profiles, as shown in the following figure: If you decide to hire specialists, you’ll need to make sure that each team member is able to work together and share their knowledge. This can be a challenge, but if you have the right mix of people it can lead to a very strong team. The advantage of this approach is that each team member will be an expert in their own area and they’ll be able to bring a lot of knowledge to the table. If you decide to go with a team of generalists, the advantage of this approach is that everyone will have a good understanding of the whole data science process. In a startup, you should hire first generalists — people who can do pretty much everything.In fact, when you start, you have no lines of code. There’s nothing, which means you need to do back end, front end, DevOps, and whatever. Instead, if your company is already stable, probably you need more specialists, who focus on specific problems, such as tuning hyperparameters of a Machine Learning model. As your company grows, you may begin hiring more and more specialists and fewer generalists.',\n",
       "  'c98506af'),\n",
       " (\"What is the approach and how does it affect team members' roles?\",\n",
       "  'Building a Data Science Team',\n",
       "  'When you start hiring, you may search for two types of profiles, as shown in the following figure: If you decide to hire specialists, you’ll need to make sure that each team member is able to work together and share their knowledge. This can be a challenge, but if you have the right mix of people it can lead to a very strong team. The advantage of this approach is that each team member will be an expert in their own area and they’ll be able to bring a lot of knowledge to the table. If you decide to go with a team of generalists, the advantage of this approach is that everyone will have a good understanding of the whole data science process. In a startup, you should hire first generalists — people who can do pretty much everything.In fact, when you start, you have no lines of code. There’s nothing, which means you need to do back end, front end, DevOps, and whatever. Instead, if your company is already stable, probably you need more specialists, who focus on specific problems, such as tuning hyperparameters of a Machine Learning model. As your company grows, you may begin hiring more and more specialists and fewer generalists.',\n",
       "  'c98506af'),\n",
       " ('How do companies decide between hiring generalists and specialists?',\n",
       "  'Building a Data Science Team',\n",
       "  'When you start hiring, you may search for two types of profiles, as shown in the following figure: If you decide to hire specialists, you’ll need to make sure that each team member is able to work together and share their knowledge. This can be a challenge, but if you have the right mix of people it can lead to a very strong team. The advantage of this approach is that each team member will be an expert in their own area and they’ll be able to bring a lot of knowledge to the table. If you decide to go with a team of generalists, the advantage of this approach is that everyone will have a good understanding of the whole data science process. In a startup, you should hire first generalists — people who can do pretty much everything.In fact, when you start, you have no lines of code. There’s nothing, which means you need to do back end, front end, DevOps, and whatever. Instead, if your company is already stable, probably you need more specialists, who focus on specific problems, such as tuning hyperparameters of a Machine Learning model. As your company grows, you may begin hiring more and more specialists and fewer generalists.',\n",
       "  'c98506af'),\n",
       " ('What stage do you recommend to hire the first people?',\n",
       "  'Building a Data Science Team',\n",
       "  'When building a data science team, it can be difficult to decide who to hire first. The answer, of course, depends on your specific needs. But in general, we recommend hiring first the following three profiles, as shown in the following figure: At the beginning, you need people who can work on the prototype, who will write a lot of coding, and who will work on the product. It doesn’t make sense for you to hire a UX/UI designer when you have no work for them. Of course, every team is different, and you may find that you need to hire a different combination of roles depending on your unique circumstances. So you really need to understand, at which stage you are. And what kind of roles do you need now to solve this problem.',\n",
       "  'ede66e1a'),\n",
       " ('What are the essential skills for each role?',\n",
       "  'Building a Data Science Team',\n",
       "  'When building a data science team, it can be difficult to decide who to hire first. The answer, of course, depends on your specific needs. But in general, we recommend hiring first the following three profiles, as shown in the following figure: At the beginning, you need people who can work on the prototype, who will write a lot of coding, and who will work on the product. It doesn’t make sense for you to hire a UX/UI designer when you have no work for them. Of course, every team is different, and you may find that you need to hire a different combination of roles depending on your unique circumstances. So you really need to understand, at which stage you are. And what kind of roles do you need now to solve this problem.',\n",
       "  'ede66e1a'),\n",
       " (\"What is the importance of understanding the team's specific needs?\",\n",
       "  'Building a Data Science Team',\n",
       "  'When building a data science team, it can be difficult to decide who to hire first. The answer, of course, depends on your specific needs. But in general, we recommend hiring first the following three profiles, as shown in the following figure: At the beginning, you need people who can work on the prototype, who will write a lot of coding, and who will work on the product. It doesn’t make sense for you to hire a UX/UI designer when you have no work for them. Of course, every team is different, and you may find that you need to hire a different combination of roles depending on your unique circumstances. So you really need to understand, at which stage you are. And what kind of roles do you need now to solve this problem.',\n",
       "  'ede66e1a'),\n",
       " ('What are the factors to consider when deciding who to hire?',\n",
       "  'Building a Data Science Team',\n",
       "  'When building a data science team, it can be difficult to decide who to hire first. The answer, of course, depends on your specific needs. But in general, we recommend hiring first the following three profiles, as shown in the following figure: At the beginning, you need people who can work on the prototype, who will write a lot of coding, and who will work on the product. It doesn’t make sense for you to hire a UX/UI designer when you have no work for them. Of course, every team is different, and you may find that you need to hire a different combination of roles depending on your unique circumstances. So you really need to understand, at which stage you are. And what kind of roles do you need now to solve this problem.',\n",
       "  'ede66e1a'),\n",
       " ('How are these roles different compared to other roles that a team member might need?',\n",
       "  'Building a Data Science Team',\n",
       "  'When building a data science team, it can be difficult to decide who to hire first. The answer, of course, depends on your specific needs. But in general, we recommend hiring first the following three profiles, as shown in the following figure: At the beginning, you need people who can work on the prototype, who will write a lot of coding, and who will work on the product. It doesn’t make sense for you to hire a UX/UI designer when you have no work for them. Of course, every team is different, and you may find that you need to hire a different combination of roles depending on your unique circumstances. So you really need to understand, at which stage you are. And what kind of roles do you need now to solve this problem.',\n",
       "  'ede66e1a'),\n",
       " ('What is considered a strong product team?',\n",
       "  'Building a Data Science Team',\n",
       "  'To build a strong product team, it is important to first understand what a product team is.A product team is responsible for the development and management of a company’s products.This includes everything from the initial idea and conception of the product, to its design, production, and eventual distribution. A strong product team is a team that is building a product that the customer wants. Strong means: In other words, a strong product team will have a clear understanding of the market they are targeting and will work together to ensure that the final product meets the needs of their target audience. In order to build a strong product team, it is important to have a clear vision for the product and to assemble a team of individuals with the skills and experience necessary to bring that vision to fruition.',\n",
       "  'cc59df8b'),\n",
       " ('What are the responsibilities of a product team?',\n",
       "  'Building a Data Science Team',\n",
       "  'To build a strong product team, it is important to first understand what a product team is.A product team is responsible for the development and management of a company’s products.This includes everything from the initial idea and conception of the product, to its design, production, and eventual distribution. A strong product team is a team that is building a product that the customer wants. Strong means: In other words, a strong product team will have a clear understanding of the market they are targeting and will work together to ensure that the final product meets the needs of their target audience. In order to build a strong product team, it is important to have a clear vision for the product and to assemble a team of individuals with the skills and experience necessary to bring that vision to fruition.',\n",
       "  'cc59df8b'),\n",
       " ('What does it mean for a product team to have a clear vision for the product?',\n",
       "  'Building a Data Science Team',\n",
       "  'To build a strong product team, it is important to first understand what a product team is.A product team is responsible for the development and management of a company’s products.This includes everything from the initial idea and conception of the product, to its design, production, and eventual distribution. A strong product team is a team that is building a product that the customer wants. Strong means: In other words, a strong product team will have a clear understanding of the market they are targeting and will work together to ensure that the final product meets the needs of their target audience. In order to build a strong product team, it is important to have a clear vision for the product and to assemble a team of individuals with the skills and experience necessary to bring that vision to fruition.',\n",
       "  'cc59df8b'),\n",
       " ('What are the skills and experience needed to assemble a strong product team?',\n",
       "  'Building a Data Science Team',\n",
       "  'To build a strong product team, it is important to first understand what a product team is.A product team is responsible for the development and management of a company’s products.This includes everything from the initial idea and conception of the product, to its design, production, and eventual distribution. A strong product team is a team that is building a product that the customer wants. Strong means: In other words, a strong product team will have a clear understanding of the market they are targeting and will work together to ensure that the final product meets the needs of their target audience. In order to build a strong product team, it is important to have a clear vision for the product and to assemble a team of individuals with the skills and experience necessary to bring that vision to fruition.',\n",
       "  'cc59df8b'),\n",
       " ('How can a company build a strong product team?',\n",
       "  'Building a Data Science Team',\n",
       "  'To build a strong product team, it is important to first understand what a product team is.A product team is responsible for the development and management of a company’s products.This includes everything from the initial idea and conception of the product, to its design, production, and eventual distribution. A strong product team is a team that is building a product that the customer wants. Strong means: In other words, a strong product team will have a clear understanding of the market they are targeting and will work together to ensure that the final product meets the needs of their target audience. In order to build a strong product team, it is important to have a clear vision for the product and to assemble a team of individuals with the skills and experience necessary to bring that vision to fruition.',\n",
       "  'cc59df8b'),\n",
       " ('What is the most important thing to consider when hiring a data scientist?',\n",
       "  'Building a Data Science Team',\n",
       "  'When it comes to building a data science team, one of the most important things to consider is hiring a data scientist. While there are many different ways to go about this, there are a few key things to keep in mind. First, it’s important to find someone with the right skillset. You can look at thecandidate curriculum. A data scientist should be able to not only analyze data, but also understand how to use that data to solve real-world problems. Additionally, they should be well-versed in statistics and modeling, and be able to communicate their findings effectively. Once you’ve found a few candidates with the right skillset, it’s important tointerviewthem thoroughly. In addition to questions about their experience and qualifications, be sure to ask them about their approach to data science and how they would go about solving a specific problem. This will help you get a better sense of their thought process and whether or not they would be a good fit for your team. The interview should also include questions on personal experiences, to check whether that person is interesting or not. If someone is just plain boring, this is very difficult for the team. That person also needs a hobby, such as going to the cinema, doing some sports, or whatever. But that person needs to do something. You work more time with that person than you spend with your girlfriend or your wife. You spend more time with them than with the person that you love. So that’s why you need to understand that person really well. You could also include a second interview, which could be ahomework assignment. You could send out some homework, which is not very difficult. Then the candidate sends you the code, whether it is Jupyter Notebook or whatever. Then you should check it. From this simple task, you could already see how much people are working.',\n",
       "  'fd4b6f76'),\n",
       " ('What are the key skills that a data scientist should have?',\n",
       "  'Building a Data Science Team',\n",
       "  'When it comes to building a data science team, one of the most important things to consider is hiring a data scientist. While there are many different ways to go about this, there are a few key things to keep in mind. First, it’s important to find someone with the right skillset. You can look at thecandidate curriculum. A data scientist should be able to not only analyze data, but also understand how to use that data to solve real-world problems. Additionally, they should be well-versed in statistics and modeling, and be able to communicate their findings effectively. Once you’ve found a few candidates with the right skillset, it’s important tointerviewthem thoroughly. In addition to questions about their experience and qualifications, be sure to ask them about their approach to data science and how they would go about solving a specific problem. This will help you get a better sense of their thought process and whether or not they would be a good fit for your team. The interview should also include questions on personal experiences, to check whether that person is interesting or not. If someone is just plain boring, this is very difficult for the team. That person also needs a hobby, such as going to the cinema, doing some sports, or whatever. But that person needs to do something. You work more time with that person than you spend with your girlfriend or your wife. You spend more time with them than with the person that you love. So that’s why you need to understand that person really well. You could also include a second interview, which could be ahomework assignment. You could send out some homework, which is not very difficult. Then the candidate sends you the code, whether it is Jupyter Notebook or whatever. Then you should check it. From this simple task, you could already see how much people are working.',\n",
       "  'fd4b6f76'),\n",
       " ('How does an interview help to assess the thought process of a data scientist?',\n",
       "  'Building a Data Science Team',\n",
       "  'When it comes to building a data science team, one of the most important things to consider is hiring a data scientist. While there are many different ways to go about this, there are a few key things to keep in mind. First, it’s important to find someone with the right skillset. You can look at thecandidate curriculum. A data scientist should be able to not only analyze data, but also understand how to use that data to solve real-world problems. Additionally, they should be well-versed in statistics and modeling, and be able to communicate their findings effectively. Once you’ve found a few candidates with the right skillset, it’s important tointerviewthem thoroughly. In addition to questions about their experience and qualifications, be sure to ask them about their approach to data science and how they would go about solving a specific problem. This will help you get a better sense of their thought process and whether or not they would be a good fit for your team. The interview should also include questions on personal experiences, to check whether that person is interesting or not. If someone is just plain boring, this is very difficult for the team. That person also needs a hobby, such as going to the cinema, doing some sports, or whatever. But that person needs to do something. You work more time with that person than you spend with your girlfriend or your wife. You spend more time with them than with the person that you love. So that’s why you need to understand that person really well. You could also include a second interview, which could be ahomework assignment. You could send out some homework, which is not very difficult. Then the candidate sends you the code, whether it is Jupyter Notebook or whatever. Then you should check it. From this simple task, you could already see how much people are working.',\n",
       "  'fd4b6f76'),\n",
       " ('What kind of personal experiences are important to consider when hiring a data scientist?',\n",
       "  'Building a Data Science Team',\n",
       "  'When it comes to building a data science team, one of the most important things to consider is hiring a data scientist. While there are many different ways to go about this, there are a few key things to keep in mind. First, it’s important to find someone with the right skillset. You can look at thecandidate curriculum. A data scientist should be able to not only analyze data, but also understand how to use that data to solve real-world problems. Additionally, they should be well-versed in statistics and modeling, and be able to communicate their findings effectively. Once you’ve found a few candidates with the right skillset, it’s important tointerviewthem thoroughly. In addition to questions about their experience and qualifications, be sure to ask them about their approach to data science and how they would go about solving a specific problem. This will help you get a better sense of their thought process and whether or not they would be a good fit for your team. The interview should also include questions on personal experiences, to check whether that person is interesting or not. If someone is just plain boring, this is very difficult for the team. That person also needs a hobby, such as going to the cinema, doing some sports, or whatever. But that person needs to do something. You work more time with that person than you spend with your girlfriend or your wife. You spend more time with them than with the person that you love. So that’s why you need to understand that person really well. You could also include a second interview, which could be ahomework assignment. You could send out some homework, which is not very difficult. Then the candidate sends you the code, whether it is Jupyter Notebook or whatever. Then you should check it. From this simple task, you could already see how much people are working.',\n",
       "  'fd4b6f76'),\n",
       " (\"How can a simple task, like a homework assignment, help to assess a data scientist's skills and attention to detail?\",\n",
       "  'Building a Data Science Team',\n",
       "  'When it comes to building a data science team, one of the most important things to consider is hiring a data scientist. While there are many different ways to go about this, there are a few key things to keep in mind. First, it’s important to find someone with the right skillset. You can look at thecandidate curriculum. A data scientist should be able to not only analyze data, but also understand how to use that data to solve real-world problems. Additionally, they should be well-versed in statistics and modeling, and be able to communicate their findings effectively. Once you’ve found a few candidates with the right skillset, it’s important tointerviewthem thoroughly. In addition to questions about their experience and qualifications, be sure to ask them about their approach to data science and how they would go about solving a specific problem. This will help you get a better sense of their thought process and whether or not they would be a good fit for your team. The interview should also include questions on personal experiences, to check whether that person is interesting or not. If someone is just plain boring, this is very difficult for the team. That person also needs a hobby, such as going to the cinema, doing some sports, or whatever. But that person needs to do something. You work more time with that person than you spend with your girlfriend or your wife. You spend more time with them than with the person that you love. So that’s why you need to understand that person really well. You could also include a second interview, which could be ahomework assignment. You could send out some homework, which is not very difficult. Then the candidate sends you the code, whether it is Jupyter Notebook or whatever. Then you should check it. From this simple task, you could already see how much people are working.',\n",
       "  'fd4b6f76'),\n",
       " (\"Which role is different from the manager's role?\",\n",
       "  'Data Science Manager vs Data Science Expert',\n",
       "  'The expert role is different from the manager’s becauseexperts need a very deep understanding of algorithms and technologies from the area in which they have many years of experience, while managers only have a general knowledge of the topic.Very often, an expert doesn’t only have a good knowledge of technology, but also domain knowledge. Data science managers are responsible for a team of data scientists and ensuring that projects are completed on time and within budget. They also work with clients to understand their needs and ensure that the team is meeting their expectations. Data science experts are responsible for providing insights and recommendations based on data analysis. They also develop and test models to improve decision-making and help businesses solve complex problems.',\n",
       "  '4123e3aa'),\n",
       " (\"What is an expert's role in the area they specialize in?\",\n",
       "  'Data Science Manager vs Data Science Expert',\n",
       "  'The expert role is different from the manager’s becauseexperts need a very deep understanding of algorithms and technologies from the area in which they have many years of experience, while managers only have a general knowledge of the topic.Very often, an expert doesn’t only have a good knowledge of technology, but also domain knowledge. Data science managers are responsible for a team of data scientists and ensuring that projects are completed on time and within budget. They also work with clients to understand their needs and ensure that the team is meeting their expectations. Data science experts are responsible for providing insights and recommendations based on data analysis. They also develop and test models to improve decision-making and help businesses solve complex problems.',\n",
       "  '4123e3aa'),\n",
       " (\"What other is essential for a data science manager's role?\",\n",
       "  'Data Science Manager vs Data Science Expert',\n",
       "  'The expert role is different from the manager’s becauseexperts need a very deep understanding of algorithms and technologies from the area in which they have many years of experience, while managers only have a general knowledge of the topic.Very often, an expert doesn’t only have a good knowledge of technology, but also domain knowledge. Data science managers are responsible for a team of data scientists and ensuring that projects are completed on time and within budget. They also work with clients to understand their needs and ensure that the team is meeting their expectations. Data science experts are responsible for providing insights and recommendations based on data analysis. They also develop and test models to improve decision-making and help businesses solve complex problems.',\n",
       "  '4123e3aa'),\n",
       " ('What is the primary responsibility of a data science manager?',\n",
       "  'Data Science Manager vs Data Science Expert',\n",
       "  'The expert role is different from the manager’s becauseexperts need a very deep understanding of algorithms and technologies from the area in which they have many years of experience, while managers only have a general knowledge of the topic.Very often, an expert doesn’t only have a good knowledge of technology, but also domain knowledge. Data science managers are responsible for a team of data scientists and ensuring that projects are completed on time and within budget. They also work with clients to understand their needs and ensure that the team is meeting their expectations. Data science experts are responsible for providing insights and recommendations based on data analysis. They also develop and test models to improve decision-making and help businesses solve complex problems.',\n",
       "  '4123e3aa'),\n",
       " ('What does a data science expert provide that is key to improving decision-making?',\n",
       "  'Data Science Manager vs Data Science Expert',\n",
       "  'The expert role is different from the manager’s becauseexperts need a very deep understanding of algorithms and technologies from the area in which they have many years of experience, while managers only have a general knowledge of the topic.Very often, an expert doesn’t only have a good knowledge of technology, but also domain knowledge. Data science managers are responsible for a team of data scientists and ensuring that projects are completed on time and within budget. They also work with clients to understand their needs and ensure that the team is meeting their expectations. Data science experts are responsible for providing insights and recommendations based on data analysis. They also develop and test models to improve decision-making and help businesses solve complex problems.',\n",
       "  '4123e3aa'),\n",
       " ('What is the role of a data science manager in a project?',\n",
       "  'Data Science Manager vs Data Science Expert',\n",
       "  'The answer to this question may depend on the size and scope of your project. If you have a large project with many moving parts, then you might need a data science manager to keep everything organized and on track. A manager can also be helpful in coordinating team members with different skill sets. On the other hand, if your project is more focused and you have a clear idea of what you want to achieve, then you might be better off working with a data science expert. An expert can help you fine-tune your project and ensure success. Ultimately, the decision of whether to work with a manager or an expert depends on your specific needs and goals. If you are unsure, it might be helpful to consult with both types of professionals to get a sense of what would work best for your project. Anyway, you should keep in mind thatif you hire first a data science manager, then the manager would basically build a data science team.',\n",
       "  'f825c2c7'),\n",
       " ('What are the responsibilities of a data science manager?',\n",
       "  'Data Science Manager vs Data Science Expert',\n",
       "  'The answer to this question may depend on the size and scope of your project. If you have a large project with many moving parts, then you might need a data science manager to keep everything organized and on track. A manager can also be helpful in coordinating team members with different skill sets. On the other hand, if your project is more focused and you have a clear idea of what you want to achieve, then you might be better off working with a data science expert. An expert can help you fine-tune your project and ensure success. Ultimately, the decision of whether to work with a manager or an expert depends on your specific needs and goals. If you are unsure, it might be helpful to consult with both types of professionals to get a sense of what would work best for your project. Anyway, you should keep in mind thatif you hire first a data science manager, then the manager would basically build a data science team.',\n",
       "  'f825c2c7'),\n",
       " (\"How can a data science manager help improve a project's success?\",\n",
       "  'Data Science Manager vs Data Science Expert',\n",
       "  'The answer to this question may depend on the size and scope of your project. If you have a large project with many moving parts, then you might need a data science manager to keep everything organized and on track. A manager can also be helpful in coordinating team members with different skill sets. On the other hand, if your project is more focused and you have a clear idea of what you want to achieve, then you might be better off working with a data science expert. An expert can help you fine-tune your project and ensure success. Ultimately, the decision of whether to work with a manager or an expert depends on your specific needs and goals. If you are unsure, it might be helpful to consult with both types of professionals to get a sense of what would work best for your project. Anyway, you should keep in mind thatif you hire first a data science manager, then the manager would basically build a data science team.',\n",
       "  'f825c2c7'),\n",
       " ('What are the benefits of hiring a data science manager?',\n",
       "  'Data Science Manager vs Data Science Expert',\n",
       "  'The answer to this question may depend on the size and scope of your project. If you have a large project with many moving parts, then you might need a data science manager to keep everything organized and on track. A manager can also be helpful in coordinating team members with different skill sets. On the other hand, if your project is more focused and you have a clear idea of what you want to achieve, then you might be better off working with a data science expert. An expert can help you fine-tune your project and ensure success. Ultimately, the decision of whether to work with a manager or an expert depends on your specific needs and goals. If you are unsure, it might be helpful to consult with both types of professionals to get a sense of what would work best for your project. Anyway, you should keep in mind thatif you hire first a data science manager, then the manager would basically build a data science team.',\n",
       "  'f825c2c7'),\n",
       " ('How does a data science manager typically build a data science team?',\n",
       "  'Data Science Manager vs Data Science Expert',\n",
       "  'The answer to this question may depend on the size and scope of your project. If you have a large project with many moving parts, then you might need a data science manager to keep everything organized and on track. A manager can also be helpful in coordinating team members with different skill sets. On the other hand, if your project is more focused and you have a clear idea of what you want to achieve, then you might be better off working with a data science expert. An expert can help you fine-tune your project and ensure success. Ultimately, the decision of whether to work with a manager or an expert depends on your specific needs and goals. If you are unsure, it might be helpful to consult with both types of professionals to get a sense of what would work best for your project. Anyway, you should keep in mind thatif you hire first a data science manager, then the manager would basically build a data science team.',\n",
       "  'f825c2c7'),\n",
       " ('What is the key difference between a data science manager and a data science expert?',\n",
       "  'Data Science Manager vs Data Science Expert',\n",
       "  'Congratulations! You have just learned the difference between data science manager and data science expert! Data science managers are responsible for leading teams of data scientists and ensuring that projects are completed on time and within budget. They also need to have general technical skills and be able to effectively communicate results to non-technical stakeholders. Data science experts, on the other hand, are responsible for actually doing the work of data analysis and modeling. They need to have a deep understanding of statistics and machine learning and be able to effectively communicate their findings to both technical and non-technical audiences. So, which role is right for you? If you feel like you have the leadership skills necessary to manage a team of data scientists, then a data science manager might be the right choice. If you’d rather focus on the actual work of data science, then a data science expert might be a better fit. Ultimately, it’s up to you to decide which role best suits your job! The content of this article has been inspired by the podcast episodeData Science Manager vs Data Science Expertwith Barbara Sobkowiak at DataTalks.Club.',\n",
       "  'fa413fd7'),\n",
       " ('What are the general skills required for a data science manager?',\n",
       "  'Data Science Manager vs Data Science Expert',\n",
       "  'Congratulations! You have just learned the difference between data science manager and data science expert! Data science managers are responsible for leading teams of data scientists and ensuring that projects are completed on time and within budget. They also need to have general technical skills and be able to effectively communicate results to non-technical stakeholders. Data science experts, on the other hand, are responsible for actually doing the work of data analysis and modeling. They need to have a deep understanding of statistics and machine learning and be able to effectively communicate their findings to both technical and non-technical audiences. So, which role is right for you? If you feel like you have the leadership skills necessary to manage a team of data scientists, then a data science manager might be the right choice. If you’d rather focus on the actual work of data science, then a data science expert might be a better fit. Ultimately, it’s up to you to decide which role best suits your job! The content of this article has been inspired by the podcast episodeData Science Manager vs Data Science Expertwith Barbara Sobkowiak at DataTalks.Club.',\n",
       "  'fa413fd7'),\n",
       " ('What is the main responsibility of a data science manager?',\n",
       "  'Data Science Manager vs Data Science Expert',\n",
       "  'Congratulations! You have just learned the difference between data science manager and data science expert! Data science managers are responsible for leading teams of data scientists and ensuring that projects are completed on time and within budget. They also need to have general technical skills and be able to effectively communicate results to non-technical stakeholders. Data science experts, on the other hand, are responsible for actually doing the work of data analysis and modeling. They need to have a deep understanding of statistics and machine learning and be able to effectively communicate their findings to both technical and non-technical audiences. So, which role is right for you? If you feel like you have the leadership skills necessary to manage a team of data scientists, then a data science manager might be the right choice. If you’d rather focus on the actual work of data science, then a data science expert might be a better fit. Ultimately, it’s up to you to decide which role best suits your job! The content of this article has been inspired by the podcast episodeData Science Manager vs Data Science Expertwith Barbara Sobkowiak at DataTalks.Club.',\n",
       "  'fa413fd7'),\n",
       " ('What are the main responsibilities of a data science expert?',\n",
       "  'Data Science Manager vs Data Science Expert',\n",
       "  'Congratulations! You have just learned the difference between data science manager and data science expert! Data science managers are responsible for leading teams of data scientists and ensuring that projects are completed on time and within budget. They also need to have general technical skills and be able to effectively communicate results to non-technical stakeholders. Data science experts, on the other hand, are responsible for actually doing the work of data analysis and modeling. They need to have a deep understanding of statistics and machine learning and be able to effectively communicate their findings to both technical and non-technical audiences. So, which role is right for you? If you feel like you have the leadership skills necessary to manage a team of data scientists, then a data science manager might be the right choice. If you’d rather focus on the actual work of data science, then a data science expert might be a better fit. Ultimately, it’s up to you to decide which role best suits your job! The content of this article has been inspired by the podcast episodeData Science Manager vs Data Science Expertwith Barbara Sobkowiak at DataTalks.Club.',\n",
       "  'fa413fd7'),\n",
       " ('What is the best fit between a data science manager and a data science expert?',\n",
       "  'Data Science Manager vs Data Science Expert',\n",
       "  'Congratulations! You have just learned the difference between data science manager and data science expert! Data science managers are responsible for leading teams of data scientists and ensuring that projects are completed on time and within budget. They also need to have general technical skills and be able to effectively communicate results to non-technical stakeholders. Data science experts, on the other hand, are responsible for actually doing the work of data analysis and modeling. They need to have a deep understanding of statistics and machine learning and be able to effectively communicate their findings to both technical and non-technical audiences. So, which role is right for you? If you feel like you have the leadership skills necessary to manage a team of data scientists, then a data science manager might be the right choice. If you’d rather focus on the actual work of data science, then a data science expert might be a better fit. Ultimately, it’s up to you to decide which role best suits your job! The content of this article has been inspired by the podcast episodeData Science Manager vs Data Science Expertwith Barbara Sobkowiak at DataTalks.Club.',\n",
       "  'fa413fd7'),\n",
       " ('What is the primary task of a data engineer?',\n",
       "  \"Data Engineers Aren't Plumbers\",\n",
       "  'This section is similar to the previous but we are focusing on the goal of each engineer. For example, a mechanical engineer has the working scope to build, maintain and improve mechanical machines that will perform some tasks. I’m considering a data engineer has the objective of building, maintaining, and improving data pipelines (ETL or ELT processes), data storage structures (data warehouses or data lakes), and providing solid data to the stakeholders. In a detailed way, the professional has the working scope of guarantee the a) extraction of data from various sources (both internal like relational databases and external sources), b) transformation of data using solid programming skills or software, c) good organization of the data in the correct storage structures and d) quality/organization of all the end-to-end processes and data using orchestrator tools, monitoring tools or other control tools. A data engineer needs to think of the process as a whole considering downstream and upstream mechanisms. The specialization ofHydraulic and Water Resources Engineeringby the McGill University of Canada describes these two disciplines as follows: “Water resources engineeringis the quantitative study of the hydrologic cycle — the distribution and circulation of water linking the earth’s atmosphere, land and oceans. (…) Applications include the management of the urban water supply, the design of urban storm-sewer systems, and flood forecasting.”and“Hydraulic engineeringconsists of the application of fluid mechanics to water flowing in an isolated environment (pipe, pump) or in an open channel (river, lake, ocean). Applications include the design of hydraulic structures, such as sewage conduits, dams and breakwaters, the management of waterways, such as erosion protection and flood protection, and environmental management, such as prediction of the mixing and transport of pollutants in surface water.”. Therefore I’m considering hydraulic and water resources engineers need to guarantee (besides other tasks) a) the extraction of water from various sources, b) the correct water cleaning in water treatment facilities (see image above), c) good organization of the water in the correct storage structures, and d) quality/organization of all the end-to-end processes with several control tools. In the table below it is possible to see how identical both roles are in terms of working processes, tasks, or goals (with some examples). Therefore you can see that even having different targets both engineers do similar tasks.',\n",
       "  'f4a8e598'),\n",
       " ('How would a data engineer approach designing a data pipeline for extracting, transforming, and storing data?',\n",
       "  \"Data Engineers Aren't Plumbers\",\n",
       "  'This section is similar to the previous but we are focusing on the goal of each engineer. For example, a mechanical engineer has the working scope to build, maintain and improve mechanical machines that will perform some tasks. I’m considering a data engineer has the objective of building, maintaining, and improving data pipelines (ETL or ELT processes), data storage structures (data warehouses or data lakes), and providing solid data to the stakeholders. In a detailed way, the professional has the working scope of guarantee the a) extraction of data from various sources (both internal like relational databases and external sources), b) transformation of data using solid programming skills or software, c) good organization of the data in the correct storage structures and d) quality/organization of all the end-to-end processes and data using orchestrator tools, monitoring tools or other control tools. A data engineer needs to think of the process as a whole considering downstream and upstream mechanisms. The specialization ofHydraulic and Water Resources Engineeringby the McGill University of Canada describes these two disciplines as follows: “Water resources engineeringis the quantitative study of the hydrologic cycle — the distribution and circulation of water linking the earth’s atmosphere, land and oceans. (…) Applications include the management of the urban water supply, the design of urban storm-sewer systems, and flood forecasting.”and“Hydraulic engineeringconsists of the application of fluid mechanics to water flowing in an isolated environment (pipe, pump) or in an open channel (river, lake, ocean). Applications include the design of hydraulic structures, such as sewage conduits, dams and breakwaters, the management of waterways, such as erosion protection and flood protection, and environmental management, such as prediction of the mixing and transport of pollutants in surface water.”. Therefore I’m considering hydraulic and water resources engineers need to guarantee (besides other tasks) a) the extraction of water from various sources, b) the correct water cleaning in water treatment facilities (see image above), c) good organization of the water in the correct storage structures, and d) quality/organization of all the end-to-end processes with several control tools. In the table below it is possible to see how identical both roles are in terms of working processes, tasks, or goals (with some examples). Therefore you can see that even having different targets both engineers do similar tasks.',\n",
       "  'f4a8e598'),\n",
       " ('What are the main components of a data warehouse?',\n",
       "  \"Data Engineers Aren't Plumbers\",\n",
       "  'This section is similar to the previous but we are focusing on the goal of each engineer. For example, a mechanical engineer has the working scope to build, maintain and improve mechanical machines that will perform some tasks. I’m considering a data engineer has the objective of building, maintaining, and improving data pipelines (ETL or ELT processes), data storage structures (data warehouses or data lakes), and providing solid data to the stakeholders. In a detailed way, the professional has the working scope of guarantee the a) extraction of data from various sources (both internal like relational databases and external sources), b) transformation of data using solid programming skills or software, c) good organization of the data in the correct storage structures and d) quality/organization of all the end-to-end processes and data using orchestrator tools, monitoring tools or other control tools. A data engineer needs to think of the process as a whole considering downstream and upstream mechanisms. The specialization ofHydraulic and Water Resources Engineeringby the McGill University of Canada describes these two disciplines as follows: “Water resources engineeringis the quantitative study of the hydrologic cycle — the distribution and circulation of water linking the earth’s atmosphere, land and oceans. (…) Applications include the management of the urban water supply, the design of urban storm-sewer systems, and flood forecasting.”and“Hydraulic engineeringconsists of the application of fluid mechanics to water flowing in an isolated environment (pipe, pump) or in an open channel (river, lake, ocean). Applications include the design of hydraulic structures, such as sewage conduits, dams and breakwaters, the management of waterways, such as erosion protection and flood protection, and environmental management, such as prediction of the mixing and transport of pollutants in surface water.”. Therefore I’m considering hydraulic and water resources engineers need to guarantee (besides other tasks) a) the extraction of water from various sources, b) the correct water cleaning in water treatment facilities (see image above), c) good organization of the water in the correct storage structures, and d) quality/organization of all the end-to-end processes with several control tools. In the table below it is possible to see how identical both roles are in terms of working processes, tasks, or goals (with some examples). Therefore you can see that even having different targets both engineers do similar tasks.',\n",
       "  'f4a8e598'),\n",
       " ('How does a data engineer ensure data quality and integrity in a water resources engineering project?',\n",
       "  \"Data Engineers Aren't Plumbers\",\n",
       "  'This section is similar to the previous but we are focusing on the goal of each engineer. For example, a mechanical engineer has the working scope to build, maintain and improve mechanical machines that will perform some tasks. I’m considering a data engineer has the objective of building, maintaining, and improving data pipelines (ETL or ELT processes), data storage structures (data warehouses or data lakes), and providing solid data to the stakeholders. In a detailed way, the professional has the working scope of guarantee the a) extraction of data from various sources (both internal like relational databases and external sources), b) transformation of data using solid programming skills or software, c) good organization of the data in the correct storage structures and d) quality/organization of all the end-to-end processes and data using orchestrator tools, monitoring tools or other control tools. A data engineer needs to think of the process as a whole considering downstream and upstream mechanisms. The specialization ofHydraulic and Water Resources Engineeringby the McGill University of Canada describes these two disciplines as follows: “Water resources engineeringis the quantitative study of the hydrologic cycle — the distribution and circulation of water linking the earth’s atmosphere, land and oceans. (…) Applications include the management of the urban water supply, the design of urban storm-sewer systems, and flood forecasting.”and“Hydraulic engineeringconsists of the application of fluid mechanics to water flowing in an isolated environment (pipe, pump) or in an open channel (river, lake, ocean). Applications include the design of hydraulic structures, such as sewage conduits, dams and breakwaters, the management of waterways, such as erosion protection and flood protection, and environmental management, such as prediction of the mixing and transport of pollutants in surface water.”. Therefore I’m considering hydraulic and water resources engineers need to guarantee (besides other tasks) a) the extraction of water from various sources, b) the correct water cleaning in water treatment facilities (see image above), c) good organization of the water in the correct storage structures, and d) quality/organization of all the end-to-end processes with several control tools. In the table below it is possible to see how identical both roles are in terms of working processes, tasks, or goals (with some examples). Therefore you can see that even having different targets both engineers do similar tasks.',\n",
       "  'f4a8e598'),\n",
       " ('What is the difference between a mechanical engineer and a data engineer?',\n",
       "  \"Data Engineers Aren't Plumbers\",\n",
       "  'This section is similar to the previous but we are focusing on the goal of each engineer. For example, a mechanical engineer has the working scope to build, maintain and improve mechanical machines that will perform some tasks. I’m considering a data engineer has the objective of building, maintaining, and improving data pipelines (ETL or ELT processes), data storage structures (data warehouses or data lakes), and providing solid data to the stakeholders. In a detailed way, the professional has the working scope of guarantee the a) extraction of data from various sources (both internal like relational databases and external sources), b) transformation of data using solid programming skills or software, c) good organization of the data in the correct storage structures and d) quality/organization of all the end-to-end processes and data using orchestrator tools, monitoring tools or other control tools. A data engineer needs to think of the process as a whole considering downstream and upstream mechanisms. The specialization ofHydraulic and Water Resources Engineeringby the McGill University of Canada describes these two disciplines as follows: “Water resources engineeringis the quantitative study of the hydrologic cycle — the distribution and circulation of water linking the earth’s atmosphere, land and oceans. (…) Applications include the management of the urban water supply, the design of urban storm-sewer systems, and flood forecasting.”and“Hydraulic engineeringconsists of the application of fluid mechanics to water flowing in an isolated environment (pipe, pump) or in an open channel (river, lake, ocean). Applications include the design of hydraulic structures, such as sewage conduits, dams and breakwaters, the management of waterways, such as erosion protection and flood protection, and environmental management, such as prediction of the mixing and transport of pollutants in surface water.”. Therefore I’m considering hydraulic and water resources engineers need to guarantee (besides other tasks) a) the extraction of water from various sources, b) the correct water cleaning in water treatment facilities (see image above), c) good organization of the water in the correct storage structures, and d) quality/organization of all the end-to-end processes with several control tools. In the table below it is possible to see how identical both roles are in terms of working processes, tasks, or goals (with some examples). Therefore you can see that even having different targets both engineers do similar tasks.',\n",
       "  'f4a8e598'),\n",
       " ('What are the differences between the tools used by data engineers and hydraulic and water resources engineers in terms of purpose?',\n",
       "  \"Data Engineers Aren't Plumbers\",\n",
       "  'In that cliché of “data engineer equals plumber” it is often written that both have tools. However, the plumber tools are different from the data engineer tools. But both data engineers and hydraulic and water resources engineers use similar tools. Considering the processes present in the table above I will present you some examples for each role. For data engineers: For hydraulic and water resources engineer: So all the tools for both engineers are complex tools (mostly software) with the purpose of proceeding to the estimation of the best solution. They are not manual tools like hammers.',\n",
       "  'e5fe70c8'),\n",
       " ('What are the key similarities between the tools used by data engineers and hydraulic and water resources engineers in terms of purpose?',\n",
       "  \"Data Engineers Aren't Plumbers\",\n",
       "  'In that cliché of “data engineer equals plumber” it is often written that both have tools. However, the plumber tools are different from the data engineer tools. But both data engineers and hydraulic and water resources engineers use similar tools. Considering the processes present in the table above I will present you some examples for each role. For data engineers: For hydraulic and water resources engineer: So all the tools for both engineers are complex tools (mostly software) with the purpose of proceeding to the estimation of the best solution. They are not manual tools like hammers.',\n",
       "  'e5fe70c8'),\n",
       " ('What are some examples of tools that are used by both data engineers and hydraulic and water resources engineers?',\n",
       "  \"Data Engineers Aren't Plumbers\",\n",
       "  'In that cliché of “data engineer equals plumber” it is often written that both have tools. However, the plumber tools are different from the data engineer tools. But both data engineers and hydraulic and water resources engineers use similar tools. Considering the processes present in the table above I will present you some examples for each role. For data engineers: For hydraulic and water resources engineer: So all the tools for both engineers are complex tools (mostly software) with the purpose of proceeding to the estimation of the best solution. They are not manual tools like hammers.',\n",
       "  'e5fe70c8'),\n",
       " ('How are the tools used by data engineers different from the tools used by hydraulic and water resources engineers?',\n",
       "  \"Data Engineers Aren't Plumbers\",\n",
       "  'In that cliché of “data engineer equals plumber” it is often written that both have tools. However, the plumber tools are different from the data engineer tools. But both data engineers and hydraulic and water resources engineers use similar tools. Considering the processes present in the table above I will present you some examples for each role. For data engineers: For hydraulic and water resources engineer: So all the tools for both engineers are complex tools (mostly software) with the purpose of proceeding to the estimation of the best solution. They are not manual tools like hammers.',\n",
       "  'e5fe70c8'),\n",
       " ('What is the purpose of these tools in the context of data engineering tasks?',\n",
       "  \"Data Engineers Aren't Plumbers\",\n",
       "  'In that cliché of “data engineer equals plumber” it is often written that both have tools. However, the plumber tools are different from the data engineer tools. But both data engineers and hydraulic and water resources engineers use similar tools. Considering the processes present in the table above I will present you some examples for each role. For data engineers: For hydraulic and water resources engineer: So all the tools for both engineers are complex tools (mostly software) with the purpose of proceeding to the estimation of the best solution. They are not manual tools like hammers.',\n",
       "  'e5fe70c8'),\n",
       " ('What are the three subjects that data engineers are less identical to?',\n",
       "  \"Data Engineers Aren't Plumbers\",\n",
       "  'In summary it was presented in three simple subjects that data engineers are less identical to plumbers and more to hydraulic and water resources engineers. Hydraulic and water resources engineers and data engineers resemble because And the cliché is down! What do you think, do you agree with me? Do you think I am going to be attacked by Mario Bros? 🧑\\u200d🔧 Did you like this article? Follow me for more articles onMedium.',\n",
       "  '60a2a944'),\n",
       " ('What is the cliché mentioned in the context?',\n",
       "  \"Data Engineers Aren't Plumbers\",\n",
       "  'In summary it was presented in three simple subjects that data engineers are less identical to plumbers and more to hydraulic and water resources engineers. Hydraulic and water resources engineers and data engineers resemble because And the cliché is down! What do you think, do you agree with me? Do you think I am going to be attacked by Mario Bros? 🧑\\u200d🔧 Did you like this article? Follow me for more articles onMedium.',\n",
       "  '60a2a944'),\n",
       " (\"Can you guess what the author is most likely thinking about when they say 'data engineers are less identical to plumbers'?\",\n",
       "  \"Data Engineers Aren't Plumbers\",\n",
       "  'In summary it was presented in three simple subjects that data engineers are less identical to plumbers and more to hydraulic and water resources engineers. Hydraulic and water resources engineers and data engineers resemble because And the cliché is down! What do you think, do you agree with me? Do you think I am going to be attacked by Mario Bros? 🧑\\u200d🔧 Did you like this article? Follow me for more articles onMedium.',\n",
       "  '60a2a944'),\n",
       " ('What is the result of the question?',\n",
       "  \"Data Engineers Aren't Plumbers\",\n",
       "  'In summary it was presented in three simple subjects that data engineers are less identical to plumbers and more to hydraulic and water resources engineers. Hydraulic and water resources engineers and data engineers resemble because And the cliché is down! What do you think, do you agree with me? Do you think I am going to be attacked by Mario Bros? 🧑\\u200d🔧 Did you like this article? Follow me for more articles onMedium.',\n",
       "  '60a2a944'),\n",
       " ('What is your conclusion based on the information provided?',\n",
       "  \"Data Engineers Aren't Plumbers\",\n",
       "  'In summary it was presented in three simple subjects that data engineers are less identical to plumbers and more to hydraulic and water resources engineers. Hydraulic and water resources engineers and data engineers resemble because And the cliché is down! What do you think, do you agree with me? Do you think I am going to be attacked by Mario Bros? 🧑\\u200d🔧 Did you like this article? Follow me for more articles onMedium.',\n",
       "  '60a2a944'),\n",
       " ('What are some of the skills that are needed in order to work as a data scientist?',\n",
       "  'Starting a Career as a Data Scientist',\n",
       "  'There are many skills that are needed in order to work as a data scientist. However, there are also many skills that can be learned in order to become a data scientist. Many people who are interested in data science may not have the opportunity to learn these skills at their job. However, there are many ways to learn the skills outside of work. One way to learn the skills needed to become a data scientist is throughonline courses. There are many online courses that teach the basics of data science. These courses can be found on websites such as Coursera and Udacity. In addition, there aremany blog posts and articlesthat can be found online that can help someone learn the basics of data science. Another way to learn the skills needed to become a data scientist is throughconferences and meetups. There are many conferences and meetups that discuss data science topics. These events can be found in cities all over the world. Attendees of these events can learn from presentations and network with other people who are interested in data science. Finally, another way to learn the skills needed to become a data scientist is throughbooks. There are many books that have been written about data science.',\n",
       "  '59195bb7'),\n",
       " ('What are some of the different ways that people can learn the skills needed to become a data scientist?',\n",
       "  'Starting a Career as a Data Scientist',\n",
       "  'There are many skills that are needed in order to work as a data scientist. However, there are also many skills that can be learned in order to become a data scientist. Many people who are interested in data science may not have the opportunity to learn these skills at their job. However, there are many ways to learn the skills outside of work. One way to learn the skills needed to become a data scientist is throughonline courses. There are many online courses that teach the basics of data science. These courses can be found on websites such as Coursera and Udacity. In addition, there aremany blog posts and articlesthat can be found online that can help someone learn the basics of data science. Another way to learn the skills needed to become a data scientist is throughconferences and meetups. There are many conferences and meetups that discuss data science topics. These events can be found in cities all over the world. Attendees of these events can learn from presentations and network with other people who are interested in data science. Finally, another way to learn the skills needed to become a data scientist is throughbooks. There are many books that have been written about data science.',\n",
       "  '59195bb7'),\n",
       " ('What are some of the benefits of learning to code in order to become a data scientist?',\n",
       "  'Starting a Career as a Data Scientist',\n",
       "  'There are many skills that are needed in order to work as a data scientist. However, there are also many skills that can be learned in order to become a data scientist. Many people who are interested in data science may not have the opportunity to learn these skills at their job. However, there are many ways to learn the skills outside of work. One way to learn the skills needed to become a data scientist is throughonline courses. There are many online courses that teach the basics of data science. These courses can be found on websites such as Coursera and Udacity. In addition, there aremany blog posts and articlesthat can be found online that can help someone learn the basics of data science. Another way to learn the skills needed to become a data scientist is throughconferences and meetups. There are many conferences and meetups that discuss data science topics. These events can be found in cities all over the world. Attendees of these events can learn from presentations and network with other people who are interested in data science. Finally, another way to learn the skills needed to become a data scientist is throughbooks. There are many books that have been written about data science.',\n",
       "  '59195bb7'),\n",
       " ('What are some of the challenges to learning to code in order to become a data scientist?',\n",
       "  'Starting a Career as a Data Scientist',\n",
       "  'There are many skills that are needed in order to work as a data scientist. However, there are also many skills that can be learned in order to become a data scientist. Many people who are interested in data science may not have the opportunity to learn these skills at their job. However, there are many ways to learn the skills outside of work. One way to learn the skills needed to become a data scientist is throughonline courses. There are many online courses that teach the basics of data science. These courses can be found on websites such as Coursera and Udacity. In addition, there aremany blog posts and articlesthat can be found online that can help someone learn the basics of data science. Another way to learn the skills needed to become a data scientist is throughconferences and meetups. There are many conferences and meetups that discuss data science topics. These events can be found in cities all over the world. Attendees of these events can learn from presentations and network with other people who are interested in data science. Finally, another way to learn the skills needed to become a data scientist is throughbooks. There are many books that have been written about data science.',\n",
       "  '59195bb7'),\n",
       " ('What are some of the resources that people can use to learn the skills needed to become a data scientist?',\n",
       "  'Starting a Career as a Data Scientist',\n",
       "  'There are many skills that are needed in order to work as a data scientist. However, there are also many skills that can be learned in order to become a data scientist. Many people who are interested in data science may not have the opportunity to learn these skills at their job. However, there are many ways to learn the skills outside of work. One way to learn the skills needed to become a data scientist is throughonline courses. There are many online courses that teach the basics of data science. These courses can be found on websites such as Coursera and Udacity. In addition, there aremany blog posts and articlesthat can be found online that can help someone learn the basics of data science. Another way to learn the skills needed to become a data scientist is throughconferences and meetups. There are many conferences and meetups that discuss data science topics. These events can be found in cities all over the world. Attendees of these events can learn from presentations and network with other people who are interested in data science. Finally, another way to learn the skills needed to become a data scientist is throughbooks. There are many books that have been written about data science.',\n",
       "  '59195bb7'),\n",
       " (\"What was the article's main topic?\",\n",
       "  'Guidelines to Get a Data Engineer Job Against the Odds',\n",
       "  '04 Jan 2023 byLuís Oliveira',\n",
       "  '59385f12'),\n",
       " ('What date and time was the article published?',\n",
       "  'Guidelines to Get a Data Engineer Job Against the Odds',\n",
       "  '04 Jan 2023 byLuís Oliveira',\n",
       "  '59385f12'),\n",
       " ('What were the main points discussed in the article?',\n",
       "  'Guidelines to Get a Data Engineer Job Against the Odds',\n",
       "  '04 Jan 2023 byLuís Oliveira',\n",
       "  '59385f12'),\n",
       " ('Who wrote the article?',\n",
       "  'Guidelines to Get a Data Engineer Job Against the Odds',\n",
       "  '04 Jan 2023 byLuís Oliveira',\n",
       "  '59385f12'),\n",
       " (\"What is the author's biography?\",\n",
       "  'Guidelines to Get a Data Engineer Job Against the Odds',\n",
       "  '04 Jan 2023 byLuís Oliveira',\n",
       "  '59385f12')]"
      ]
     },
     "execution_count": 26,
     "metadata": {},
     "output_type": "execute_result"
    }
   ],
   "source": [
    "final_results"
   ]
  },
  {
   "cell_type": "code",
   "execution_count": 28,
   "metadata": {},
   "outputs": [],
   "source": [
    "df = pd.DataFrame(final_results, columns=['question', 'title', 'body', 'document'])"
   ]
  },
  {
   "cell_type": "code",
   "execution_count": 29,
   "metadata": {},
   "outputs": [
    {
     "data": {
      "text/plain": [
       "(85, 4)"
      ]
     },
     "execution_count": 29,
     "metadata": {},
     "output_type": "execute_result"
    }
   ],
   "source": [
    "df.shape"
   ]
  },
  {
   "cell_type": "code",
   "execution_count": 30,
   "metadata": {},
   "outputs": [],
   "source": [
    "df.to_csv('ground-truth-data.csv', index=False)"
   ]
  },
  {
   "cell_type": "code",
   "execution_count": 31,
   "metadata": {},
   "outputs": [
    {
     "name": "stdout",
     "output_type": "stream",
     "text": [
      "question,title,body,document\n",
      "What was the purpose of the trip?,Roles in a Data Team,14 Dec 2020 byAlexey Grigorev,d2d8f692\n",
      "What specific details were included in the article?,Roles in a Data Team,14 Dec 2020 byAlexey Grigorev,d2d8f692\n",
      "Are there any notable quotes or anecdotes from the article?,Roles in a Data Team,14 Dec 2020 byAlexey Grigorev,d2d8f692\n",
      "What was the result of the trip?,Roles in a Data Team,14 Dec 2020 byAlexey Grigorev,d2d8f692\n",
      "What were the conclusions drawn from the outcome?,Roles in a Data Team,14 Dec 2020 byAlexey Grigorev,d2d8f692\n",
      "What is the difference between a data scientist and a data analyst?,Roles in a Data Team,\"The roles of a data scientist and data analyst are pretty similar. In some companies, it’s the same person who does both jobs. However, data scientists typically focus more on predicting rather than explaining. A data analyst fetches the data, looks at it, explains what’s going on to the team, and gives some recommendations on what to do about it. A data scientist, on the other hand, focuses more on creating machine learning services. For example, one of the questions that a data scientist would want to answer is “How can we use this data to build a machine learning model for predicting something?” In other words, data scientists incorporate the data into the product. Their focus is more on engineering than analysis. Data scientists work more closely with engineers on integrating data solutions into the product. The skills of data scientists include: For our example, the data scientists are the people who develop the model used for predicting the category. Once they have a model, they can develop a simple web service for hosting this model.\",99ce651b\n",
      "How does a data scientist use data to create a machine learning model?,Roles in a Data Team,\"The roles of a data scientist and data analyst are pretty similar. In some companies, it’s the same person who does both jobs. However, data scientists typically focus more on predicting rather than explaining. A data analyst fetches the data, looks at it, explains what’s going on to the team, and gives some recommendations on what to do about it. A data scientist, on the other hand, focuses more on creating machine learning services. For example, one of the questions that a data scientist would want to answer is “How can we use this data to build a machine learning model for predicting something?” In other words, data scientists incorporate the data into the product. Their focus is more on engineering than analysis. Data scientists work more closely with engineers on integrating data solutions into the product. The skills of data scientists include: For our example, the data scientists are the people who develop the model used for predicting the category. Once they have a model, they can develop a simple web service for hosting this model.\",99ce651b\n",
      "What does a data scientist focus more on when creating a machine learning service?,Roles in a Data Team,\"The roles of a data scientist and data analyst are pretty similar. In some companies, it’s the same person who does both jobs. However, data scientists typically focus more on predicting rather than explaining. A data analyst fetches the data, looks at it, explains what’s going on to the team, and gives some recommendations on what to do about it. A data scientist, on the other hand, focuses more on creating machine learning services. For example, one of the questions that a data scientist would want to answer is “How can we use this data to build a machine learning model for predicting something?” In other words, data scientists incorporate the data into the product. Their focus is more on engineering than analysis. Data scientists work more closely with engineers on integrating data solutions into the product. The skills of data scientists include: For our example, the data scientists are the people who develop the model used for predicting the category. Once they have a model, they can develop a simple web service for hosting this model.\",99ce651b\n",
      "What is the main focus of a data scientist's job?,Roles in a Data Team,\"The roles of a data scientist and data analyst are pretty similar. In some companies, it’s the same person who does both jobs. However, data scientists typically focus more on predicting rather than explaining. A data analyst fetches the data, looks at it, explains what’s going on to the team, and gives some recommendations on what to do about it. A data scientist, on the other hand, focuses more on creating machine learning services. For example, one of the questions that a data scientist would want to answer is “How can we use this data to build a machine learning model for predicting something?” In other words, data scientists incorporate the data into the product. Their focus is more on engineering than analysis. Data scientists work more closely with engineers on integrating data solutions into the product. The skills of data scientists include: For our example, the data scientists are the people who develop the model used for predicting the category. Once they have a model, they can develop a simple web service for hosting this model.\",99ce651b\n"
     ]
    }
   ],
   "source": [
    "!head ground-truth-data.csv"
   ]
  },
  {
   "cell_type": "markdown",
   "metadata": {},
   "source": [
    "Elastic Search evaluation with text"
   ]
  },
  {
   "cell_type": "markdown",
   "metadata": {},
   "source": [
    "Step1: Loading the data"
   ]
  },
  {
   "cell_type": "code",
   "execution_count": 32,
   "metadata": {},
   "outputs": [],
   "source": [
    "with open('documents-with-ids.json', 'rt') as f_in:\n",
    "    documents = json.load(f_in)"
   ]
  },
  {
   "cell_type": "markdown",
   "metadata": {},
   "source": [
    "Step2: Index the data"
   ]
  },
  {
   "cell_type": "code",
   "execution_count": 33,
   "metadata": {},
   "outputs": [],
   "source": [
    "es_client = Elasticsearch('http://localhost:9200') "
   ]
  },
  {
   "cell_type": "code",
   "execution_count": 34,
   "metadata": {},
   "outputs": [
    {
     "data": {
      "text/plain": [
       "ObjectApiResponse({'acknowledged': True, 'shards_acknowledged': True, 'index': 'data-roles-eval'})"
      ]
     },
     "execution_count": 34,
     "metadata": {},
     "output_type": "execute_result"
    }
   ],
   "source": [
    "index_settings = {\n",
    "    \"settings\": {\n",
    "        \"number_of_shards\": 1,\n",
    "        \"number_of_replicas\": 0\n",
    "    },\n",
    "    \"mappings\": {\n",
    "        \"properties\": {\n",
    "            \"heading\": {\"type\": \"text\"},\n",
    "            \"body\": {\"type\": \"text\"},\n",
    "            \"Title\": {\"type\": \"keyword\"} ,\n",
    "            \"id\": {\"type\": \"keyword\"}\n",
    "        }\n",
    "    }\n",
    "}\n",
    "\n",
    "index_name = \"data-roles-eval\"\n",
    "\n",
    "es_client.indices.delete(index=index_name, ignore_unavailable=True)\n",
    "es_client.indices.create(index=index_name, body=index_settings)"
   ]
  },
  {
   "cell_type": "code",
   "execution_count": 35,
   "metadata": {},
   "outputs": [
    {
     "name": "stderr",
     "output_type": "stream",
     "text": [
      "100%|██████████| 42/42 [00:00<00:00, 98.65it/s] \n"
     ]
    }
   ],
   "source": [
    "for doc in tqdm(documents):\n",
    "    es_client.index(index=index_name, document=doc)"
   ]
  },
  {
   "cell_type": "markdown",
   "metadata": {},
   "source": [
    "Step3: Building search model"
   ]
  },
  {
   "cell_type": "code",
   "execution_count": 36,
   "metadata": {},
   "outputs": [],
   "source": [
    "def elastic_search(query, title, index_name=\"data-roles-eval\"):\n",
    "    search_query = {\n",
    "        \"size\": 3,  # Retrieve only the top result based on the highest score\n",
    "        \"query\": {\n",
    "            \"bool\": {\n",
    "                \"should\": [\n",
    "                    {\n",
    "                        \"multi_match\": {\n",
    "                            \"query\": query,\n",
    "                            \"fields\": [\"heading^4\", \"body\"],  # Boost 'heading' field\n",
    "                            \"type\": \"best_fields\",  # Best field matching strategy\n",
    "                            \"fuzziness\": \"AUTO\"  # Allow slight variations in text\n",
    "                        }\n",
    "                    }\n",
    "                ],\n",
    "                \"filter\": [\n",
    "                    {\n",
    "                        \"term\": {\n",
    "                            \"Title\": title  # Make sure 'Title' field is indexed as a keyword\n",
    "                        }\n",
    "                    }\n",
    "                ]\n",
    "            }\n",
    "        }\n",
    "    }\n",
    "\n",
    "    response = es_client.search(index=index_name, body=search_query)\n",
    "\n",
    "    result_docs = []\n",
    "    for hit in response['hits']['hits']:\n",
    "        result_docs.append(hit['_source'])\n",
    "\n",
    "    return result_docs"
   ]
  },
  {
   "cell_type": "code",
   "execution_count": 37,
   "metadata": {},
   "outputs": [
    {
     "data": {
      "text/plain": [
       "[{'heading': 'Data Scientist',\n",
       "  'body': 'The roles of a data scientist and data analyst are pretty similar. In some companies, it’s the same person who does both jobs. However, data scientists typically focus more on predicting rather than explaining. A data analyst fetches the data, looks at it, explains what’s going on to the team, and gives some recommendations on what to do about it. A data scientist, on the other hand, focuses more on creating machine learning services. For example, one of the questions that a data scientist would want to answer is “How can we use this data to build a machine learning model for predicting something?” In other words, data scientists incorporate the data into the product. Their focus is more on engineering than analysis. Data scientists work more closely with engineers on integrating data solutions into the product. The skills of data scientists include: For our example, the data scientists are the people who develop the model used for predicting the category. Once they have a model, they can develop a simple web service for hosting this model.',\n",
       "  'Title': 'Roles in a Data Team',\n",
       "  'id': '99ce651b'},\n",
       " {'heading': 'Data Analyst',\n",
       "  'body': 'Data analysts know how to analyze the data available in the company. They discover insights in the data and then explain their findings to others. So, analysts need to know: Data analysts are also often responsible for defining key metrics and building different dashboards. This includes things like showing the company’s profits, displaying the number of listings, or how many contacts buyers made with sellers.  Thus, data analysts should know how to calculate all the important business metrics, and how to present them in a way that is understandable to others. When it comes to skills, data analysts should know: For our example, product managers turn to data analysts to help them quantify the extent of the problem. Together with the PM, the data analyst tries to answer questions like: After the analyst gets the data, analyzes it and answers these questions, they may conclude: “Yes, this is actually a problem”. Then the PM and the team discuss the repost and agree: “Indeed, this problem is actually worth solving”. Now the data team will go ahead and start solving this problem. After the model for the service is created, it’s necessary to understand if the service is effective: whether this model helps people and solves the problem. For that, data analysts usually run experiments — usually, A/B tests. When running an experiment, we can see if more users successfully finish posting an item for sale or if there are fewer ads that end up in the wrong category.',\n",
       "  'Title': 'Roles in a Data Team',\n",
       "  'id': 'af8066af'},\n",
       " {'heading': 'Data Engineers',\n",
       "  'body': 'Data engineers do all the heavy lifting when it comes to data. A lot of work needs to happen before data analysts can go to a database, fetch the data, perform their analysis, and come up with a report. This is precisely the focus of data engineers — they make sure this is possible. Their responsibility is to prepare all the necessary data in a form that is consumable for their colleagues. To accomplish this, data engineers create “a data lake”. All the data that users generate needs to be captured properly and saved in a separate database. This way, analysts can run their analysis, and data scientists can use this data for training models. Another thing data engineers often need to do, especially at larger companies, is to ensure that the people who look at the data have the necessary clearance to do so. Some user data is sensitive and people can’t just go looking around at personal information (such as emails or phone numbers) unless they have a really good reason to do so. Therefore, data engineers need to set up a system that doesn’t let people just access all the data at once. The skills needed for data engineers usually include: In our example, a data engineer prepares all the required data. First, they make sure the analyst has the data to perform the analysis. Then they also work with the data scientist to prepare the information that we’ll need for training the model. That includes the title of the listing, its description, the category, and so on. A data engineer isn’t the only type of engineer that a data team has. There are also machine learning engineers.',\n",
       "  'Title': 'Roles in a Data Team',\n",
       "  'id': 'eab92b1c'}]"
      ]
     },
     "execution_count": 37,
     "metadata": {},
     "output_type": "execute_result"
    }
   ],
   "source": [
    "elastic_search('whos is a data scientist', \"Roles in a Data Team\")"
   ]
  },
  {
   "cell_type": "markdown",
   "metadata": {},
   "source": [
    "Step4: Evaluation"
   ]
  },
  {
   "cell_type": "code",
   "execution_count": 38,
   "metadata": {},
   "outputs": [],
   "source": [
    "df_ground_truth = pd.read_csv('ground-truth-data.csv')"
   ]
  },
  {
   "cell_type": "code",
   "execution_count": 39,
   "metadata": {},
   "outputs": [],
   "source": [
    "ground_truth = df_ground_truth.to_dict(orient='records')"
   ]
  },
  {
   "cell_type": "code",
   "execution_count": 40,
   "metadata": {},
   "outputs": [
    {
     "name": "stderr",
     "output_type": "stream",
     "text": [
      "100%|██████████| 85/85 [00:01<00:00, 61.73it/s]\n"
     ]
    }
   ],
   "source": [
    "relevance_total = []\n",
    "\n",
    "for q in tqdm(ground_truth):\n",
    "    doc_id = q['document']\n",
    "    results = elastic_search(query=q['question'], title=q['title'])\n",
    "    relevance = [d['id'] == doc_id for d in results]\n",
    "    relevance_total.append(relevance)"
   ]
  },
  {
   "cell_type": "code",
   "execution_count": 41,
   "metadata": {},
   "outputs": [],
   "source": [
    "def hit_rate(relevance_total):\n",
    "    cnt = 0\n",
    "\n",
    "    for line in relevance_total:\n",
    "        if True in line:\n",
    "            cnt = cnt + 1\n",
    "\n",
    "    return cnt / len(relevance_total)"
   ]
  },
  {
   "cell_type": "code",
   "execution_count": 42,
   "metadata": {},
   "outputs": [],
   "source": [
    "def mrr(relevance_total):\n",
    "    total_score = 0.0\n",
    "\n",
    "    for line in relevance_total:\n",
    "        for rank in range(len(line)):\n",
    "            if line[rank] == True:\n",
    "                total_score = total_score + 1 / (rank + 1)\n",
    "\n",
    "    return total_score / len(relevance_total)"
   ]
  },
  {
   "cell_type": "code",
   "execution_count": 43,
   "metadata": {},
   "outputs": [
    {
     "data": {
      "text/plain": [
       "(0.7411764705882353, 0.5784313725490197)"
      ]
     },
     "execution_count": 43,
     "metadata": {},
     "output_type": "execute_result"
    }
   ],
   "source": [
    "hit_rate(relevance_total), mrr(relevance_total)"
   ]
  }
 ],
 "metadata": {
  "kernelspec": {
   "display_name": "llm-zoomcamp-18Y2mSdS",
   "language": "python",
   "name": "python3"
  },
  "language_info": {
   "codemirror_mode": {
    "name": "ipython",
    "version": 3
   },
   "file_extension": ".py",
   "mimetype": "text/x-python",
   "name": "python",
   "nbconvert_exporter": "python",
   "pygments_lexer": "ipython3",
   "version": "3.10.12"
  }
 },
 "nbformat": 4,
 "nbformat_minor": 2
}
