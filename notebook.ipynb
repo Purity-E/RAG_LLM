{
 "cells": [
  {
   "cell_type": "code",
   "execution_count": 1,
   "metadata": {},
   "outputs": [
    {
     "name": "stderr",
     "output_type": "stream",
     "text": [
      "/home/purity/.local/share/virtualenvs/llm-zoomcamp-18Y2mSdS/lib/python3.10/site-packages/tqdm/auto.py:21: TqdmWarning: IProgress not found. Please update jupyter and ipywidgets. See https://ipywidgets.readthedocs.io/en/stable/user_install.html\n",
      "  from .autonotebook import tqdm as notebook_tqdm\n"
     ]
    }
   ],
   "source": [
    "from openai import OpenAI\n",
    "from elasticsearch import Elasticsearch\n",
    "from tqdm.auto import tqdm\n",
    "import json"
   ]
  },
  {
   "cell_type": "markdown",
   "metadata": {},
   "source": [
    "Getting data"
   ]
  },
  {
   "cell_type": "code",
   "execution_count": 253,
   "metadata": {},
   "outputs": [],
   "source": [
    "with open('documents.json', 'r') as file:  # Replace 'data.json' with the path to your file\n",
    "    data = json.load(file)"
   ]
  },
  {
   "cell_type": "code",
   "execution_count": 254,
   "metadata": {},
   "outputs": [
    {
     "data": {
      "text/plain": [
       "{'body': 'A typical data team consists of the following roles: All these people work to create a data product. To explain the core responsibilities of each role, we will use a case scenario: Suppose we work at an online classifieds company. It’s a platform where users can go to sell things they don’t need (like OLX, where I work). If a user has an iPhone they want to sell — they go to this website, create a listing and sell their phone. On this platform, sellers sometimes have problems with identifying the correct category for the items they are selling. To help them, we want to build a service that suggests the best category. To sell their iPhone, the user creates a listing and the site needs to automatically understand that this iPhone has to go in the “mobile phones” category. Let’s start with the first role: product manager.',\n",
       " 'Title': 'Roles in a Data Team'}"
      ]
     },
     "execution_count": 254,
     "metadata": {},
     "output_type": "execute_result"
    }
   ],
   "source": [
    "documents = []\n",
    "\n",
    "for article_dict in data:\n",
    "    for doc in article_dict['documents']:\n",
    "        doc['Title'] = article_dict['Title']\n",
    "        documents.append(doc)\n",
    "\n",
    "documents[1]"
   ]
  },
  {
   "cell_type": "markdown",
   "metadata": {},
   "source": [
    "Connecting elastic search"
   ]
  },
  {
   "cell_type": "code",
   "execution_count": 94,
   "metadata": {},
   "outputs": [
    {
     "data": {
      "text/plain": [
       "ObjectApiResponse({'name': '12128a6410b3', 'cluster_name': 'docker-cluster', 'cluster_uuid': 'QuuLk9-uSW28udPq3EYo1w', 'version': {'number': '8.4.3', 'build_flavor': 'default', 'build_type': 'docker', 'build_hash': '42f05b9372a9a4a470db3b52817899b99a76ee73', 'build_date': '2022-10-04T07:17:24.662462378Z', 'build_snapshot': False, 'lucene_version': '9.3.0', 'minimum_wire_compatibility_version': '7.17.0', 'minimum_index_compatibility_version': '7.0.0'}, 'tagline': 'You Know, for Search'})"
      ]
     },
     "execution_count": 94,
     "metadata": {},
     "output_type": "execute_result"
    }
   ],
   "source": [
    "es_client = Elasticsearch('http://localhost:9200') \n",
    "es_client.info()"
   ]
  },
  {
   "cell_type": "code",
   "execution_count": 256,
   "metadata": {},
   "outputs": [
    {
     "data": {
      "text/plain": [
       "ObjectApiResponse({'acknowledged': True})"
      ]
     },
     "execution_count": 256,
     "metadata": {},
     "output_type": "execute_result"
    }
   ],
   "source": [
    "es_client.indices.delete(index=\"data-roles\")"
   ]
  },
  {
   "cell_type": "code",
   "execution_count": 257,
   "metadata": {},
   "outputs": [
    {
     "data": {
      "text/plain": [
       "ObjectApiResponse({'acknowledged': True, 'shards_acknowledged': True, 'index': 'data-roles'})"
      ]
     },
     "execution_count": 257,
     "metadata": {},
     "output_type": "execute_result"
    }
   ],
   "source": [
    "# indexing the data\n",
    "index_settings = {\n",
    "    \"settings\": {\n",
    "        \"number_of_shards\": 1,\n",
    "        \"number_of_replicas\": 0\n",
    "    },\n",
    "    \"mappings\": {\n",
    "        \"properties\": {\n",
    "            \"heading\": {\"type\": \"text\"},\n",
    "            \"body\": {\"type\": \"text\"},\n",
    "            \"Title\": {\"type\": \"keyword\"} \n",
    "        }\n",
    "    }\n",
    "}\n",
    "\n",
    "index_name = \"data-roles\"\n",
    "\n",
    "es_client.indices.create(index=index_name, body=index_settings)"
   ]
  },
  {
   "cell_type": "code",
   "execution_count": 198,
   "metadata": {},
   "outputs": [
    {
     "name": "stderr",
     "output_type": "stream",
     "text": [
      "100%|██████████| 6/6 [00:00<00:00, 60.30it/s]\n"
     ]
    }
   ],
   "source": [
    "for doc in tqdm(data):\n",
    "    es_client.index(index=index_name, document=doc)"
   ]
  },
  {
   "cell_type": "code",
   "execution_count": 258,
   "metadata": {},
   "outputs": [
    {
     "name": "stderr",
     "output_type": "stream",
     "text": [
      "100%|██████████| 42/42 [00:00<00:00, 122.35it/s]\n"
     ]
    }
   ],
   "source": [
    "for doc in tqdm(documents):\n",
    "    es_client.index(index=index_name, document=doc)"
   ]
  },
  {
   "cell_type": "markdown",
   "metadata": {},
   "source": [
    "Building an Elastic search model"
   ]
  },
  {
   "cell_type": "code",
   "execution_count": 264,
   "metadata": {},
   "outputs": [],
   "source": [
    "def elastic_search(query, title, index_name=\"data-roles\"):\n",
    "    search_query = {\n",
    "        \"size\": 2,  # Retrieve only the top result based on the highest score\n",
    "        \"query\": {\n",
    "            \"bool\": {\n",
    "                \"should\": [\n",
    "                    {\n",
    "                        \"multi_match\": {\n",
    "                            \"query\": query,\n",
    "                            \"fields\": [\"heading^4\", \"body\"],  # Boost 'heading' field\n",
    "                            \"type\": \"best_fields\",  # Best field matching strategy\n",
    "                            \"fuzziness\": \"AUTO\"  # Allow slight variations in text\n",
    "                        }\n",
    "                    }\n",
    "                ],\n",
    "                \"filter\": [\n",
    "                    {\n",
    "                        \"term\": {\n",
    "                            \"Title\": title  # Make sure 'Title' field is indexed as a keyword\n",
    "                        }\n",
    "                    }\n",
    "                ]\n",
    "            }\n",
    "        }\n",
    "    }\n",
    "\n",
    "    response = es_client.search(index=index_name, body=search_query)\n",
    "\n",
    "    result_docs = []\n",
    "    for hit in response['hits']['hits']:\n",
    "        result_docs.append(hit['_source'])\n",
    "\n",
    "    return result_docs"
   ]
  },
  {
   "cell_type": "markdown",
   "metadata": {},
   "source": [
    "Building a prompt"
   ]
  },
  {
   "cell_type": "code",
   "execution_count": 260,
   "metadata": {},
   "outputs": [],
   "source": [
    "def build_prompt(query, search_results):\n",
    "    prompt_template = \"\"\"\n",
    "You're a career assistant that helps people know more about data careers. Answer the QUESTION based on the CONTEXT from the knowledge.\n",
    "Use only the facts from the CONTEXT when answering the QUESTION.\n",
    "\n",
    "QUESTION: {question}\n",
    "\n",
    "CONTEXT: \n",
    "{context}\n",
    "\"\"\".strip()\n",
    "\n",
    "    context = \"\"\n",
    "    \n",
    "    for doc in search_results:\n",
    "        context = context + f\"title: {doc['Title']}\\n, heading: {doc['heading']}\\n, content: {doc['body']}\\n\"\n",
    "    \n",
    "    prompt = prompt_template.format(question=query, context=context).strip()\n",
    "    return prompt\n",
    "\n"
   ]
  },
  {
   "cell_type": "code",
   "execution_count": 265,
   "metadata": {},
   "outputs": [],
   "source": [
    "query = 'difference between data analyst and data scientist'\n",
    "s = elastic_search(query, 'Roles in a Data Team')\n",
    "prompt = build_prompt(query, s)"
   ]
  },
  {
   "cell_type": "code",
   "execution_count": 266,
   "metadata": {},
   "outputs": [
    {
     "name": "stdout",
     "output_type": "stream",
     "text": [
      "You're a career assistant that helps people know more about data careers. Answer the QUESTION based on the CONTEXT from the knowledge.\n",
      "Use only the facts from the CONTEXT when answering the QUESTION.\n",
      "\n",
      "QUESTION: difference between data analyst and data scientist\n",
      "\n",
      "CONTEXT: \n",
      "title: Roles in a Data Team\n",
      ", heading: Data Analyst\n",
      ", content: Data analysts know how to analyze the data available in the company. They discover insights in the data and then explain their findings to others. So, analysts need to know: Data analysts are also often responsible for defining key metrics and building different dashboards. This includes things like showing the company’s profits, displaying the number of listings, or how many contacts buyers made with sellers.  Thus, data analysts should know how to calculate all the important business metrics, and how to present them in a way that is understandable to others. When it comes to skills, data analysts should know: For our example, product managers turn to data analysts to help them quantify the extent of the problem. Together with the PM, the data analyst tries to answer questions like: After the analyst gets the data, analyzes it and answers these questions, they may conclude: “Yes, this is actually a problem”. Then the PM and the team discuss the repost and agree: “Indeed, this problem is actually worth solving”. Now the data team will go ahead and start solving this problem. After the model for the service is created, it’s necessary to understand if the service is effective: whether this model helps people and solves the problem. For that, data analysts usually run experiments — usually, A/B tests. When running an experiment, we can see if more users successfully finish posting an item for sale or if there are fewer ads that end up in the wrong category.\n",
      "title: Roles in a Data Team\n",
      ", heading: Data Scientist\n",
      ", content: The roles of a data scientist and data analyst are pretty similar. In some companies, it’s the same person who does both jobs. However, data scientists typically focus more on predicting rather than explaining. A data analyst fetches the data, looks at it, explains what’s going on to the team, and gives some recommendations on what to do about it. A data scientist, on the other hand, focuses more on creating machine learning services. For example, one of the questions that a data scientist would want to answer is “How can we use this data to build a machine learning model for predicting something?” In other words, data scientists incorporate the data into the product. Their focus is more on engineering than analysis. Data scientists work more closely with engineers on integrating data solutions into the product. The skills of data scientists include: For our example, the data scientists are the people who develop the model used for predicting the category. Once they have a model, they can develop a simple web service for hosting this model.\n"
     ]
    }
   ],
   "source": [
    "print(prompt)"
   ]
  },
  {
   "cell_type": "markdown",
   "metadata": {},
   "source": [
    "Building the llm function"
   ]
  },
  {
   "cell_type": "code",
   "execution_count": 136,
   "metadata": {},
   "outputs": [],
   "source": [
    "client = OpenAI(\n",
    "    base_url='http://localhost:11434/v1/',\n",
    "    api_key='ollama',\n",
    ")"
   ]
  },
  {
   "cell_type": "code",
   "execution_count": 157,
   "metadata": {},
   "outputs": [],
   "source": [
    "def llm(prompt):\n",
    "    response = client.chat.completions.create(\n",
    "        model='gemma:2b',\n",
    "        messages=[{\"role\": \"user\", \"content\": prompt}]\n",
    "    )\n",
    "    \n",
    "    return response.choices[0].message.content"
   ]
  },
  {
   "cell_type": "markdown",
   "metadata": {},
   "source": [
    "Building RAG"
   ]
  },
  {
   "cell_type": "code",
   "execution_count": 227,
   "metadata": {},
   "outputs": [],
   "source": [
    "def rag(query):\n",
    "    search_results = elastic_search(query, \"Roles in a Data Team\")\n",
    "    prompt = build_prompt(query, search_results)\n",
    "    answer = llm(prompt)\n",
    "    return answer"
   ]
  },
  {
   "cell_type": "code",
   "execution_count": 268,
   "metadata": {},
   "outputs": [
    {
     "data": {
      "text/plain": [
       "'The article is about the roles of a data scientist and data analyst in a data team. The data scientist focuses more on predicting rather than explaining, creating machine learning services. The data analyst focuses more on fetching the data, looking at it, explaining what’s going on to the team, and giving recommendations on things to do.'"
      ]
     },
     "execution_count": 268,
     "metadata": {},
     "output_type": "execute_result"
    }
   ],
   "source": [
    "query = 'what is the article about'\n",
    "rag(query)"
   ]
  },
  {
   "cell_type": "markdown",
   "metadata": {},
   "source": [
    "Semantic search with Elastic search"
   ]
  },
  {
   "cell_type": "markdown",
   "metadata": {},
   "source": [
    "1. Preparing the documents"
   ]
  },
  {
   "cell_type": "code",
   "execution_count": 205,
   "metadata": {},
   "outputs": [],
   "source": [
    "with open('documents.json', 'r') as file:  # Replace 'data.json' with the path to your file\n",
    "    data = json.load(file)"
   ]
  },
  {
   "cell_type": "code",
   "execution_count": 208,
   "metadata": {},
   "outputs": [
    {
     "data": {
      "text/plain": [
       "{'body': 'A typical data team consists of the following roles: All these people work to create a data product. To explain the core responsibilities of each role, we will use a case scenario: Suppose we work at an online classifieds company. It’s a platform where users can go to sell things they don’t need (like OLX, where I work). If a user has an iPhone they want to sell — they go to this website, create a listing and sell their phone. On this platform, sellers sometimes have problems with identifying the correct category for the items they are selling. To help them, we want to build a service that suggests the best category. To sell their iPhone, the user creates a listing and the site needs to automatically understand that this iPhone has to go in the “mobile phones” category. Let’s start with the first role: product manager.',\n",
       " 'Title': 'Roles in a Data Team'}"
      ]
     },
     "execution_count": 208,
     "metadata": {},
     "output_type": "execute_result"
    }
   ],
   "source": [
    "documents = []\n",
    "\n",
    "for article_dict in data:\n",
    "    for doc in article_dict['documents']:\n",
    "        doc['Title'] = article_dict['Title']\n",
    "        documents.append(doc)\n",
    "\n",
    "documents[1]"
   ]
  },
  {
   "cell_type": "markdown",
   "metadata": {},
   "source": [
    "Step 2: Create Embeddings using Pretrained Models"
   ]
  },
  {
   "cell_type": "code",
   "execution_count": 209,
   "metadata": {},
   "outputs": [
    {
     "name": "stderr",
     "output_type": "stream",
     "text": [
      "/home/purity/.local/share/virtualenvs/llm-zoomcamp-18Y2mSdS/lib/python3.10/site-packages/transformers/tokenization_utils_base.py:1617: FutureWarning: `clean_up_tokenization_spaces` was not set. It will be set to `True` by default. This behavior will be deprecated in transformers v4.45, and will be then set to `False` by default. For more details check this issue: https://github.com/huggingface/transformers/issues/31884\n",
      "  warnings.warn(\n"
     ]
    }
   ],
   "source": [
    "from sentence_transformers import SentenceTransformer\n",
    "model = SentenceTransformer(\"all-mpnet-base-v2\")"
   ]
  },
  {
   "cell_type": "code",
   "execution_count": 211,
   "metadata": {},
   "outputs": [],
   "source": [
    "#created the dense vector using the pre-trained model\n",
    "operations = []\n",
    "for doc in documents:\n",
    "    # Transforming the body into an embedding using the model\n",
    "    doc[\"body_vector\"] = model.encode(doc[\"body\"]).tolist()\n",
    "    operations.append(doc)"
   ]
  },
  {
   "cell_type": "markdown",
   "metadata": {},
   "source": [
    "Step 3: Setup ElasticSearch connection"
   ]
  },
  {
   "cell_type": "code",
   "execution_count": null,
   "metadata": {},
   "outputs": [],
   "source": [
    "es_client = Elasticsearch('http://localhost:9200') "
   ]
  },
  {
   "cell_type": "markdown",
   "metadata": {},
   "source": [
    "Step 4: Create Mappings and Index"
   ]
  },
  {
   "cell_type": "code",
   "execution_count": 212,
   "metadata": {},
   "outputs": [],
   "source": [
    "index_settings = {\n",
    "    \"settings\": {\n",
    "        \"number_of_shards\": 1,\n",
    "        \"number_of_replicas\": 0\n",
    "    },\n",
    "    \"mappings\": {\n",
    "        \"properties\": {\n",
    "            \"heading\": {\"type\": \"text\"},\n",
    "            \"body\": {\"type\": \"text\"},\n",
    "            \"Title\": {\"type\": \"keyword\"},\n",
    "            \"body_vector\": {\"type\": \"dense_vector\", \"dims\": 768, \"index\": True, \"similarity\": \"cosine\"},\n",
    "        }\n",
    "    }\n",
    "}"
   ]
  },
  {
   "cell_type": "code",
   "execution_count": 213,
   "metadata": {},
   "outputs": [
    {
     "data": {
      "text/plain": [
       "ObjectApiResponse({'acknowledged': True, 'shards_acknowledged': True, 'index': 'data-roles'})"
      ]
     },
     "execution_count": 213,
     "metadata": {},
     "output_type": "execute_result"
    }
   ],
   "source": [
    "index_name = \"data-roles\"\n",
    "\n",
    "es_client.indices.delete(index=index_name, ignore_unavailable=True)\n",
    "es_client.indices.create(index=index_name, body=index_settings)"
   ]
  },
  {
   "cell_type": "markdown",
   "metadata": {},
   "source": [
    "Step 5: Add documents into index"
   ]
  },
  {
   "cell_type": "code",
   "execution_count": 214,
   "metadata": {},
   "outputs": [
    {
     "name": "stderr",
     "output_type": "stream",
     "text": [
      "100%|██████████| 42/42 [00:00<00:00, 82.17it/s]\n"
     ]
    }
   ],
   "source": [
    "for doc in tqdm(operations):\n",
    "    try:\n",
    "        es_client.index(index=index_name, document=doc)\n",
    "    except Exception as e:\n",
    "        print(e)"
   ]
  },
  {
   "cell_type": "markdown",
   "metadata": {},
   "source": [
    "Step 6: Performing the search"
   ]
  },
  {
   "cell_type": "code",
   "execution_count": 221,
   "metadata": {},
   "outputs": [],
   "source": [
    "search_term = \"data scientist vs data analyst?\"\n",
    "vector_search_term = model.encode(search_term)"
   ]
  },
  {
   "cell_type": "code",
   "execution_count": 244,
   "metadata": {},
   "outputs": [],
   "source": [
    "def elastic_search(search_term, title, index_name=\"data-roles\"):\n",
    "    vector_search_term = model.encode(search_term) #semantic search on the query/search term\n",
    "    knn_query = {\n",
    "        \"field\": \"body_vector\",\n",
    "        \"query_vector\": vector_search_term,\n",
    "        \"k\": 5,\n",
    "        \"num_candidates\": 10000\n",
    "      }\n",
    "\n",
    "    response = es_client.search(\n",
    "    index=index_name,\n",
    "    query={\n",
    "        \"match\": {\"Title\": title}, #filtering the article\n",
    "    },\n",
    "    knn=knn_query,\n",
    "    size=1\n",
    "    )\n",
    "\n",
    "    \n",
    "    for hit in response['hits']['hits']:\n",
    "        result = hit['_source']\n",
    "\n",
    "    return result"
   ]
  },
  {
   "cell_type": "code",
   "execution_count": 247,
   "metadata": {},
   "outputs": [],
   "source": [
    "def build_prompt(query, search_results):\n",
    "    prompt_template = \"\"\"\n",
    "You're a career assistant that helps people know more about data careers. Answer the QUESTION based on the CONTEXT from the knowledge.\n",
    "Use only the facts from the CONTEXT when answering the QUESTION.\n",
    "\n",
    "QUESTION: {question}\n",
    "\n",
    "CONTEXT: \n",
    "{context}\n",
    "\"\"\".strip()\n",
    "\n",
    "    context = \"\"\n",
    "    \n",
    "    \n",
    "    context = context + f\"content: {search_results['body']}\\n\"\n",
    "    \n",
    "    prompt = prompt_template.format(question=query, context=context).strip()\n",
    "    return prompt"
   ]
  },
  {
   "cell_type": "code",
   "execution_count": 239,
   "metadata": {},
   "outputs": [],
   "source": [
    "knn_query = {\n",
    "    \"field\": \"body_vector\",\n",
    "    \"query_vector\": vector_search_term,\n",
    "    \"k\": 5,\n",
    "    \"num_candidates\": 10000\n",
    "}"
   ]
  },
  {
   "cell_type": "code",
   "execution_count": 242,
   "metadata": {},
   "outputs": [],
   "source": [
    "response = es_client.search(\n",
    "    index=index_name,\n",
    "    query={\n",
    "        \"match\": {\"Title\": \"Roles in a Data Team\"},\n",
    "    },\n",
    "    knn=knn_query,\n",
    "    size=1\n",
    ")"
   ]
  },
  {
   "cell_type": "code",
   "execution_count": 241,
   "metadata": {},
   "outputs": [
    {
     "name": "stdout",
     "output_type": "stream",
     "text": [
      "{'heading': 'Data Scientist', 'body': 'The roles of a data scientist and data analyst are pretty similar. In some companies, it’s the same person who does both jobs. However, data scientists typically focus more on predicting rather than explaining. A data analyst fetches the data, looks at it, explains what’s going on to the team, and gives some recommendations on what to do about it. A data scientist, on the other hand, focuses more on creating machine learning services. For example, one of the questions that a data scientist would want to answer is “How can we use this data to build a machine learning model for predicting something?” In other words, data scientists incorporate the data into the product. Their focus is more on engineering than analysis. Data scientists work more closely with engineers on integrating data solutions into the product. The skills of data scientists include: For our example, the data scientists are the people who develop the model used for predicting the category. Once they have a model, they can develop a simple web service for hosting this model.', 'Title': 'Roles in a Data Team', 'body_vector': [0.03564508259296417, 0.0286251250654459, -0.04294344782829285, -0.0060867792926728725, -0.018645837903022766, 0.017700396478176117, 0.01165875606238842, -0.06902040541172028, -0.022901471704244614, 0.007783598266541958, 0.00839603878557682, -0.02450493723154068, 0.003178972052410245, 0.0262790247797966, 0.007350457366555929, -0.01576644368469715, -0.020223872736096382, -0.01137617789208889, 0.06880752742290497, 0.02257312647998333, 0.025157013908028603, -0.012647720985114574, -0.008604306727647781, 0.023923074826598167, -0.0163277555257082, 0.042723171412944794, 0.015424579381942749, -0.022032052278518677, -0.011444051750004292, 0.03257480263710022, 0.08570490777492523, -0.038273464888334274, 0.014996316283941269, 0.00544658163562417, 1.835241164371837e-06, 0.006935684941709042, 0.022027598693966866, 0.047727979719638824, -0.01396850124001503, -0.0917675644159317, 0.010934820398688316, -0.03189115226268768, 0.041740547865629196, 0.04340936243534088, -0.020825577899813652, -0.05720222368836403, 0.03865448385477066, -0.0010186649160459638, -0.013156214728951454, -0.0028501602355390787, 0.00317320111207664, -0.05615474656224251, 1.0778423529700376e-05, 0.003381565446034074, 0.029700754210352898, 0.04405488818883896, 0.0013878406025469303, 0.07576606422662735, -0.0020280054304748774, 0.016785413026809692, 0.031062554568052292, 0.001559149706736207, -0.017647635191679, -0.017510144039988518, 0.004668755456805229, -0.02135520800948143, -0.008952462114393711, 0.0066639152355492115, 0.0056026047095656395, -0.03329620137810707, 0.03273504227399826, -0.0014445810811594129, 0.009526848793029785, 0.03040272556245327, 0.03361459821462631, 0.06301529705524445, -0.025100313127040863, 0.0027672285214066505, -0.026788610965013504, -0.03204911947250366, 0.019542424008250237, 0.055567417293787, -0.013121728785336018, -0.007699929177761078, -0.05164230242371559, 0.011453052051365376, -0.06558313965797424, -0.05058339610695839, 0.04650631546974182, -0.0032047408167272806, 0.09913866221904755, -0.04684381186962128, -0.0014035424683243036, 0.013590247370302677, -0.060160230845212936, 0.006383031606674194, 0.01838068664073944, -0.0073407734744250774, -0.0330171212553978, -0.012324255891144276, 0.02738412842154503, -0.03076445497572422, -0.016654498875141144, -0.011427425779402256, 0.013188515789806843, 0.020193614065647125, 0.08577749133110046, 0.06761135160923004, 0.017715780064463615, -0.05565164238214493, -0.011353719048202038, -0.05405696853995323, 0.02683119848370552, -0.04417632892727852, 0.04118279367685318, 0.01318975631147623, 0.02979675866663456, 0.011224351823329926, -0.034546878188848495, -0.00034410247462801635, 0.012383069843053818, 0.010903910733759403, 0.007331307046115398, 0.061334483325481415, -0.05090215802192688, -0.02543104998767376, -0.049126315861940384, 0.03675851598381996, 0.03202497959136963, -0.006723718252032995, 0.013524550944566727, 0.04048694297671318, 0.015760118141770363, -0.0035727922804653645, 0.033476803451776505, 0.0001060508075170219, 0.0021285947877913713, 0.10117175430059433, -0.0355730764567852, -0.025327544659376144, 0.030445409938693047, -0.0669540986418724, -0.015039179474115372, 0.04508399963378906, 0.026093315333127975, 0.034514982253313065, -0.057350512593984604, -0.03397155925631523, 0.012917124666273594, 0.050962895154953, 0.008687940426170826, 0.04593151807785034, -0.003277804236859083, 0.013492397032678127, 0.012468335218727589, 0.0271298810839653, -0.0357884019613266, 0.002773514948785305, -0.027793046087026596, 0.016553597524762154, -0.047756437212228775, -0.014834191650152206, 0.07993453741073608, -0.024849042296409607, -0.005097002722322941, -0.025832952931523323, -0.014290145598351955, 0.050162144005298615, -0.07442664355039597, 0.024604247882962227, 0.06177419424057007, -0.018984874710440636, -0.02561749704182148, 0.07222167402505875, -0.025174051523208618, -0.011207740753889084, 0.07307159155607224, 0.049924056977033615, 0.008279304951429367, 0.033040355890989304, 0.020275337621569633, -0.01482123602181673, -0.009230081923305988, 0.05258100852370262, 0.08005212992429733, 0.002430330729112029, -0.06830547004938126, -0.08819489181041718, 0.00951220653951168, -0.011958928778767586, 0.016822408884763718, 0.04041948914527893, 0.022801103070378304, 0.030134834349155426, -0.03469574823975563, 0.007677371613681316, -0.046181052923202515, 0.01410694606602192, -0.04543987661600113, 0.012034191749989986, -0.037722088396549225, 0.008159556426107883, -0.09091212600469589, 0.04053720086812973, 0.009157123044133186, -0.07059204578399658, -0.07526164501905441, -0.032209742814302444, 0.0002829516015481204, -0.06008829548954964, -0.016075707972049713, -0.006463584024459124, -0.09600118547677994, 0.01446960587054491, -0.0540027990937233, -0.07490574568510056, 0.01612977124750614, -0.02435312792658806, 0.03224492818117142, 0.0023814847227185965, 0.0034003164619207382, 0.00893095787614584, -0.05171234533190727, -0.014673758298158646, -0.006631071213632822, 0.05003738030791283, -0.016597630456089973, 0.028803210705518723, -0.03291618451476097, 0.0269775353372097, -0.022189507260918617, 0.018070075660943985, -0.038745615631341934, 0.020728733390569687, 0.017799144610762596, -0.012653542682528496, 0.025063233450055122, 0.027494532987475395, 0.004370200447738171, -0.004478306509554386, -0.031153995543718338, 0.04871819168329239, -0.027159536257386208, -0.0020627991762012243, 0.029896393418312073, -0.018740450963377953, -0.06838340312242508, 0.02300623059272766, -0.00803117174655199, -0.06773533672094345, 0.03379356861114502, 0.0003539535391610116, -0.025873256847262383, 0.02818775363266468, 0.016990531235933304, -0.03059912472963333, 0.014565853402018547, 0.04814894124865532, 0.002475133165717125, 0.05988040193915367, -0.030141009017825127, -0.008151543326675892, 0.020541243255138397, 0.05994752049446106, -0.09116140007972717, -0.0034239653032273054, 0.03808023780584335, 0.07051343470811844, -0.028799887746572495, -0.005931921768933535, 0.004030005075037479, -0.0012052570236846805, -0.02806171402335167, -0.02126142382621765, 0.006687969900667667, -0.004624663386493921, -0.02534554712474346, -0.020011110231280327, -0.007619107607752085, 0.036827005445957184, 0.04758117347955704, -0.01702255941927433, -0.013531863689422607, 0.004712916444987059, -0.013973149470984936, -0.02554454281926155, 0.08340005576610565, -0.06750700622797012, 0.023127257823944092, -0.04615980014204979, -0.006704458501189947, 0.000844120339024812, -0.023007431998848915, 0.003457155777141452, 0.02213260717689991, 0.0022673141211271286, -0.019094092771410942, -0.016411470249295235, -0.0408509336411953, 0.024815097451210022, -0.031915515661239624, -0.034864138811826706, 0.07394473999738693, 0.023132557049393654, 0.03769997879862785, 0.03701145946979523, 0.010057331994175911, 0.0011075626825913787, 0.010281848721206188, -0.010692444629967213, -0.02199789136648178, -0.023980384692549706, 0.05273912847042084, 0.04654800891876221, 0.020669879391789436, -0.018938450142741203, -0.009574889205396175, -0.018772544339299202, 0.012477576732635498, 0.04396545886993408, -0.032144613564014435, 0.010752469301223755, -0.002432829001918435, 0.00674196844920516, 0.0024657605681568384, -0.03590105473995209, -0.03168715536594391, -0.025084329769015312, 0.02269875630736351, -0.04938596114516258, 0.002318587386980653, -0.06411530822515488, 0.0016843592748045921, 0.0036249810364097357, -0.030843675136566162, 0.01457866933196783, -0.003011325141415, -0.018921619281172752, -0.012254801578819752, -0.029710911214351654, -0.02822449989616871, 0.05094745755195618, 0.009487896226346493, 0.035645268857479095, -0.021074669435620308, 0.012969388626515865, 0.07270672917366028, -0.056762948632240295, 0.014697398990392685, 0.010072607547044754, 0.05952446535229683, 0.007433110382407904, 0.017822647467255592, -0.003718401538208127, 0.016248391941189766, -0.05902655050158501, -0.013248536735773087, -0.006642627064138651, -0.041584718972444534, 0.015274817124009132, -0.03296889737248421, -0.038415346294641495, -0.07784439623355865, -0.06005026027560234, -0.04793917015194893, -0.03237152844667435, -0.013898409903049469, 0.010726354084908962, 0.014024874195456505, -0.037803854793310165, -0.04484407603740692, -0.0062599689699709415, 0.027575768530368805, -0.031112179160118103, -0.024623896926641464, 0.02130046673119068, -0.02640739642083645, 0.020946266129612923, -0.035865724086761475, 0.014339810237288475, 0.04806540161371231, -0.02701309509575367, -0.011767612770199776, 0.0332878902554512, 0.00846380740404129, -0.05787569656968117, -0.06232335790991783, -0.030174538493156433, 0.02300817333161831, 0.05729987099766731, -0.04424430429935455, -0.005987307522445917, -0.04030543193221092, -0.01039172150194645, 0.00839660968631506, -0.02392534725368023, -0.009122399613261223, 0.0015238177729770541, 0.030872944742441177, 0.010816555470228195, 0.045658692717552185, -0.024842428043484688, 0.01823878288269043, -0.027247050777077675, 0.003960282076150179, -0.009657018817961216, 0.05321839451789856, 0.013926934450864792, -0.03982317075133324, 0.10068163275718689, -0.008331353776156902, 0.06770657002925873, 0.022914642468094826, 0.05029704421758652, -0.006616257596760988, 0.02702978253364563, 0.0033862078562378883, -0.010890434496104717, 0.004842022899538279, 0.0296254251152277, 0.09040374308824539, 0.02109728939831257, 0.025181997567415237, -0.020103545859456062, -0.02175898104906082, -0.020866088569164276, -0.021003326401114464, 0.0627942830324173, 0.02379824034869671, 0.008462867699563503, 0.003260829485952854, -0.06146790087223053, 0.0017398420022800565, -0.013454603962600231, 0.004056722391396761, 0.02016540989279747, 0.01272675208747387, -0.007135060150176287, -0.06384849548339844, 0.037840619683265686, -0.04749714583158493, -0.006051278673112392, -0.056634049862623215, -0.020505478605628014, -0.023209286853671074, -0.051619451493024826, -0.038129061460494995, -0.0660679042339325, -0.02073950320482254, 0.01132240705192089, 0.09943940490484238, 0.07767419517040253, -0.055432096123695374, 0.02742278389632702, 0.007359784096479416, -0.03904164955019951, -0.07550516724586487, 0.01786206290125847, 0.041274867951869965, -0.02760445885360241, -0.01216687262058258, -0.0035809767432510853, -0.005332525819540024, 0.0009835942182689905, -0.07311654090881348, -0.047066304832696915, 0.0819619819521904, -0.02946688048541546, -0.05136031284928322, -0.04467082396149635, -0.007265374064445496, -0.011652515269815922, -0.03207693248987198, 0.0008820092771202326, 0.017468160018324852, 0.012122068554162979, -0.04341334477066994, -0.02105775661766529, 0.019678998738527298, 0.013539083302021027, 0.0010278281988576055, 0.03591001406311989, 0.05467800423502922, -0.0024632252752780914, 0.00362225528806448, -0.004499299917370081, 0.024265704676508904, -0.05043239891529083, -0.02045687474310398, -0.055812861770391464, 0.03459750488400459, 0.01555869821459055, 0.040475741028785706, -0.004254714120179415, 0.007461868692189455, -0.11294432729482651, -0.013989880681037903, 0.06370338797569275, 0.07813971489667892, 0.03447612375020981, -0.014764606021344662, 0.022919129580259323, -0.01844226010143757, -0.06137053295969963, 0.07465067505836487, -0.0021307789720594883, 0.02616562508046627, -0.02649191953241825, -0.013578868471086025, 0.004936696030199528, -0.013508280739188194, -0.033740486949682236, -0.020576849579811096, -0.01537530031055212, 0.004639357794076204, -0.022276073694229126, -0.0692346915602684, 0.022298838943243027, -0.07186686247587204, -0.027760421857237816, 0.0014663196634501219, 0.01542214397341013, -0.030016280710697174, 0.016429349780082703, 0.029400447383522987, -0.004139669239521027, -0.0395243875682354, 0.009971627034246922, -0.06828340142965317, 0.046217214316129684, 0.029906736686825752, 0.034142110496759415, -0.07425220310688019, -0.06488056480884552, 0.03443649783730507, -0.01428187731653452, 0.03848817199468613, -0.06491585820913315, 0.04317163676023483, 0.0007403361378237605, 0.013171898201107979, -0.03530435264110565, -0.03291363641619682, -0.03076406568288803, 0.012518603354692459, -0.03166995197534561, -0.021186066791415215, 0.01547713577747345, -0.010224366560578346, 0.0222392026335001, -0.014906814321875572, 0.03141612932085991, -0.012911471538245678, 0.028627589344978333, -0.013310606591403484, -5.2214268875495804e-33, 0.0754556804895401, -4.81696188217029e-05, 0.048420678824186325, -0.020387517288327217, 0.008983280509710312, 0.012061684392392635, -0.03910985589027405, -0.026032214984297752, -0.0308071356266737, 0.05803380906581879, -0.03825477138161659, 0.05091863125562668, 0.002656127093359828, 0.0019044533837586641, 0.029898274689912796, -0.027950312942266464, 0.010189346969127655, 0.048732805997133255, 0.039646584540605545, 0.006155517417937517, -0.03929869458079338, -0.022123930975794792, -0.056044355034828186, -0.06958098709583282, 0.026327762752771378, -0.014212417416274548, -0.005655078683048487, 0.014209350571036339, 0.01309994701296091, -0.04948604479432106, 0.06520304828882217, 0.03455403819680214, -0.014311726205050945, -0.04019578546285629, -0.0368926040828228, 0.04224151745438576, -0.0389004647731781, 0.009769934229552746, 0.008274151012301445, 0.017279069870710373, 0.0019543988164514303, 0.02346883900463581, 0.03262586519122124, 0.011546587571501732, -0.02131708338856697, -0.013342740014195442, -0.014688169583678246, 0.002767969621345401, 0.024801775813102722, -0.03277505189180374, -0.010276410728693008, 0.008929545059800148, -0.06881356984376907, -1.530814915895462e-05, 0.08032139390707016, 0.03145889192819595, -0.019004007801413536, -0.00041419692570343614, 0.021228983998298645, 0.05060180649161339, 0.04707964509725571, -0.02296845242381096, 0.01122299861162901, 0.0887194573879242, -0.02803265117108822, 0.0021472361404448748, 0.06783521920442581, -0.0402248315513134, -0.00630553811788559, 0.06395749002695084, -0.0761926919221878, 0.07860653102397919, 0.0009568115929141641, 0.017822425812482834, -0.011899073608219624, -0.02756345644593239, -0.025826601311564445, 0.029014913365244865, -0.013996821828186512, -0.04412928968667984, -0.043049320578575134, 0.022141704335808754, -0.004683696664869785, -0.045995332300662994, 0.020176298916339874, 0.013037444092333317, -0.0015618882607668638, -0.013729512691497803, -0.012574118562042713, -0.014460726641118526, -0.03076135367155075, 0.13316135108470917, -0.009351779706776142, -0.05413559079170227, 0.014853340573608875, 0.02633291855454445, -0.007739880122244358, -0.009620919823646545, 0.010876059532165527, -0.009592430666089058, -0.0492919497191906, 0.0038304217159748077, -0.024472927674651146, 0.07103055715560913, 0.02000066451728344, 0.02326061576604843, 0.02220359444618225, 0.008188240230083466, 0.018314464017748833, -0.01823447272181511, 0.015256923623383045, 0.028680715709924698, -0.021846836432814598, -0.030850140377879143, -0.01994849182665348, 0.012742537073791027, -0.0006214024033397436, -0.050409913063049316, 0.01644180156290531, 0.028433583676815033, 0.041734479367733, 0.02210616134107113, -0.04373304545879364, -0.0298258475959301, 0.029265528544783592, -0.023093316704034805, -0.018217120319604874, -0.10026522725820541, -0.044832345098257065, -0.026556285098195076, 0.0052022323943674564, -0.04733141139149666, 2.527779656702478e-07, 0.02357536368072033, -0.0016257482348009944, 0.00047602245467714965, 0.023015236482024193, 0.02345811203122139, -0.02202005125582218, 0.028382020071148872, -0.0225978996604681, 0.036581218242645264, 0.01678531989455223, 0.0011752638965845108, -0.017017237842082977, -0.00899827666580677, -0.023012179881334305, 0.02599361725151539, -0.05127563327550888, -0.025295745581388474, -0.030071822926402092, -0.02977052889764309, 0.05864298716187477, 0.01672431267797947, -0.03836561739444733, -0.033200979232788086, -0.019721804186701775, -0.004758736584335566, -0.047144461423158646, -0.014095424674451351, 0.056520912796258926, 0.10722050070762634, 0.08716381341218948, -0.008115452714264393, 0.05583648383617401, 0.06593406945466995, 0.03189622983336449, 0.019384315237402916, -0.0011546608293429017, 0.029576558619737625, 0.024879107251763344, 0.038270045071840286, 0.06683959066867828, 0.03601246327161789, 0.02216748520731926, 0.01935570314526558, -0.02119084820151329, 0.021899953484535217, -0.04415540024638176, -0.0484730526804924, -0.028473472222685814, 0.018073545768857002, -0.036526307463645935, -0.040209826081991196, -0.019701050594449043, 0.035443369299173355, -0.0028159788344055414, -0.0022780015133321285, -0.00325075164437294, -0.02608499303460121, -0.010711828246712685, 0.003301901975646615, 0.033403072506189346, 0.007072375621646643, 0.0027846726588904858, 0.03380667790770531, 0.017621809616684914, 0.039662767201662064, -0.010326271876692772, 0.027952466160058975, 1.4948204906711572e-34, 0.026284003630280495, 0.07343906164169312, -0.043639104813337326, -0.04942234978079796, 0.044255852699279785, -0.020099975168704987, 0.05438760668039322, 0.006055122707039118, 0.01179780624806881, 0.060380641371011734, -0.02157641388475895]}\n",
      "{'body': '14 Dec 2020 byAlexey Grigorev', 'Title': 'Roles in a Data Team', 'body_vector': [0.06894730776548386, 0.025190573185682297, 0.02779945731163025, 0.004705451894551516, -0.04312755540013313, -0.04622257873415947, 0.007398516871035099, -0.020608095452189445, 0.03448013588786125, 0.05832513049244881, 0.12382300198078156, 0.017240803688764572, -0.003074751701205969, 0.0601658970117569, 0.04537259414792061, -0.04560832679271698, 0.04633477330207825, 0.006062528118491173, -0.0017588669434189796, -0.021181927993893623, -0.05833141878247261, 0.016809478402137756, -0.026343461126089096, 0.010724697262048721, 0.015207426622509956, -1.4050973732082639e-05, 0.010139357298612595, -0.0075796982273459435, -0.07546062767505646, -0.009372926317155361, 0.013826861046254635, -0.010131146758794785, -0.039976026862859726, 0.03502487391233444, 1.9541382698662346e-06, -0.039878107607364655, -0.02313653752207756, 0.0059981741942465305, 0.021219199523329735, -0.015964046120643616, 0.00896182656288147, -0.03602391108870506, -0.043377652764320374, -0.015384705737233162, -0.07398578524589539, -0.051584392786026, -0.017158489674329758, 0.0007442311034537852, -0.05861090496182442, 0.07611517608165741, 0.0013521384680643678, -0.01258015912026167, 0.03337915614247322, -0.016989903524518013, 0.03666658326983452, -0.06647610664367676, -0.029778899624943733, 0.03858295455574989, -0.04565591737627983, 0.04945726692676544, 0.03869931027293205, 0.07778134196996689, 0.005803087260574102, -0.02525021880865097, -0.005980610381811857, 0.013919830322265625, 0.03874743729829788, -0.0015351512702181935, -0.012285443022847176, 0.0022825920023024082, 0.07218069583177567, -0.05094924569129944, 0.047966454178094864, 0.09687814116477966, -0.037461817264556885, -0.0021606392692774534, 0.00558477733284235, 0.014118877239525318, 0.006061689928174019, -0.015082950703799725, 0.05974578857421875, -0.010361935012042522, -0.0010298293782398105, 0.011031641624867916, 0.04450209438800812, 0.029909513890743256, -0.002682293765246868, 0.016830503940582275, 0.007305945735424757, -0.03887520357966423, 0.00961167924106121, -0.010307397693395615, 0.023888319730758667, 0.044488366693258286, 0.030351588502526283, 0.017421511933207512, -0.027232568711042404, 0.020887386053800583, -0.007215442601591349, -0.03132178634405136, -0.03398065268993378, -0.0070680854842066765, 0.07325167953968048, 0.046552736312150955, -0.004490399733185768, 0.021844640374183655, -0.06664007157087326, 0.01698555424809456, -0.016997115686535835, 0.006508635822683573, -0.03377416357398033, 0.017915233969688416, 0.0156312957406044, -0.01368517242372036, 0.050227291882038116, 0.012003131210803986, -0.015785662457346916, -0.02748437412083149, 0.07490668445825577, 0.05268002301454544, 0.0015358573291450739, 0.02318671904504299, -0.03285752981901169, 0.025001706555485725, -0.08679036051034927, -0.012931684963405132, -0.03660059720277786, -0.043904297053813934, 0.013764210045337677, 0.03406236320734024, -0.021533632650971413, 0.01400016900151968, -0.003190473420545459, -0.041826069355010986, 0.0038804281502962112, 0.025212891399860382, -0.043393559753894806, 0.0008126441389322281, 0.05851324647665024, -0.0657372772693634, -0.021252742037177086, -0.029336385428905487, 0.008234212175011635, 0.06491666287183762, -0.011507592163980007, -0.027485879138112068, -0.0010896697640419006, -0.058400072157382965, -0.04308955743908882, -0.033634211868047714, 0.003915798384696245, -0.03975572809576988, 0.0029012474697083235, -0.0016156513011083007, 0.000964718812610954, 0.0003977034939453006, -0.012364940717816353, -0.03228028118610382, -0.023822814226150513, -0.00033228061511181295, 0.007400372996926308, 0.01065957359969616, -0.005914894863963127, -0.0026338251773267984, 0.053123973309993744, -0.01630663126707077, -0.0007525741239078343, -0.006595194339752197, -0.016845058649778366, 0.016437998041510582, -0.014026928693056107, 0.005220073275268078, 0.062157128006219864, -0.019017336890101433, -0.0027857585810124874, -0.040607765316963196, -0.09507346153259277, 0.007290888112038374, -0.08390320837497711, -0.021263305097818375, 0.043738484382629395, -0.08593825250864029, -0.022611144930124283, 0.02952529303729534, 0.07872507721185684, 0.04063428193330765, 0.014008930884301662, -0.04782544821500778, 0.009070289321243763, 0.023830009624361992, 0.04459067061543465, -0.024168964475393295, 0.04741935804486275, 0.02279687486588955, 0.038935936987400055, -0.02725069969892502, 0.022089526057243347, -0.026085348799824715, 0.00034621485974639654, 0.002703568432480097, 0.011895793490111828, -0.044564228504896164, 0.08754469454288483, -0.045459896326065063, 0.012818319723010063, -0.020718485116958618, -0.00740158511325717, 0.009241070598363876, 0.014282852411270142, -0.007565019652247429, -0.022429540753364563, 0.027209676802158356, 0.03660063073039055, -0.002342518651857972, -0.016486739739775658, -0.014806234277784824, -0.007795232813805342, -0.008991802111268044, -0.017745956778526306, 0.1269562989473343, -0.009273284114897251, 0.006004003342241049, 0.017539462074637413, -0.00026957434602081776, 0.02982279844582081, 0.024608425796031952, -0.06510620564222336, 0.019526757299900055, 0.019527561962604523, 0.041610464453697205, -0.007090630941092968, 0.020172296091914177, 0.018296046182513237, 0.016942350193858147, 0.036402393132448196, 0.04638633877038956, 0.030153023079037666, -0.0736684501171112, 0.033458925783634186, -0.06188362091779709, 0.02536984346807003, 0.0295772235840559, -0.04738175496459007, 0.01554942037910223, 0.04262936860322952, 0.05328097194433212, 0.028666017577052116, -0.005063401535153389, -0.0176874790340662, 0.017870837822556496, -0.008908241987228394, 0.032084111124277115, -0.021380072459578514, 0.00692287040874362, 0.05844727158546448, -0.05042783170938492, -0.015237199142575264, -0.012259703129529953, -0.04996306076645851, 0.007715660613030195, -0.007754535414278507, -0.00022509045084007084, -0.019376123324036598, -0.026388557627797127, 0.02568851225078106, 0.012939351610839367, 0.0319448821246624, 0.020908884704113007, -0.10213732719421387, -0.0010353663237765431, -0.0323849655687809, 0.002925498876720667, 0.020432399585843086, 0.013871761970221996, -0.009834172204136848, -0.018646977841854095, -0.039017222821712494, 0.008654922246932983, -0.03818132355809212, -0.0017879053484648466, 0.026083486154675484, 0.10175590217113495, -0.018679140135645866, -0.0019292909419164062, 0.023320747539401054, -0.014771166257560253, 0.01907389797270298, 0.02409432642161846, 0.004978122655302286, -0.05457878112792969, -0.03521674871444702, 0.006194391753524542, 0.0006223802920430899, -0.027128122746944427, 0.01615176536142826, 0.009191209450364113, -0.06517607718706131, 0.029494918882846832, 0.0065538096241652966, 0.1083759069442749, 0.009395256638526917, -0.039439134299755096, 0.02453531324863434, 0.001619820250198245, -0.07214383035898209, -0.04389335587620735, 0.09725173562765121, 0.04755821079015732, -0.016022928059101105, -0.02566111460328102, -0.009782026521861553, -0.0008355930913239717, -0.01680665649473667, -0.03450349345803261, -0.027399100363254547, -0.07180481404066086, 0.020112110301852226, 0.022673895582556725, 0.009177453815937042, 0.007157580461353064, -0.030052458867430687, -0.01185081247240305, -0.000496489112265408, 0.027096668258309364, -0.04039992392063141, -0.020222853869199753, -0.015322876162827015, -0.003668719669803977, 0.0021292564924806356, -0.00981062650680542, -0.00774095905944705, 0.043471138924360275, 0.0031224607955664396, -0.05752400681376457, -0.008509584702551365, -0.015800876542925835, -0.020654937252402306, -0.0305087398737669, -0.04468240216374397, 0.0003808341862168163, -0.015460123308002949, 0.0356740728020668, 0.01832151785492897, -0.07448820769786835, -0.008211004547774792, -0.0039985645562410355, 0.005573465023189783, 0.025994932278990746, -0.08507418632507324, -0.05605897307395935, -0.03941876441240311, 0.015856901183724403, -0.03146412968635559, 0.020379573106765747, -0.048490628600120544, -0.0025046449154615402, 0.03822273015975952, -0.06228300556540489, -0.04527908191084862, 0.01464055385440588, -0.0003501454193610698, 0.006910130847245455, -0.008641129359602928, 0.04530411958694458, 0.04636480659246445, 0.0003820806450676173, 0.02650250308215618, 0.02723544090986252, -0.019714703783392906, -0.015726251527667046, 0.00965337734669447, 0.01769271120429039, 0.003216730896383524, 0.038800567388534546, -0.014382936991751194, 0.02978072687983513, 0.019909769296646118, 0.0001883264194475487, 0.02206079103052616, 0.04300757870078087, -0.003306106897071004, 0.03662855923175812, 0.03712708130478859, 0.015046849846839905, -0.012658374384045601, -0.022196443751454353, -0.033085547387599945, -0.04451259598135948, 0.025505272671580315, 0.052377961575984955, 0.015422578901052475, -0.03061622753739357, 0.0379667729139328, -0.03882317245006561, -0.01955478824675083, -0.03526952490210533, -0.08159995079040527, 0.008421268314123154, 0.0034779529087245464, 0.06286720186471939, 0.025288185104727745, 0.006484341342002153, 0.027972951531410217, -0.010323751717805862, 0.010772994719445705, -0.024123674258589745, 0.08765274286270142, 0.04823076352477074, 0.0057517606765031815, -0.01400774996727705, 0.013740488328039646, -0.02101406268775463, 0.020780520513653755, -0.016437700018286705, 0.047746915370225906, -0.010871948674321175, -0.03174611181020737, -0.022490035742521286, 0.03923119604587555, -0.0005746622337028384, -0.035929154604673386, 0.03649473935365677, -0.02971639670431614, 0.007453112863004208, 0.005876569077372551, -0.01872839219868183, 0.01419044565409422, 0.045014388859272, -0.008667021058499813, -0.00880808662623167, 0.08162514120340347, -0.05922047421336174, -0.01229772623628378, 0.07852590829133987, 0.008727007545530796, -0.013347460888326168, 0.0014921630499884486, 0.045106660574674606, -0.011737614870071411, -0.04428737983107567, -0.04275815561413765, 0.01758367381989956, 0.056655123829841614, -0.03552566468715668, -0.0014576344983652234, -0.017581602558493614, 0.012836024165153503, -0.02851935662329197, -0.014588813297450542, -0.019268009811639786, 0.022939421236515045, -0.12597313523292542, -0.013881748542189598, 0.018043797463178635, 0.023153426125645638, -0.028674913570284843, 0.030405497178435326, -0.07381505519151688, -0.013588774017989635, -0.026272250339388847, 0.042793601751327515, 0.03796272724866867, -0.022223124280571938, 0.03610574081540108, 0.026981543749570847, 0.04398009181022644, -0.10740315169095993, 0.03666943684220314, 0.015618627890944481, -0.060817260295152664, -0.01831226795911789, 0.008831874467432499, 0.010165148414671421, 0.015061029233038425, -0.019594697281718254, -0.01686820760369301, -0.0731240063905716, 0.007495740428566933, 0.04304792359471321, -0.025049865245819092, -0.0017000362277030945, 0.06603805720806122, 0.0117636788636446, -0.03995978459715843, 0.0019467208767309785, -0.004660082049667835, 0.02588091790676117, 0.021221885457634926, 0.00030474705272354186, -0.013368800282478333, -0.015377302654087543, -0.024896156042814255, -0.01986766792833805, 0.018505236133933067, 0.0036602974869310856, -0.00012186235835542902, -0.07071241736412048, -0.011344131082296371, -0.0009741013054735959, 0.03921530023217201, 0.01387874223291874, 0.03559994697570801, 0.0394570529460907, 0.03578351065516472, -0.046100273728370667, 0.012841079384088516, 0.0063655078411102295, -0.09945908933877945, -0.029636729508638382, -0.0360635481774807, 0.00021422766440082341, -0.01970997452735901, -0.10449044406414032, 0.061822306364774704, 0.0011641123564913869, -0.00020779336045961827, 0.06526227295398712, -0.0330476388335228, 0.07443614304065704, 7.011552224867046e-05, 0.019884521141648293, -0.01748010888695717, 0.045975156128406525, 0.009348363615572453, 0.009788891300559044, -0.06112668663263321, -0.007743120659142733, -0.01869422197341919, 0.049948882311582565, -0.008583352901041508, 0.046131253242492676, 0.011257994920015335, 0.06901834160089493, 0.024278417229652405, -0.02265837974846363, 0.005888026207685471, -0.04885802045464516, -0.04773899167776108, 0.0190302561968565, -0.019655277952551842, 0.07349973171949387, 0.00256264372728765, 0.1223369836807251, -0.0037343474105000496, -0.07938199490308762, 0.03458704426884651, 0.03262823447585106, -0.0020091217011213303, -0.005040834192186594, -0.02115110121667385, -0.020016921684145927, 0.07370074838399887, -0.008506231009960175, -0.019413810223340988, -0.00031612743623554707, -6.89983078243226e-33, 0.0266590379178524, 0.04942205548286438, -0.02347877435386181, 0.004617171362042427, -0.04110841080546379, 0.02442428469657898, -0.018456174060702324, -0.03527991846203804, -0.060507092624902725, -0.007838921621441841, -0.0385940857231617, -0.036898173391819, 0.029043059796094894, -0.023775814101099968, 0.03352590650320053, -0.0416935570538044, -0.03299863636493683, -0.05122717097401619, 0.0007631764165125787, 0.0016356203705072403, 0.00956792663782835, 0.018591929227113724, 0.06658028066158295, 0.030347030609846115, 0.025590792298316956, 0.035507287830114365, -0.024012167006731033, 0.05002879723906517, -0.016141999512910843, -0.05217308923602104, 0.02661152184009552, -0.04597092792391777, -0.01067650318145752, 0.007845111191272736, 0.03003031387925148, -0.07319013774394989, -0.02807721309363842, 0.015709320083260536, -0.02324512228369713, -0.016515986993908882, -0.058280766010284424, 0.015066772699356079, -0.018432509154081345, 0.0031763010192662477, -0.011103306896984577, -0.03275544196367264, -0.025512512773275375, -0.03938552364706993, -0.07753436267375946, -0.08844873309135437, -0.02572494186460972, -0.010662100277841091, -0.047024037688970566, 0.03395671769976616, 0.04726240038871765, 0.010787398554384708, 0.039491090923547745, 0.02120128646492958, -0.03880469873547554, 0.013556255958974361, -0.03743217512965202, 0.06193274259567261, 0.006530397105962038, -0.04326154664158821, 0.03292730078101158, -0.002420778851956129, 0.06757768243551254, 0.03981122002005577, 0.006567433942109346, 0.06689996272325516, 0.005724463611841202, 0.011213285848498344, -0.04263231158256531, 0.03626313805580139, -0.03309108689427376, -0.10467427223920822, -0.058223117142915726, 0.030940484255552292, 0.0970466211438179, 0.08210617303848267, 0.020343737676739693, -0.040067385882139206, 0.014095650985836983, 0.02865656279027462, 0.033163584768772125, -0.03355156257748604, -0.013235657475888729, 0.01876053959131241, -2.7938367566093802e-05, -0.03521372377872467, 0.025611812248826027, -0.023421740159392357, -0.013101223856210709, 0.024126632139086723, -0.0557466596364975, -0.027229296043515205, 0.01991366222500801, 0.04927018657326698, -0.018729323521256447, -0.008150766603648663, 0.0418713241815567, -0.06486766040325165, -0.028785964474081993, 0.018630029633641243, 0.03436422720551491, -0.04062404856085777, 0.0012000512797385454, 0.010386422276496887, -0.025869712233543396, -0.041399650275707245, 0.006428803317248821, 0.04938347265124321, 0.05002486705780029, 0.0019162134267389774, -0.020970642566680908, -0.021826503798365593, 0.0014451106544584036, -0.00425152201205492, 0.009934009052813053, 0.010503659024834633, 0.08437981456518173, 0.02663644775748253, -0.013095803558826447, 0.06429284065961838, -0.032371021807193756, 0.00984695553779602, 0.04018597677350044, 0.018556566908955574, -0.019534174352884293, 0.05398281663656235, 0.01233805250376463, -0.02420678734779358, 2.6061633207064006e-07, -0.008210457861423492, 0.0004963085521012545, -0.007436669431626797, -0.04537419602274895, -0.0029673008248209953, -0.03157193586230278, -0.044015370309352875, 0.022572722285985947, -0.028455963358283043, -0.012245656922459602, 0.019433364272117615, -0.004380637314170599, 0.027943305671215057, -0.02643648162484169, -0.01743772067129612, -0.002036393852904439, -0.024959543719887733, -0.030185991898179054, 0.028293291106820107, 0.009625697508454323, 0.0277422983199358, 0.011872606351971626, 0.05566608905792236, 0.00876526813954115, -0.020077822729945183, -0.02134871855378151, -0.01227632537484169, -0.05497574061155319, -0.04092531278729439, -0.015459668822586536, 0.007461961824446917, -0.0032884276006370783, -0.017379088327288628, 0.00018456550606060773, 0.037436265498399734, -0.0524093322455883, 0.0090662045404315, -0.022021785378456116, 0.0031094166915863752, 0.010013947263360023, -0.033447228372097015, -0.00592542951926589, 0.006772634573280811, -0.028762955218553543, 0.05817856639623642, 0.045416343957185745, -0.03702627494931221, -0.0032965063583105803, -0.0694342851638794, 0.043081704527139664, 0.04104301705956459, 0.06921153515577316, -0.009245248511433601, 0.0219684150069952, 0.0049873534590005875, -0.026561981067061424, -0.011823077686131, -0.009786248207092285, -0.003018386662006378, -0.01342016737908125, -0.01648671180009842, -0.034712981432676315, 0.00962116103619337, 0.050855595618486404, 0.048742253333330154, 0.0033077450934797525, -0.011474703438580036, 2.1348286066752993e-34, -0.005740173626691103, 0.018952131271362305, -0.003689719829708338, 0.016961777582764626, -0.0252514760941267, -0.0019196287030354142, 0.0686345100402832, -0.022694112733006477, 0.00022262019047047943, -0.014604202471673489, -0.03246445581316948]}\n"
     ]
    }
   ],
   "source": [
    "for hit in response[\"hits\"][\"hits\"]:\n",
    "    print(hit['_source'])"
   ]
  }
 ],
 "metadata": {
  "kernelspec": {
   "display_name": "llm-zoomcamp-18Y2mSdS",
   "language": "python",
   "name": "python3"
  },
  "language_info": {
   "codemirror_mode": {
    "name": "ipython",
    "version": 3
   },
   "file_extension": ".py",
   "mimetype": "text/x-python",
   "name": "python",
   "nbconvert_exporter": "python",
   "pygments_lexer": "ipython3",
   "version": "3.10.12"
  }
 },
 "nbformat": 4,
 "nbformat_minor": 2
}
